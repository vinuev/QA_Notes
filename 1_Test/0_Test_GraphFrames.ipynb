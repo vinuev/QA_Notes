{
 "cells": [
  {
   "cell_type": "code",
   "execution_count": 1,
   "metadata": {
    "scrolled": true
   },
   "outputs": [
    {
     "data": {
      "text/html": [
       "\n",
       "        <div>\n",
       "            <p><b>SparkContext</b></p>\n",
       "\n",
       "            <p><a href=\"http://192.168.1.9:4040\">Spark UI</a></p>\n",
       "\n",
       "            <dl>\n",
       "              <dt>Version</dt>\n",
       "                <dd><code>v2.4.1</code></dd>\n",
       "              <dt>Master</dt>\n",
       "                <dd><code>local[*]</code></dd>\n",
       "              <dt>AppName</dt>\n",
       "                <dd><code>PySparkShell</code></dd>\n",
       "            </dl>\n",
       "        </div>\n",
       "        "
      ],
      "text/plain": [
       "<SparkContext master=local[*] appName=PySparkShell>"
      ]
     },
     "execution_count": 1,
     "metadata": {},
     "output_type": "execute_result"
    }
   ],
   "source": [
    "sc"
   ]
  },
  {
   "cell_type": "code",
   "execution_count": 2,
   "metadata": {},
   "outputs": [
    {
     "data": {
      "text/plain": [
       "<pyspark.sql.context.SQLContext at 0x107986ad0>"
      ]
     },
     "execution_count": 2,
     "metadata": {},
     "output_type": "execute_result"
    }
   ],
   "source": [
    "sqlContext"
   ]
  },
  {
   "cell_type": "code",
   "execution_count": 3,
   "metadata": {},
   "outputs": [
    {
     "name": "stdout",
     "output_type": "stream",
     "text": [
      "2.4.1\n"
     ]
    }
   ],
   "source": [
    "print(sc.version)"
   ]
  },
  {
   "cell_type": "markdown",
   "metadata": {},
   "source": [
    "# On-Time Flight Performance with GraphFrames for Apache Spark\n",
    "\n",
    "    0. Preparation\n",
    "    1. Building the Graph\n",
    "    2. Simple Queries\n",
    "        2.1 Determine the number of airports and trips\n",
    "        2.2 Determining the longest delay in this dataset\n",
    "        2.3 Determining the number of delayed vs. on-time / early flights\n",
    "        2.4 What flights departing SEA are most likely to have significant delays\n",
    "        2.5 What destinations tend to have delays\n",
    "        2.6 What destinations tend to have significant delays departing from SEA\n",
    "    3. Vertex Degrees\n",
    "    4. City / Flight Relationships through Motif Finding\n",
    "        4.1 What delays might we blame on SFO\n",
    "    5. Determining Airport Ranking using PageRank\n",
    "    6. Most popular flights (single city hops)\n",
    "    7. Top Transfer Cities\n",
    "    8. Breadth First Search \n",
    "    9. Loading the D3 Visualization\n",
    "    \n",
    "    References: \n",
    "   * [GraphFrames Github](https://github.com/drabastomek/learningPySpark/blob/master/Chapter07/LearningPySpark_Chapter07.ipynb)"
   ]
  },
  {
   "cell_type": "markdown",
   "metadata": {},
   "source": [
    "### 0. Preparation\n",
    "Extract the Airports and Departure Delays information from S3 / DBFS"
   ]
  },
  {
   "cell_type": "code",
   "execution_count": 4,
   "metadata": {
    "collapsed": true
   },
   "outputs": [],
   "source": [
    "from IPython.display import display"
   ]
  },
  {
   "cell_type": "code",
   "execution_count": 5,
   "metadata": {
    "collapsed": true
   },
   "outputs": [],
   "source": [
    "# Set File Paths\n",
    "# tripdelaysFilePath = \"/databricks-datasets/flights/departuredelays.csv\"\n",
    "# airportsnaFilePath = \"/databricks-datasets/flights/airport-codes-na.txt\"\n",
    "tripdelaysFilePath = \"/Users/jeanxu/Documents/UniLU/0_MasterThesis/6_Test/learningPySpark-master/Data/departuredelays.csv\"\n",
    "airportsnaFilePath = \"/Users/jeanxu/Documents/UniLU/0_MasterThesis/6_Test/learningPySpark-master/Data/airport-codes-na.txt\"\n"
   ]
  },
  {
   "cell_type": "code",
   "execution_count": 6,
   "metadata": {},
   "outputs": [
    {
     "data": {
      "text/plain": [
       "DataFrame[IATA: string, City: string, State: string, Country: string]"
      ]
     },
     "execution_count": 6,
     "metadata": {},
     "output_type": "execute_result"
    }
   ],
   "source": [
    "\n",
    "# Obtain airports dataset\n",
    "airportsna = spark.read.csv(airportsnaFilePath, header='true', inferSchema='true', sep='\\t')\n",
    "airportsna.createOrReplaceTempView(\"airports_na\")\n",
    "\n",
    "# Obtain departure Delays data\n",
    "departureDelays = spark.read.csv(tripdelaysFilePath, header='true')\n",
    "departureDelays.createOrReplaceTempView(\"departureDelays\")\n",
    "departureDelays.cache()\n",
    "\n",
    "# Available IATA codes from the departuredelays sample dataset\n",
    "tripIATA = spark.sql(\"select distinct iata from (select distinct origin as iata from departureDelays union all select distinct destination as iata from departureDelays) a\")\n",
    "tripIATA.createOrReplaceTempView(\"tripIATA\")\n",
    "\n",
    "# Only include airports with atleast one trip from the departureDelays dataset\n",
    "airports = spark.sql(\"select f.IATA, f.City, f.State, f.Country from airports_na f join tripIATA t on t.IATA = f.IATA\")\n",
    "airports.createOrReplaceTempView(\"airports\")\n",
    "airports.cache()"
   ]
  },
  {
   "cell_type": "code",
   "execution_count": 7,
   "metadata": {},
   "outputs": [
    {
     "data": {
      "text/plain": [
       "1391578"
      ]
     },
     "execution_count": 7,
     "metadata": {},
     "output_type": "execute_result"
    }
   ],
   "source": [
    "departureDelays.count()"
   ]
  },
  {
   "cell_type": "code",
   "execution_count": 8,
   "metadata": {},
   "outputs": [
    {
     "data": {
      "text/plain": [
       "1361141"
      ]
     },
     "execution_count": 8,
     "metadata": {},
     "output_type": "execute_result"
    }
   ],
   "source": [
    "# Build `departureDelays_geo` DataFrame\n",
    "#  Obtain key attributes such as Date of flight, delays, distance, and airport information (Origin, Destination)  \n",
    "departureDelays_geo = spark.sql(\"select cast(f.date as int) as tripid, cast(concat(concat(concat(concat(concat(concat('2014-', concat(concat(substr(cast(f.date as string), 1, 2), '-')), substr(cast(f.date as string), 3, 2)), ' '), substr(cast(f.date as string), 5, 2)), ':'), substr(cast(f.date as string), 7, 2)), ':00') as timestamp) as `localdate`, cast(f.delay as int), cast(f.distance as int), f.origin as src, f.destination as dst, o.city as city_src, d.city as city_dst, o.state as state_src, d.state as state_dst from departuredelays f join airports o on o.iata = f.origin join airports d on d.iata = f.destination\") \n",
    "\n",
    "# Create Temporary View and cache\n",
    "departureDelays_geo.createOrReplaceTempView(\"departureDelays_geo\")\n",
    "departureDelays_geo.cache()\n",
    "\n",
    "# Count\n",
    "departureDelays_geo.count()"
   ]
  },
  {
   "cell_type": "code",
   "execution_count": 9,
   "metadata": {},
   "outputs": [
    {
     "name": "stdout",
     "output_type": "stream",
     "text": [
      "+-------+-------------------+-----+--------+---+---+-----------+-------------------+---------+---------+\n",
      "| tripid|          localdate|delay|distance|src|dst|   city_src|           city_dst|state_src|state_dst|\n",
      "+-------+-------------------+-----+--------+---+---+-----------+-------------------+---------+---------+\n",
      "|1011111|2014-01-01 11:11:00|   -5|     221|MSP|INL|Minneapolis|International Falls|       MN|       MN|\n",
      "|1021111|2014-01-02 11:11:00|    7|     221|MSP|INL|Minneapolis|International Falls|       MN|       MN|\n",
      "|1031111|2014-01-03 11:11:00|    0|     221|MSP|INL|Minneapolis|International Falls|       MN|       MN|\n",
      "|1041925|2014-01-04 19:25:00|    0|     221|MSP|INL|Minneapolis|International Falls|       MN|       MN|\n",
      "|1061115|2014-01-06 11:15:00|   33|     221|MSP|INL|Minneapolis|International Falls|       MN|       MN|\n",
      "|1071115|2014-01-07 11:15:00|   23|     221|MSP|INL|Minneapolis|International Falls|       MN|       MN|\n",
      "|1081115|2014-01-08 11:15:00|   -9|     221|MSP|INL|Minneapolis|International Falls|       MN|       MN|\n",
      "|1091115|2014-01-09 11:15:00|   11|     221|MSP|INL|Minneapolis|International Falls|       MN|       MN|\n",
      "|1101115|2014-01-10 11:15:00|   -3|     221|MSP|INL|Minneapolis|International Falls|       MN|       MN|\n",
      "|1112015|2014-01-11 20:15:00|   -7|     221|MSP|INL|Minneapolis|International Falls|       MN|       MN|\n",
      "+-------+-------------------+-----+--------+---+---+-----------+-------------------+---------+---------+\n",
      "only showing top 10 rows\n",
      "\n"
     ]
    }
   ],
   "source": [
    "# Review the top 10 rows of the `departureDelays_geo` DataFrame\n",
    "departureDelays_geo.show(10)"
   ]
  },
  {
   "cell_type": "code",
   "execution_count": 10,
   "metadata": {},
   "outputs": [
    {
     "data": {
      "text/plain": [
       "DataFrame[tripid: int, localdate: timestamp, delay: int, distance: int, src: string, dst: string, city_src: string, city_dst: string, state_src: string, state_dst: string]"
      ]
     },
     "metadata": {},
     "output_type": "display_data"
    }
   ],
   "source": [
    "# Using `display` to view the data\n",
    "display(departureDelays_geo)"
   ]
  },
  {
   "cell_type": "markdown",
   "metadata": {},
   "source": [
    "## 1. Building the Graph\n",
    "Now that we've imported our data, we're going to need to build our graph. To do so we're going to do two things: we are going to build the structure of the vertices (or nodes) and we're going to build the structure of the edges. What's awesome about GraphFrames is that this process is incredibly simple. \n",
    "* Rename IATA airport code to **id** in the Vertices Table\n",
    "* Start and End airports to **src** and **dst** for the Edges Table (flights)\n",
    "\n",
    "These are required naming conventions for vertices and edges in GraphFrames as of the time of this writing (Feb. 2016).\n",
    "\n",
    "**WARNING:** If the graphframes package, required in the cell below, is not installed, follow the instructions [here](http://cdn2.hubspot.net/hubfs/438089/notebooks/help/Setup_graphframes_package.html). \n",
    "\n",
    "Here we use **pip install graphframes**"
   ]
  },
  {
   "cell_type": "code",
   "execution_count": 11,
   "metadata": {
    "collapsed": true
   },
   "outputs": [],
   "source": [
    "# Note, ensure you have already installed the GraphFrames spack-package\n",
    "from pyspark.sql.functions import *\n",
    "from graphframes import *\n"
   ]
  },
  {
   "cell_type": "code",
   "execution_count": 13,
   "metadata": {},
   "outputs": [
    {
     "data": {
      "text/plain": [
       "DataFrame[id: string, City: string, State: string, Country: string]"
      ]
     },
     "execution_count": 13,
     "metadata": {},
     "output_type": "execute_result"
    }
   ],
   "source": [
    "\n",
    "# Create Vertices (airports) and Edges (flights)\n",
    "tripVertices = airports.withColumnRenamed(\"IATA\", \"id\").distinct()\n",
    "tripEdges = departureDelays_geo.select(\"tripid\", \"delay\", \"src\", \"dst\", \"city_dst\", \"state_dst\")\n",
    "\n",
    "# Cache Vertices and Edges\n",
    "tripEdges.cache()\n",
    "tripVertices.cache()"
   ]
  },
  {
   "cell_type": "code",
   "execution_count": 14,
   "metadata": {},
   "outputs": [
    {
     "data": {
      "text/plain": [
       "DataFrame[id: string, City: string, State: string, Country: string]"
      ]
     },
     "metadata": {},
     "output_type": "display_data"
    }
   ],
   "source": [
    "# Vertices\n",
    "#   The vertices of our graph are the airports\n",
    "display(tripVertices)"
   ]
  },
  {
   "cell_type": "code",
   "execution_count": 36,
   "metadata": {},
   "outputs": [
    {
     "name": "stdout",
     "output_type": "stream",
     "text": [
      "+---+----------------+-----+-------+\n",
      "| id|            City|State|Country|\n",
      "+---+----------------+-----+-------+\n",
      "|FAT|          Fresno|   CA|    USA|\n",
      "|CMH|        Columbus|   OH|    USA|\n",
      "|PHX|         Phoenix|   AZ|    USA|\n",
      "|PAH|         Paducah|   KY|    USA|\n",
      "|COS|Colorado Springs|   CO|    USA|\n",
      "|MYR|    Myrtle Beach|   SC|    USA|\n",
      "|RNO|            Reno|   NV|    USA|\n",
      "|SRQ|        Sarasota|   FL|    USA|\n",
      "|VLD|        Valdosta|   GA|    USA|\n",
      "|PSC|           Pasco|   WA|    USA|\n",
      "|BPT|        Beaumont|   TX|    USA|\n",
      "|CAE|        Columbia|   SC|    USA|\n",
      "|LAX|     Los Angeles|   CA|    USA|\n",
      "|DAY|          Dayton|   OH|    USA|\n",
      "|AVP|    Wilkes-Barre|   PA|    USA|\n",
      "|MFR|         Medford|   OR|    USA|\n",
      "|JFK|        New York|   NY|    USA|\n",
      "|LAS|       Las Vegas|   NV|    USA|\n",
      "|BNA|       Nashville|   TN|    USA|\n",
      "|CLT|       Charlotte|   NC|    USA|\n",
      "+---+----------------+-----+-------+\n",
      "only showing top 20 rows\n",
      "\n"
     ]
    }
   ],
   "source": [
    "tripVertices.show()"
   ]
  },
  {
   "cell_type": "code",
   "execution_count": 15,
   "metadata": {},
   "outputs": [
    {
     "data": {
      "text/plain": [
       "DataFrame[tripid: int, delay: int, src: string, dst: string, city_dst: string, state_dst: string]"
      ]
     },
     "metadata": {},
     "output_type": "display_data"
    }
   ],
   "source": [
    "# Edges\n",
    "#  The edges of our graph are the flights between airports\n",
    "display(tripEdges)"
   ]
  },
  {
   "cell_type": "code",
   "execution_count": 37,
   "metadata": {},
   "outputs": [
    {
     "name": "stdout",
     "output_type": "stream",
     "text": [
      "+-------+-----+---+---+-------------------+---------+\n",
      "| tripid|delay|src|dst|           city_dst|state_dst|\n",
      "+-------+-----+---+---+-------------------+---------+\n",
      "|1011111|   -5|MSP|INL|International Falls|       MN|\n",
      "|1021111|    7|MSP|INL|International Falls|       MN|\n",
      "|1031111|    0|MSP|INL|International Falls|       MN|\n",
      "|1041925|    0|MSP|INL|International Falls|       MN|\n",
      "|1061115|   33|MSP|INL|International Falls|       MN|\n",
      "|1071115|   23|MSP|INL|International Falls|       MN|\n",
      "|1081115|   -9|MSP|INL|International Falls|       MN|\n",
      "|1091115|   11|MSP|INL|International Falls|       MN|\n",
      "|1101115|   -3|MSP|INL|International Falls|       MN|\n",
      "|1112015|   -7|MSP|INL|International Falls|       MN|\n",
      "|1121925|   -5|MSP|INL|International Falls|       MN|\n",
      "|1131115|   -3|MSP|INL|International Falls|       MN|\n",
      "|1141115|   -6|MSP|INL|International Falls|       MN|\n",
      "|1151115|   -7|MSP|INL|International Falls|       MN|\n",
      "|1161115|   -3|MSP|INL|International Falls|       MN|\n",
      "|1171115|    4|MSP|INL|International Falls|       MN|\n",
      "|1182015|   -5|MSP|INL|International Falls|       MN|\n",
      "|1191925|   -7|MSP|INL|International Falls|       MN|\n",
      "|1201115|   -6|MSP|INL|International Falls|       MN|\n",
      "|1211115|    0|MSP|INL|International Falls|       MN|\n",
      "+-------+-----+---+---+-------------------+---------+\n",
      "only showing top 20 rows\n",
      "\n"
     ]
    }
   ],
   "source": [
    "tripEdges.show()"
   ]
  },
  {
   "cell_type": "code",
   "execution_count": 16,
   "metadata": {
    "scrolled": true
   },
   "outputs": [],
   "source": [
    "# Build `tripGraph` GraphFrame\n",
    "#  This GraphFrame builds up on the vertices and edges based on our trips (flights)\n",
    "tripGraph = GraphFrame(tripVertices, tripEdges)\n"
   ]
  },
  {
   "cell_type": "code",
   "execution_count": 17,
   "metadata": {},
   "outputs": [
    {
     "name": "stdout",
     "output_type": "stream",
     "text": [
      "GraphFrame(v:[id: string, City: string ... 2 more fields], e:[src: string, dst: string ... 4 more fields])\n"
     ]
    }
   ],
   "source": [
    "print tripGraph\n"
   ]
  },
  {
   "cell_type": "code",
   "execution_count": 18,
   "metadata": {
    "collapsed": true
   },
   "outputs": [],
   "source": [
    "\n",
    "# Build `tripGraphPrime` GraphFrame\n",
    "#   This graphframe contains a smaller subset of data to make it easier to display motifs and subgraphs (below)\n",
    "tripEdgesPrime = departureDelays_geo.select(\"tripid\", \"delay\", \"src\", \"dst\")\n",
    "tripGraphPrime = GraphFrame(tripVertices, tripEdgesPrime)"
   ]
  },
  {
   "cell_type": "code",
   "execution_count": 39,
   "metadata": {},
   "outputs": [
    {
     "name": "stdout",
     "output_type": "stream",
     "text": [
      "+-------+-----+---+---+\n",
      "| tripid|delay|src|dst|\n",
      "+-------+-----+---+---+\n",
      "|1011111|   -5|MSP|INL|\n",
      "|1021111|    7|MSP|INL|\n",
      "|1031111|    0|MSP|INL|\n",
      "|1041925|    0|MSP|INL|\n",
      "|1061115|   33|MSP|INL|\n",
      "|1071115|   23|MSP|INL|\n",
      "|1081115|   -9|MSP|INL|\n",
      "|1091115|   11|MSP|INL|\n",
      "|1101115|   -3|MSP|INL|\n",
      "|1112015|   -7|MSP|INL|\n",
      "|1121925|   -5|MSP|INL|\n",
      "|1131115|   -3|MSP|INL|\n",
      "|1141115|   -6|MSP|INL|\n",
      "|1151115|   -7|MSP|INL|\n",
      "|1161115|   -3|MSP|INL|\n",
      "|1171115|    4|MSP|INL|\n",
      "|1182015|   -5|MSP|INL|\n",
      "|1191925|   -7|MSP|INL|\n",
      "|1201115|   -6|MSP|INL|\n",
      "|1211115|    0|MSP|INL|\n",
      "+-------+-----+---+---+\n",
      "only showing top 20 rows\n",
      "\n"
     ]
    }
   ],
   "source": [
    "tripEdgesPrime.show()"
   ]
  },
  {
   "cell_type": "code",
   "execution_count": 41,
   "metadata": {},
   "outputs": [
    {
     "name": "stdout",
     "output_type": "stream",
     "text": [
      "+-------+-----+---+---+\n",
      "| tripid|delay|src|dst|\n",
      "+-------+-----+---+---+\n",
      "|1011111|   -5|MSP|INL|\n",
      "|1021111|    7|MSP|INL|\n",
      "|1031111|    0|MSP|INL|\n",
      "|1041925|    0|MSP|INL|\n",
      "|1061115|   33|MSP|INL|\n",
      "|1071115|   23|MSP|INL|\n",
      "|1081115|   -9|MSP|INL|\n",
      "|1091115|   11|MSP|INL|\n",
      "|1101115|   -3|MSP|INL|\n",
      "|1112015|   -7|MSP|INL|\n",
      "|1121925|   -5|MSP|INL|\n",
      "|1131115|   -3|MSP|INL|\n",
      "|1141115|   -6|MSP|INL|\n",
      "|1151115|   -7|MSP|INL|\n",
      "|1161115|   -3|MSP|INL|\n",
      "|1171115|    4|MSP|INL|\n",
      "|1182015|   -5|MSP|INL|\n",
      "|1191925|   -7|MSP|INL|\n",
      "|1201115|   -6|MSP|INL|\n",
      "|1211115|    0|MSP|INL|\n",
      "+-------+-----+---+---+\n",
      "only showing top 20 rows\n",
      "\n"
     ]
    }
   ],
   "source": [
    "tripGraphPrime.edges.show()"
   ]
  },
  {
   "cell_type": "code",
   "execution_count": 42,
   "metadata": {},
   "outputs": [
    {
     "name": "stdout",
     "output_type": "stream",
     "text": [
      "+---+----------------+-----+-------+\n",
      "| id|            City|State|Country|\n",
      "+---+----------------+-----+-------+\n",
      "|FAT|          Fresno|   CA|    USA|\n",
      "|CMH|        Columbus|   OH|    USA|\n",
      "|PHX|         Phoenix|   AZ|    USA|\n",
      "|PAH|         Paducah|   KY|    USA|\n",
      "|COS|Colorado Springs|   CO|    USA|\n",
      "|MYR|    Myrtle Beach|   SC|    USA|\n",
      "|RNO|            Reno|   NV|    USA|\n",
      "|SRQ|        Sarasota|   FL|    USA|\n",
      "|VLD|        Valdosta|   GA|    USA|\n",
      "|PSC|           Pasco|   WA|    USA|\n",
      "|BPT|        Beaumont|   TX|    USA|\n",
      "|CAE|        Columbia|   SC|    USA|\n",
      "|LAX|     Los Angeles|   CA|    USA|\n",
      "|DAY|          Dayton|   OH|    USA|\n",
      "|AVP|    Wilkes-Barre|   PA|    USA|\n",
      "|MFR|         Medford|   OR|    USA|\n",
      "|JFK|        New York|   NY|    USA|\n",
      "|LAS|       Las Vegas|   NV|    USA|\n",
      "|BNA|       Nashville|   TN|    USA|\n",
      "|CLT|       Charlotte|   NC|    USA|\n",
      "+---+----------------+-----+-------+\n",
      "only showing top 20 rows\n",
      "\n"
     ]
    }
   ],
   "source": [
    "tripGraphPrime.vertices.show()"
   ]
  },
  {
   "cell_type": "code",
   "execution_count": 23,
   "metadata": {},
   "outputs": [
    {
     "name": "stdout",
     "output_type": "stream",
     "text": [
      "+---+----------------+-----+-------+\n",
      "| id|            City|State|Country|\n",
      "+---+----------------+-----+-------+\n",
      "|FAT|          Fresno|   CA|    USA|\n",
      "|CMH|        Columbus|   OH|    USA|\n",
      "|PHX|         Phoenix|   AZ|    USA|\n",
      "|PAH|         Paducah|   KY|    USA|\n",
      "|COS|Colorado Springs|   CO|    USA|\n",
      "|MYR|    Myrtle Beach|   SC|    USA|\n",
      "|RNO|            Reno|   NV|    USA|\n",
      "|SRQ|        Sarasota|   FL|    USA|\n",
      "|VLD|        Valdosta|   GA|    USA|\n",
      "|PSC|           Pasco|   WA|    USA|\n",
      "+---+----------------+-----+-------+\n",
      "only showing top 10 rows\n",
      "\n"
     ]
    }
   ],
   "source": [
    "tripGraph.vertices.show(10)"
   ]
  },
  {
   "cell_type": "code",
   "execution_count": 25,
   "metadata": {},
   "outputs": [
    {
     "name": "stdout",
     "output_type": "stream",
     "text": [
      "+-------+-----+---+---+-------------------+---------+\n",
      "| tripid|delay|src|dst|           city_dst|state_dst|\n",
      "+-------+-----+---+---+-------------------+---------+\n",
      "|1011111|   -5|MSP|INL|International Falls|       MN|\n",
      "|1021111|    7|MSP|INL|International Falls|       MN|\n",
      "|1031111|    0|MSP|INL|International Falls|       MN|\n",
      "|1041925|    0|MSP|INL|International Falls|       MN|\n",
      "|1061115|   33|MSP|INL|International Falls|       MN|\n",
      "|1071115|   23|MSP|INL|International Falls|       MN|\n",
      "|1081115|   -9|MSP|INL|International Falls|       MN|\n",
      "|1091115|   11|MSP|INL|International Falls|       MN|\n",
      "|1101115|   -3|MSP|INL|International Falls|       MN|\n",
      "|1112015|   -7|MSP|INL|International Falls|       MN|\n",
      "+-------+-----+---+---+-------------------+---------+\n",
      "only showing top 10 rows\n",
      "\n"
     ]
    }
   ],
   "source": [
    "tripGraph.edges.show(10)"
   ]
  },
  {
   "cell_type": "markdown",
   "metadata": {},
   "source": [
    "## 2. Simple Queries\n",
    "Let's start with a set of simple graph queries to understand flight performance and departure delays\n",
    "\n",
    "#### 2.1 Determine the number of airports and trips"
   ]
  },
  {
   "cell_type": "code",
   "execution_count": 22,
   "metadata": {
    "scrolled": true
   },
   "outputs": [
    {
     "name": "stdout",
     "output_type": "stream",
     "text": [
      "Airports: 279\n",
      "Trips: 1361141\n"
     ]
    }
   ],
   "source": [
    "print \"Airports: %d\" % tripGraph.vertices.count()\n",
    "print \"Trips: %d\" % tripGraph.edges.count()"
   ]
  },
  {
   "cell_type": "markdown",
   "metadata": {},
   "source": [
    "#### 2.2 Determining the longest delay in this dataset"
   ]
  },
  {
   "cell_type": "code",
   "execution_count": 26,
   "metadata": {},
   "outputs": [
    {
     "name": "stdout",
     "output_type": "stream",
     "text": [
      "+----------+\n",
      "|max(delay)|\n",
      "+----------+\n",
      "|      1642|\n",
      "+----------+\n",
      "\n"
     ]
    }
   ],
   "source": [
    "tripGraph.edges.groupBy().max(\"delay\").show()"
   ]
  },
  {
   "cell_type": "code",
   "execution_count": 27,
   "metadata": {},
   "outputs": [
    {
     "data": {
      "text/plain": [
       "DataFrame[max(delay): int]"
      ]
     },
     "metadata": {},
     "output_type": "display_data"
    }
   ],
   "source": [
    "# Finding the longest Delay\n",
    "longestDelay = tripGraph.edges.groupBy().max(\"delay\")\n",
    "display(longestDelay)"
   ]
  },
  {
   "cell_type": "code",
   "execution_count": 29,
   "metadata": {},
   "outputs": [
    {
     "name": "stdout",
     "output_type": "stream",
     "text": [
      "+----------+\n",
      "|max(delay)|\n",
      "+----------+\n",
      "|      1642|\n",
      "+----------+\n",
      "\n"
     ]
    }
   ],
   "source": [
    "longestDelay.show()"
   ]
  },
  {
   "cell_type": "markdown",
   "metadata": {},
   "source": [
    "#### 2.3 Determining the number of delayed vs. on-time / early flights"
   ]
  },
  {
   "cell_type": "code",
   "execution_count": 31,
   "metadata": {},
   "outputs": [
    {
     "name": "stdout",
     "output_type": "stream",
     "text": [
      "On-time / Early Flights: 780469\n",
      "Delayed Flights: 580672\n"
     ]
    }
   ],
   "source": [
    "# Determining number of on-time / early flights vs. delayed flights\n",
    "print \"On-time / Early Flights: %d\" % tripGraph.edges.filter(\"delay <= 0\").count()\n",
    "print \"Delayed Flights: %d\" % tripGraph.edges.filter(\"delay > 0\").count()"
   ]
  },
  {
   "cell_type": "markdown",
   "metadata": {},
   "source": [
    "#### 2.4 What flights departing SEA are most likely to have significant delays\n",
    "Note, delay can be <= 0 meaning the flight left on time or early"
   ]
  },
  {
   "cell_type": "code",
   "execution_count": 32,
   "metadata": {},
   "outputs": [
    {
     "name": "stdout",
     "output_type": "stream",
     "text": [
      "+---+---+------------------+\n",
      "|src|dst|        avg(delay)|\n",
      "+---+---+------------------+\n",
      "|SEA|PHL|55.666666666666664|\n",
      "|SEA|COS| 43.53846153846154|\n",
      "|SEA|FAT| 43.03846153846154|\n",
      "|SEA|LGB| 39.39705882352941|\n",
      "|SEA|IAD|37.733333333333334|\n",
      "+---+---+------------------+\n",
      "only showing top 5 rows\n",
      "\n"
     ]
    }
   ],
   "source": [
    "tripGraph.edges\\\n",
    "  .filter(\"src = 'SEA' and delay > 0\")\\\n",
    "  .groupBy(\"src\", \"dst\")\\\n",
    "  .avg(\"delay\")\\\n",
    "  .sort(desc(\"avg(delay)\"))\\\n",
    "  .show(5)\n",
    "  "
   ]
  },
  {
   "cell_type": "code",
   "execution_count": 33,
   "metadata": {},
   "outputs": [
    {
     "data": {
      "text/plain": [
       "DataFrame[src: string, dst: string, avg(delay): double]"
      ]
     },
     "metadata": {},
     "output_type": "display_data"
    }
   ],
   "source": [
    "display(tripGraph.edges.filter(\"src = 'SEA' and delay > 0\").groupBy(\"src\", \"dst\").avg(\"delay\").sort(desc(\"avg(delay)\")))"
   ]
  },
  {
   "cell_type": "markdown",
   "metadata": {},
   "source": [
    "#### 2.5 What destinations tend to have delays"
   ]
  },
  {
   "cell_type": "code",
   "execution_count": 34,
   "metadata": {},
   "outputs": [
    {
     "data": {
      "text/plain": [
       "DataFrame[tripid: int, delay: int, src: string, dst: string, city_dst: string, state_dst: string]"
      ]
     },
     "metadata": {},
     "output_type": "display_data"
    }
   ],
   "source": [
    "# After displaying tripDelays, use Plot Options to set `state_dst` as a Key.\n",
    "tripDelays = tripGraph.edges.filter(\"delay > 0\")\n",
    "display(tripDelays)"
   ]
  },
  {
   "cell_type": "code",
   "execution_count": 35,
   "metadata": {},
   "outputs": [
    {
     "name": "stdout",
     "output_type": "stream",
     "text": [
      "+-------+-----+---+---+-------------------+---------+\n",
      "| tripid|delay|src|dst|           city_dst|state_dst|\n",
      "+-------+-----+---+---+-------------------+---------+\n",
      "|1021111|    7|MSP|INL|International Falls|       MN|\n",
      "|1061115|   33|MSP|INL|International Falls|       MN|\n",
      "|1071115|   23|MSP|INL|International Falls|       MN|\n",
      "|1091115|   11|MSP|INL|International Falls|       MN|\n",
      "|1171115|    4|MSP|INL|International Falls|       MN|\n",
      "|2091925|    1|MSP|INL|International Falls|       MN|\n",
      "|2152015|   16|MSP|INL|International Falls|       MN|\n",
      "|2161925|  169|MSP|INL|International Falls|       MN|\n",
      "|2171115|   27|MSP|INL|International Falls|       MN|\n",
      "|2181115|   96|MSP|INL|International Falls|       MN|\n",
      "|2281115|    5|MSP|INL|International Falls|       MN|\n",
      "|3031115|   17|MSP|INL|International Falls|       MN|\n",
      "|3171115|   25|MSP|INL|International Falls|       MN|\n",
      "|3181115|    2|MSP|INL|International Falls|       MN|\n",
      "|3271115|    9|MSP|INL|International Falls|       MN|\n",
      "|1011646|   71|IAH|MSY|        New Orleans|       LA|\n",
      "|1031519|  136|IAH|MSY|        New Orleans|       LA|\n",
      "|1042123|   37|IAH|MSY|        New Orleans|       LA|\n",
      "|1041529|   52|IAH|MSY|        New Orleans|       LA|\n",
      "|1051341|   79|IAH|MSY|        New Orleans|       LA|\n",
      "+-------+-----+---+---+-------------------+---------+\n",
      "only showing top 20 rows\n",
      "\n"
     ]
    }
   ],
   "source": [
    "tripDelays.show()"
   ]
  },
  {
   "cell_type": "markdown",
   "metadata": {},
   "source": [
    "#### 2.6 What destinations tend to have significant delays departing from SEA"
   ]
  },
  {
   "cell_type": "code",
   "execution_count": 43,
   "metadata": {},
   "outputs": [
    {
     "data": {
      "text/plain": [
       "DataFrame[tripid: int, delay: int, src: string, dst: string, city_dst: string, state_dst: string]"
      ]
     },
     "metadata": {},
     "output_type": "display_data"
    }
   ],
   "source": [
    "# States with the longest cumulative delays (with individual delays > 100 minutes) (origin: Seattle)\n",
    "display(tripGraph.edges.filter(\"src = 'SEA' and delay > 100\"))"
   ]
  },
  {
   "cell_type": "code",
   "execution_count": 44,
   "metadata": {},
   "outputs": [
    {
     "name": "stdout",
     "output_type": "stream",
     "text": [
      "+-------+-----+---+---+-------------+---------+\n",
      "| tripid|delay|src|dst|     city_dst|state_dst|\n",
      "+-------+-----+---+---+-------------+---------+\n",
      "|3201938|  108|SEA|BUR|      Burbank|       CA|\n",
      "|3201655|  107|SEA|SNA|Orange County|       CA|\n",
      "|1011950|  123|SEA|OAK|      Oakland|       CA|\n",
      "|1021950|  194|SEA|OAK|      Oakland|       CA|\n",
      "|1021615|  317|SEA|OAK|      Oakland|       CA|\n",
      "|1021755|  385|SEA|OAK|      Oakland|       CA|\n",
      "|1031950|  283|SEA|OAK|      Oakland|       CA|\n",
      "|1031615|  364|SEA|OAK|      Oakland|       CA|\n",
      "|1031325|  130|SEA|OAK|      Oakland|       CA|\n",
      "|1061755|  107|SEA|OAK|      Oakland|       CA|\n",
      "|1081330|  118|SEA|OAK|      Oakland|       CA|\n",
      "|2282055|  150|SEA|OAK|      Oakland|       CA|\n",
      "|3061600|  130|SEA|OAK|      Oakland|       CA|\n",
      "|3170815|  199|SEA|DCA|Washington DC|     null|\n",
      "|2151845|  128|SEA|KTN|    Ketchikan|       AK|\n",
      "|2281845|  104|SEA|KTN|    Ketchikan|       AK|\n",
      "|3130720|  117|SEA|KTN|    Ketchikan|       AK|\n",
      "|1011411|  177|SEA|IAH|      Houston|       TX|\n",
      "|1022347|  158|SEA|IAH|      Houston|       TX|\n",
      "|1021411|  170|SEA|IAH|      Houston|       TX|\n",
      "+-------+-----+---+---+-------------+---------+\n",
      "only showing top 20 rows\n",
      "\n"
     ]
    }
   ],
   "source": [
    "tripGraph.edges.filter(\"src = 'SEA' and delay > 100\").show()"
   ]
  },
  {
   "cell_type": "markdown",
   "metadata": {},
   "source": [
    "## 3. Vertex Degrees\n",
    "* `inDegrees`: Incoming connections to the airport\n",
    "* `outDegrees`: Outgoing connections from the airport \n",
    "* `degrees`: Total connections to and from the airport\n",
    "\n",
    "Reviewing the various properties of the property graph to understand the incoming and outgoing connections between airports."
   ]
  },
  {
   "cell_type": "code",
   "execution_count": 46,
   "metadata": {},
   "outputs": [
    {
     "data": {
      "text/plain": [
       "DataFrame[id: string, degree: int]"
      ]
     },
     "metadata": {},
     "output_type": "display_data"
    }
   ],
   "source": [
    "# Degrees\n",
    "#  The number of degrees - the number of incoming and outgoing connections - for various airports within this sample dataset\n",
    "display(tripGraph.degrees.sort(desc(\"degree\")).limit(20))"
   ]
  },
  {
   "cell_type": "code",
   "execution_count": 47,
   "metadata": {},
   "outputs": [
    {
     "name": "stdout",
     "output_type": "stream",
     "text": [
      "+---+------+\n",
      "| id|degree|\n",
      "+---+------+\n",
      "|ATL|179774|\n",
      "|DFW|133966|\n",
      "|ORD|125405|\n",
      "|LAX|106853|\n",
      "|DEN|103699|\n",
      "|IAH| 85685|\n",
      "|PHX| 79672|\n",
      "|SFO| 77635|\n",
      "|LAS| 66101|\n",
      "|CLT| 56103|\n",
      "|EWR| 54407|\n",
      "|MCO| 54300|\n",
      "|LGA| 50927|\n",
      "|SLC| 50780|\n",
      "|BOS| 49936|\n",
      "|DTW| 46705|\n",
      "|MSP| 46235|\n",
      "|SEA| 45816|\n",
      "|JFK| 43661|\n",
      "|BWI| 42526|\n",
      "+---+------+\n",
      "\n"
     ]
    }
   ],
   "source": [
    "tripGraph.degrees.sort(desc(\"degree\")).limit(20).show()"
   ]
  },
  {
   "cell_type": "code",
   "execution_count": 48,
   "metadata": {},
   "outputs": [
    {
     "name": "stdout",
     "output_type": "stream",
     "text": [
      "+---+--------+\n",
      "| id|inDegree|\n",
      "+---+--------+\n",
      "|ATL|   89633|\n",
      "|DFW|   65767|\n",
      "|ORD|   61654|\n",
      "|LAX|   53184|\n",
      "|DEN|   50738|\n",
      "|IAH|   42512|\n",
      "|PHX|   39619|\n",
      "|SFO|   38641|\n",
      "|LAS|   32994|\n",
      "|CLT|   28044|\n",
      "|EWR|   27201|\n",
      "|MCO|   27071|\n",
      "|LGA|   25469|\n",
      "|SLC|   25169|\n",
      "|BOS|   24973|\n",
      "|DTW|   23297|\n",
      "|SEA|   22906|\n",
      "|MSP|   22372|\n",
      "|JFK|   21832|\n",
      "|BWI|   21262|\n",
      "+---+--------+\n",
      "\n"
     ]
    }
   ],
   "source": [
    "# inDegrees\n",
    "#  The number of degrees - the number of incoming connections - for various airports within this sample dataset\n",
    "# display(tripGraph.inDegrees.sort(desc(\"inDegree\")).limit(20))\n",
    "tripGraph.inDegrees.sort(desc(\"inDegree\")).limit(20).show()"
   ]
  },
  {
   "cell_type": "code",
   "execution_count": 49,
   "metadata": {},
   "outputs": [
    {
     "name": "stdout",
     "output_type": "stream",
     "text": [
      "+---+---------+\n",
      "| id|outDegree|\n",
      "+---+---------+\n",
      "|ATL|    90141|\n",
      "|DFW|    68199|\n",
      "|ORD|    63751|\n",
      "|LAX|    53669|\n",
      "|DEN|    52961|\n",
      "|IAH|    43173|\n",
      "|PHX|    40053|\n",
      "|SFO|    38994|\n",
      "|LAS|    33107|\n",
      "|CLT|    28059|\n",
      "|MCO|    27229|\n",
      "|EWR|    27206|\n",
      "|SLC|    25611|\n",
      "|LGA|    25458|\n",
      "|BOS|    24963|\n",
      "|MSP|    23863|\n",
      "|DTW|    23408|\n",
      "|SEA|    22910|\n",
      "|JFK|    21829|\n",
      "|BWI|    21264|\n",
      "+---+---------+\n",
      "\n"
     ]
    }
   ],
   "source": [
    "# outDegrees\n",
    "#  The number of degrees - the number of outgoing connections - for various airports within this sample dataset\n",
    "# display(tripGraph.outDegrees.sort(desc(\"outDegree\")).limit(20))\n",
    "tripGraph.outDegrees.sort(desc(\"outDegree\")).limit(20).show()"
   ]
  },
  {
   "cell_type": "markdown",
   "metadata": {},
   "source": [
    "## 4. City / Flight Relationships through Motif Finding\n",
    "To more easily understand the complex relationship of city airports and their flights with each other, we can use motifs to find patterns of airports (i.e. vertices) connected by flights (i.e. edges). The result is a DataFrame in which the column names are given by the motif keys."
   ]
  },
  {
   "cell_type": "markdown",
   "metadata": {},
   "source": [
    "#### 4.1 What delays might we blame on SFO"
   ]
  },
  {
   "cell_type": "code",
   "execution_count": 50,
   "metadata": {},
   "outputs": [
    {
     "data": {
      "text/plain": [
       "DataFrame[a: struct<id:string,City:string,State:string,Country:string>, ab: struct<tripid:int,delay:int,src:string,dst:string>, b: struct<id:string,City:string,State:string,Country:string>, bc: struct<tripid:int,delay:int,src:string,dst:string>, c: struct<id:string,City:string,State:string,Country:string>]"
      ]
     },
     "metadata": {},
     "output_type": "display_data"
    }
   ],
   "source": [
    "# Using tripGraphPrime to more easily display \n",
    "#   - The associated edge (ab, bc) relationships \n",
    "#   - With the different the city / airports (a, b, c) where SFO is the connecting city (b)\n",
    "#   - Ensuring that flight ab (i.e. the flight to SFO) occured before flight bc (i.e. flight leaving SFO)\n",
    "#   - Note, TripID was generated based on time in the format of MMDDHHMM converted to int\n",
    "#       - Therefore bc.tripid < ab.tripid + 10000 means the second flight (bc) occured within approx a day of the first flight (ab)\n",
    "# Note: In reality, we would need to be more careful to link trips ab and bc.\n",
    "motifs = tripGraphPrime.find(\"(a)-[ab]->(b); (b)-[bc]->(c)\")\\\n",
    "  .filter(\"(b.id = 'SFO') and (ab.delay > 500 or bc.delay > 500) and bc.tripid > ab.tripid and bc.tripid < ab.tripid + 10000\")\n",
    "display(motifs)"
   ]
  },
  {
   "cell_type": "code",
   "execution_count": 51,
   "metadata": {},
   "outputs": [
    {
     "name": "stdout",
     "output_type": "stream",
     "text": [
      "+--------------------+--------------------+--------------------+--------------------+--------------------+\n",
      "|                   a|                  ab|                   b|                  bc|                   c|\n",
      "+--------------------+--------------------+--------------------+--------------------+--------------------+\n",
      "|[MSY, New Orleans...|[1011751, -4, MSY...|[SFO, San Francis...|[1021507, 536, SF...|[JFK, New York, N...|\n",
      "|[MSY, New Orleans...|[1201725, 2, MSY,...|[SFO, San Francis...|[1211508, 593, SF...|[JFK, New York, N...|\n",
      "|[MSY, New Orleans...|[2091725, 87, MSY...|[SFO, San Francis...|[2092110, 740, SF...|[MIA, Miami, FL, ...|\n",
      "|[MSY, New Orleans...|[2091725, 87, MSY...|[SFO, San Francis...|[2092230, 636, SF...|[JFK, New York, N...|\n",
      "|[MSY, New Orleans...|[2121725, 15, MSY...|[SFO, San Francis...|[2131420, 504, SF...|[SAN, San Diego, ...|\n",
      "|[BUR, Burbank, CA...|[1011828, 88, BUR...|[SFO, San Francis...|[1021507, 536, SF...|[JFK, New York, N...|\n",
      "|[BUR, Burbank, CA...|[1020941, -17, BU...|[SFO, San Francis...|[1021507, 536, SF...|[JFK, New York, N...|\n",
      "|[BUR, Burbank, CA...|[1020705, 6, BUR,...|[SFO, San Francis...|[1021507, 536, SF...|[JFK, New York, N...|\n",
      "|[BUR, Burbank, CA...|[1021320, -5, BUR...|[SFO, San Francis...|[1021507, 536, SF...|[JFK, New York, N...|\n",
      "|[BUR, Burbank, CA...|[1202011, -3, BUR...|[SFO, San Francis...|[1211508, 593, SF...|[JFK, New York, N...|\n",
      "|[BUR, Burbank, CA...|[1201823, 21, BUR...|[SFO, San Francis...|[1211508, 593, SF...|[JFK, New York, N...|\n",
      "|[BUR, Burbank, CA...|[1211032, 24, BUR...|[SFO, San Francis...|[1211508, 593, SF...|[JFK, New York, N...|\n",
      "|[BUR, Burbank, CA...|[1210705, -11, BU...|[SFO, San Francis...|[1211508, 593, SF...|[JFK, New York, N...|\n",
      "|[BUR, Burbank, CA...|[1211317, 1, BUR,...|[SFO, San Francis...|[1211508, 593, SF...|[JFK, New York, N...|\n",
      "|[BUR, Burbank, CA...|[2021823, 0, BUR,...|[SFO, San Francis...|[2030906, 516, SF...|[PHL, Philadelphi...|\n",
      "|[BUR, Burbank, CA...|[2021317, 30, BUR...|[SFO, San Francis...|[2030906, 516, SF...|[PHL, Philadelphi...|\n",
      "|[BUR, Burbank, CA...|[2022011, 0, BUR,...|[SFO, San Francis...|[2030906, 516, SF...|[PHL, Philadelphi...|\n",
      "|[BUR, Burbank, CA...|[2030705, -4, BUR...|[SFO, San Francis...|[2030906, 516, SF...|[PHL, Philadelphi...|\n",
      "|[BUR, Burbank, CA...|[2092011, 0, BUR,...|[SFO, San Francis...|[2092110, 740, SF...|[MIA, Miami, FL, ...|\n",
      "|[BUR, Burbank, CA...|[2092011, 0, BUR,...|[SFO, San Francis...|[2092230, 636, SF...|[JFK, New York, N...|\n",
      "+--------------------+--------------------+--------------------+--------------------+--------------------+\n",
      "only showing top 20 rows\n",
      "\n"
     ]
    }
   ],
   "source": [
    "motifs.show()"
   ]
  },
  {
   "cell_type": "markdown",
   "metadata": {},
   "source": [
    "## 5. Determining Airport Ranking using PageRank\n",
    "There are a large number of flights and connections through these various airports included in this Departure Delay Dataset.  Using the `pageRank` algorithm, Spark iteratively traverses the graph and determines a rough estimate of how important the airport is."
   ]
  },
  {
   "cell_type": "code",
   "execution_count": 52,
   "metadata": {},
   "outputs": [
    {
     "name": "stdout",
     "output_type": "stream",
     "text": [
      "+---+--------------+-----+-------+------------------+\n",
      "| id|          City|State|Country|          pagerank|\n",
      "+---+--------------+-----+-------+------------------+\n",
      "|ATL|       Atlanta|   GA|    USA|18.910104616729814|\n",
      "|DFW|        Dallas|   TX|    USA|13.699227467378964|\n",
      "|ORD|       Chicago|   IL|    USA|13.163049993795985|\n",
      "|DEN|        Denver|   CO|    USA| 9.723388283811563|\n",
      "|LAX|   Los Angeles|   CA|    USA| 8.703656827807166|\n",
      "|IAH|       Houston|   TX|    USA| 7.991324463091128|\n",
      "|SFO| San Francisco|   CA|    USA| 6.903242998287933|\n",
      "|PHX|       Phoenix|   AZ|    USA| 6.505886984498643|\n",
      "|SLC|Salt Lake City|   UT|    USA| 5.799587684561128|\n",
      "|LAS|     Las Vegas|   NV|    USA|  5.25359244560915|\n",
      "+---+--------------+-----+-------+------------------+\n",
      "\n"
     ]
    }
   ],
   "source": [
    "# Determining Airport ranking of importance using `pageRank`\n",
    "ranks = tripGraph.pageRank(resetProbability=0.15, maxIter=5)\n",
    "# display(ranks.vertices.orderBy(ranks.vertices.pagerank.desc()).limit(10))\n",
    "ranks.vertices.orderBy(ranks.vertices.pagerank.desc()).limit(10).show()"
   ]
  },
  {
   "cell_type": "markdown",
   "metadata": {},
   "source": [
    "## 6. Most popular flights (single city hops)\n",
    "Using the `tripGraph`, we can quickly determine what are the most popular single city hop flights"
   ]
  },
  {
   "cell_type": "code",
   "execution_count": 53,
   "metadata": {
    "collapsed": true
   },
   "outputs": [],
   "source": [
    "# Determine the most popular flights (single city hops)\n",
    "import pyspark.sql.functions as func\n",
    "topTrips = tripGraph \\\n",
    "  .edges \\\n",
    "  .groupBy(\"src\", \"dst\") \\\n",
    "  .agg(func.count(\"delay\").alias(\"trips\")) "
   ]
  },
  {
   "cell_type": "code",
   "execution_count": 54,
   "metadata": {},
   "outputs": [
    {
     "name": "stdout",
     "output_type": "stream",
     "text": [
      "+---+---+-----+\n",
      "|src|dst|trips|\n",
      "+---+---+-----+\n",
      "|SFO|LAX| 3232|\n",
      "|LAX|SFO| 3198|\n",
      "|LAS|LAX| 3016|\n",
      "|LAX|LAS| 2964|\n",
      "|JFK|LAX| 2720|\n",
      "|LAX|JFK| 2719|\n",
      "|ATL|LGA| 2501|\n",
      "|LGA|ATL| 2500|\n",
      "|LAX|PHX| 2394|\n",
      "|PHX|LAX| 2387|\n",
      "+---+---+-----+\n",
      "\n"
     ]
    }
   ],
   "source": [
    "# Show the top 20 most popular flights (single city hops)\n",
    "# display(topTrips.orderBy(topTrips.trips.desc()).limit(10))\n",
    "topTrips.orderBy(topTrips.trips.desc()).limit(10).show()"
   ]
  },
  {
   "cell_type": "markdown",
   "metadata": {},
   "source": [
    "## 7. Top Transfer Cities\n",
    "Many airports are used as transfer points instead of the final Destination.  An easy way to calculate this is by calculating the ratio of inDegree (the number of flights to the airport) / outDegree (the number of flights leaving the airport).  Values close to 1 may indicate many transfers, whereas values < 1 indicate many outgoing flights and > 1 indicate many incoming flights.  Note, this is a simple calculation that does not take into account of timing or scheduling of flights, just the overall aggregate number within the dataset."
   ]
  },
  {
   "cell_type": "code",
   "execution_count": 55,
   "metadata": {
    "collapsed": true
   },
   "outputs": [],
   "source": [
    "# Calculate the inDeg (flights into the airport) and outDeg (flights leaving the airport)\n",
    "inDeg = tripGraph.inDegrees\n",
    "outDeg = tripGraph.outDegrees\n",
    "\n",
    "# Calculate the degreeRatio (inDeg/outDeg)\n",
    "degreeRatio = inDeg.join(outDeg, inDeg.id == outDeg.id) \\\n",
    "  .drop(outDeg.id) \\\n",
    "  .selectExpr(\"id\", \"double(inDegree)/double(outDegree) as degreeRatio\") \\\n",
    "  .cache()\n",
    "\n",
    "# Join back to the `airports` DataFrame (instead of registering temp table as above)\n",
    "nonTransferAirports = degreeRatio.join(airports, degreeRatio.id == airports.IATA) \\\n",
    "  .selectExpr(\"id\", \"city\", \"degreeRatio\") \\\n",
    "  .filter(\"degreeRatio < .9 or degreeRatio > 1.1\")\n"
   ]
  },
  {
   "cell_type": "code",
   "execution_count": 56,
   "metadata": {},
   "outputs": [
    {
     "data": {
      "text/plain": [
       "DataFrame[id: string, city: string, degreeRatio: double]"
      ]
     },
     "metadata": {},
     "output_type": "display_data"
    }
   ],
   "source": [
    "# List out the city airports which have abnormal degree ratios.\n",
    "display(nonTransferAirports)"
   ]
  },
  {
   "cell_type": "code",
   "execution_count": 57,
   "metadata": {},
   "outputs": [
    {
     "name": "stdout",
     "output_type": "stream",
     "text": [
      "+---+-----------+-------------------+\n",
      "| id|       city|        degreeRatio|\n",
      "+---+-----------+-------------------+\n",
      "|GFK|Grand Forks| 1.3333333333333333|\n",
      "|FAI|  Fairbanks| 1.1232686980609419|\n",
      "|OME|       Nome| 0.5084745762711864|\n",
      "|BRW|     Barrow|0.28651685393258425|\n",
      "+---+-----------+-------------------+\n",
      "\n"
     ]
    }
   ],
   "source": [
    "nonTransferAirports.show()"
   ]
  },
  {
   "cell_type": "code",
   "execution_count": 58,
   "metadata": {
    "collapsed": true
   },
   "outputs": [],
   "source": [
    "# Join back to the `airports` DataFrame (instead of registering temp table as above)\n",
    "transferAirports = degreeRatio.join(airports, degreeRatio.id == airports.IATA) \\\n",
    "  .selectExpr(\"id\", \"city\", \"degreeRatio\") \\\n",
    "  .filter(\"degreeRatio between 0.9 and 1.1\")\n"
   ]
  },
  {
   "cell_type": "code",
   "execution_count": 59,
   "metadata": {},
   "outputs": [
    {
     "name": "stdout",
     "output_type": "stream",
     "text": [
      "+---+--------------+------------------+\n",
      "| id|          city|       degreeRatio|\n",
      "+---+--------------+------------------+\n",
      "|MSP|   Minneapolis|0.9375183338222353|\n",
      "|DEN|        Denver| 0.958025717037065|\n",
      "|DFW|        Dallas| 0.964339653074092|\n",
      "|ORD|       Chicago|0.9671063983310065|\n",
      "|SLC|Salt Lake City|0.9827417906368358|\n",
      "|IAH|       Houston|0.9846895050147083|\n",
      "|PHX|       Phoenix|0.9891643572266746|\n",
      "|OGG| Kahului, Maui|0.9898718478710211|\n",
      "|HNL|Honolulu, Oahu| 0.990535889872173|\n",
      "|SFO| San Francisco|0.9909473252295224|\n",
      "+---+--------------+------------------+\n",
      "\n"
     ]
    }
   ],
   "source": [
    "# List out the top 10 transfer city airports\n",
    "# display(transferAirports.orderBy(\"degreeRatio\").limit(10))\n",
    "transferAirports.orderBy(\"degreeRatio\").limit(10).show()"
   ]
  },
  {
   "cell_type": "markdown",
   "metadata": {},
   "source": [
    "## 8. Breadth First Search \n",
    "Breadth-first search (BFS) is designed to traverse the graph to quickly find the desired vertices (i.e. airports) and edges (i.e flights).  Let's try to find the shortest number of connections between cities based on the dataset.  Note, these examples do not take into account of time or distance, just hops between cities."
   ]
  },
  {
   "cell_type": "code",
   "execution_count": 60,
   "metadata": {
    "collapsed": true
   },
   "outputs": [],
   "source": [
    "# Example 1: Direct Seattle to San Francisco \n",
    "filteredPaths = tripGraph.bfs(\n",
    "  fromExpr = \"id = 'SEA'\",\n",
    "  toExpr = \"id = 'SFO'\",\n",
    "  maxPathLength = 1)\n"
   ]
  },
  {
   "cell_type": "code",
   "execution_count": 61,
   "metadata": {},
   "outputs": [
    {
     "name": "stdout",
     "output_type": "stream",
     "text": [
      "+--------------------+--------------------+--------------------+\n",
      "|                from|                  e0|                  to|\n",
      "+--------------------+--------------------+--------------------+\n",
      "|[SEA, Seattle, WA...|[1010710, 31, SEA...|[SFO, San Francis...|\n",
      "|[SEA, Seattle, WA...|[1012125, -4, SEA...|[SFO, San Francis...|\n",
      "|[SEA, Seattle, WA...|[1011840, -5, SEA...|[SFO, San Francis...|\n",
      "|[SEA, Seattle, WA...|[1010610, -4, SEA...|[SFO, San Francis...|\n",
      "|[SEA, Seattle, WA...|[1011230, -2, SEA...|[SFO, San Francis...|\n",
      "|[SEA, Seattle, WA...|[1010955, -6, SEA...|[SFO, San Francis...|\n",
      "|[SEA, Seattle, WA...|[1011100, 2, SEA,...|[SFO, San Francis...|\n",
      "|[SEA, Seattle, WA...|[1011405, 0, SEA,...|[SFO, San Francis...|\n",
      "|[SEA, Seattle, WA...|[1020710, -1, SEA...|[SFO, San Francis...|\n",
      "|[SEA, Seattle, WA...|[1022125, -4, SEA...|[SFO, San Francis...|\n",
      "|[SEA, Seattle, WA...|[1021840, -5, SEA...|[SFO, San Francis...|\n",
      "|[SEA, Seattle, WA...|[1020610, 3, SEA,...|[SFO, San Francis...|\n",
      "|[SEA, Seattle, WA...|[1021230, -2, SEA...|[SFO, San Francis...|\n",
      "|[SEA, Seattle, WA...|[1020955, -7, SEA...|[SFO, San Francis...|\n",
      "|[SEA, Seattle, WA...|[1021100, -1, SEA...|[SFO, San Francis...|\n",
      "|[SEA, Seattle, WA...|[1021405, -4, SEA...|[SFO, San Francis...|\n",
      "|[SEA, Seattle, WA...|[1030710, -13, SE...|[SFO, San Francis...|\n",
      "|[SEA, Seattle, WA...|[1032125, -3, SEA...|[SFO, San Francis...|\n",
      "|[SEA, Seattle, WA...|[1031840, -1, SEA...|[SFO, San Francis...|\n",
      "|[SEA, Seattle, WA...|[1030610, -5, SEA...|[SFO, San Francis...|\n",
      "+--------------------+--------------------+--------------------+\n",
      "only showing top 20 rows\n",
      "\n"
     ]
    }
   ],
   "source": [
    "# display(filteredPaths)\n",
    "filteredPaths.show()"
   ]
  },
  {
   "cell_type": "markdown",
   "metadata": {},
   "source": [
    "As you can see, there are a number of direct flights between Seattle and San Francisco."
   ]
  },
  {
   "cell_type": "code",
   "execution_count": 62,
   "metadata": {
    "collapsed": true
   },
   "outputs": [],
   "source": [
    "# Example 2: Direct San Francisco and Buffalo\n",
    "filteredPaths = tripGraph.bfs(\n",
    "  fromExpr = \"id = 'SFO'\",\n",
    "  toExpr = \"id = 'BUF'\",\n",
    "  maxPathLength = 1)\n",
    "# display(filteredPaths)"
   ]
  },
  {
   "cell_type": "code",
   "execution_count": 63,
   "metadata": {},
   "outputs": [
    {
     "name": "stdout",
     "output_type": "stream",
     "text": [
      "+---+----+-----+-------+\n",
      "| id|City|State|Country|\n",
      "+---+----+-----+-------+\n",
      "+---+----+-----+-------+\n",
      "\n"
     ]
    }
   ],
   "source": [
    "filteredPaths.show()"
   ]
  },
  {
   "cell_type": "markdown",
   "metadata": {},
   "source": [
    "But there are no direct flights between San Francisco and Buffalo."
   ]
  },
  {
   "cell_type": "code",
   "execution_count": 64,
   "metadata": {
    "collapsed": true
   },
   "outputs": [],
   "source": [
    "# Example 2a: Flying from San Francisco to Buffalo\n",
    "filteredPaths = tripGraph.bfs(\n",
    "  fromExpr = \"id = 'SFO'\",\n",
    "  toExpr = \"id = 'BUF'\",\n",
    "  maxPathLength = 2)\n",
    "# display(filteredPaths)"
   ]
  },
  {
   "cell_type": "code",
   "execution_count": 65,
   "metadata": {},
   "outputs": [
    {
     "name": "stdout",
     "output_type": "stream",
     "text": [
      "+--------------------+--------------------+--------------------+--------------------+--------------------+\n",
      "|                from|                  e0|                  v1|                  e1|                  to|\n",
      "+--------------------+--------------------+--------------------+--------------------+--------------------+\n",
      "|[SFO, San Francis...|[1010700, 0, SFO,...|[BOS, Boston, MA,...|[1010635, -6, BOS...|[BUF, Buffalo, NY...|\n",
      "|[SFO, San Francis...|[1010700, 0, SFO,...|[BOS, Boston, MA,...|[1011059, 13, BOS...|[BUF, Buffalo, NY...|\n",
      "|[SFO, San Francis...|[1010700, 0, SFO,...|[BOS, Boston, MA,...|[1011427, 19, BOS...|[BUF, Buffalo, NY...|\n",
      "|[SFO, San Francis...|[1010700, 0, SFO,...|[BOS, Boston, MA,...|[1020635, -4, BOS...|[BUF, Buffalo, NY...|\n",
      "|[SFO, San Francis...|[1010700, 0, SFO,...|[BOS, Boston, MA,...|[1021059, 0, BOS,...|[BUF, Buffalo, NY...|\n",
      "|[SFO, San Francis...|[1010700, 0, SFO,...|[BOS, Boston, MA,...|[1021427, 194, BO...|[BUF, Buffalo, NY...|\n",
      "|[SFO, San Francis...|[1010700, 0, SFO,...|[BOS, Boston, MA,...|[1030635, 0, BOS,...|[BUF, Buffalo, NY...|\n",
      "|[SFO, San Francis...|[1010700, 0, SFO,...|[BOS, Boston, MA,...|[1031059, 0, BOS,...|[BUF, Buffalo, NY...|\n",
      "|[SFO, San Francis...|[1010700, 0, SFO,...|[BOS, Boston, MA,...|[1031427, 0, BOS,...|[BUF, Buffalo, NY...|\n",
      "|[SFO, San Francis...|[1010700, 0, SFO,...|[BOS, Boston, MA,...|[1040635, 16, BOS...|[BUF, Buffalo, NY...|\n",
      "|[SFO, San Francis...|[1010700, 0, SFO,...|[BOS, Boston, MA,...|[1041552, 96, BOS...|[BUF, Buffalo, NY...|\n",
      "|[SFO, San Francis...|[1010700, 0, SFO,...|[BOS, Boston, MA,...|[1050635, 1, BOS,...|[BUF, Buffalo, NY...|\n",
      "|[SFO, San Francis...|[1010700, 0, SFO,...|[BOS, Boston, MA,...|[1051059, 48, BOS...|[BUF, Buffalo, NY...|\n",
      "|[SFO, San Francis...|[1010700, 0, SFO,...|[BOS, Boston, MA,...|[1051427, 443, BO...|[BUF, Buffalo, NY...|\n",
      "|[SFO, San Francis...|[1010700, 0, SFO,...|[BOS, Boston, MA,...|[1060635, 0, BOS,...|[BUF, Buffalo, NY...|\n",
      "|[SFO, San Francis...|[1010700, 0, SFO,...|[BOS, Boston, MA,...|[1061059, 294, BO...|[BUF, Buffalo, NY...|\n",
      "|[SFO, San Francis...|[1010700, 0, SFO,...|[BOS, Boston, MA,...|[1061427, 0, BOS,...|[BUF, Buffalo, NY...|\n",
      "|[SFO, San Francis...|[1010700, 0, SFO,...|[BOS, Boston, MA,...|[1070730, 0, BOS,...|[BUF, Buffalo, NY...|\n",
      "|[SFO, San Francis...|[1010700, 0, SFO,...|[BOS, Boston, MA,...|[1071730, 0, BOS,...|[BUF, Buffalo, NY...|\n",
      "|[SFO, San Francis...|[1010700, 0, SFO,...|[BOS, Boston, MA,...|[1080710, 0, BOS,...|[BUF, Buffalo, NY...|\n",
      "+--------------------+--------------------+--------------------+--------------------+--------------------+\n",
      "only showing top 20 rows\n",
      "\n"
     ]
    }
   ],
   "source": [
    "filteredPaths.show()"
   ]
  },
  {
   "cell_type": "markdown",
   "metadata": {},
   "source": [
    "But there are flights from San Francisco to Buffalo with Minneapolis as the transfer point.  But what are the most popular layovers between `SFO` and `BUF`?"
   ]
  },
  {
   "cell_type": "code",
   "execution_count": 66,
   "metadata": {},
   "outputs": [
    {
     "name": "stdout",
     "output_type": "stream",
     "text": [
      "+---+---------------+-------+\n",
      "| id|           City|  count|\n",
      "+---+---------------+-------+\n",
      "|JFK|       New York|1233728|\n",
      "|ORD|        Chicago|1088283|\n",
      "|ATL|        Atlanta| 285383|\n",
      "|LAS|      Las Vegas| 275091|\n",
      "|BOS|         Boston| 238576|\n",
      "|CLT|      Charlotte| 143444|\n",
      "|PHX|        Phoenix| 104580|\n",
      "|FLL|Fort Lauderdale|  96317|\n",
      "|EWR|         Newark|  95370|\n",
      "|MCO|        Orlando|  88615|\n",
      "+---+---------------+-------+\n",
      "\n"
     ]
    }
   ],
   "source": [
    "# Display most popular layover cities by descending count\n",
    "# display(filteredPaths.groupBy(\"v1.id\", \"v1.City\").count().orderBy(desc(\"count\")).limit(10))\n",
    "filteredPaths.groupBy(\"v1.id\", \"v1.City\").count().orderBy(desc(\"count\")).limit(10).show()"
   ]
  },
  {
   "cell_type": "markdown",
   "metadata": {},
   "source": [
    "## 9. Loading the D3 Visualization\n",
    "Using the airports D3 visualization to visualize airports and flight paths"
   ]
  },
  {
   "cell_type": "markdown",
   "metadata": {},
   "source": [
    "see reference"
   ]
  }
 ],
 "metadata": {
  "kernelspec": {
   "display_name": "Python 2",
   "language": "python",
   "name": "python2"
  },
  "language_info": {
   "codemirror_mode": {
    "name": "ipython",
    "version": 2
   },
   "file_extension": ".py",
   "mimetype": "text/x-python",
   "name": "python",
   "nbconvert_exporter": "python",
   "pygments_lexer": "ipython2",
   "version": "2.7.13"
  }
 },
 "nbformat": 4,
 "nbformat_minor": 2
}
