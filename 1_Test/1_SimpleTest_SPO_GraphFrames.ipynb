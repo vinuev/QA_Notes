{
 "cells": [
  {
   "cell_type": "markdown",
   "metadata": {},
   "source": [
    "### SimpleTest_SPO_GraphFrames\n",
    "    0_Get the file\n",
    "    1_Building the Graph\n",
    "        1.0_Create Vertices\n",
    "        1.1_Create Edges\n",
    "        1.2_Test Graph"
   ]
  },
  {
   "cell_type": "code",
   "execution_count": 1,
   "metadata": {},
   "outputs": [
    {
     "data": {
      "text/html": [
       "\n",
       "        <div>\n",
       "            <p><b>SparkContext</b></p>\n",
       "\n",
       "            <p><a href=\"http://jeans-mbp:4040\">Spark UI</a></p>\n",
       "\n",
       "            <dl>\n",
       "              <dt>Version</dt>\n",
       "                <dd><code>v2.4.1</code></dd>\n",
       "              <dt>Master</dt>\n",
       "                <dd><code>local[*]</code></dd>\n",
       "              <dt>AppName</dt>\n",
       "                <dd><code>PySparkShell</code></dd>\n",
       "            </dl>\n",
       "        </div>\n",
       "        "
      ],
      "text/plain": [
       "<SparkContext master=local[*] appName=PySparkShell>"
      ]
     },
     "execution_count": 1,
     "metadata": {},
     "output_type": "execute_result"
    }
   ],
   "source": [
    "sc"
   ]
  },
  {
   "cell_type": "code",
   "execution_count": 19,
   "metadata": {
    "collapsed": true
   },
   "outputs": [],
   "source": [
    "from pyspark.sql.functions import *\n",
    "from graphframes import *"
   ]
  },
  {
   "cell_type": "markdown",
   "metadata": {},
   "source": [
    "### 0_get the file"
   ]
  },
  {
   "cell_type": "code",
   "execution_count": 163,
   "metadata": {
    "collapsed": true
   },
   "outputs": [],
   "source": [
    "FilePath_SPO = \"/Users/jeanxu/PycharmProjects/QUEST_TerminalTest/Code/files/SPO_paragraph_ques-q1.txt\""
   ]
  },
  {
   "cell_type": "code",
   "execution_count": 164,
   "metadata": {},
   "outputs": [],
   "source": [
    "Trip_SPO = spark.read.csv(FilePath_SPOFilePath, header='False', inferSchema='true', sep='|')"
   ]
  },
  {
   "cell_type": "code",
   "execution_count": 165,
   "metadata": {},
   "outputs": [
    {
     "name": "stdout",
     "output_type": "stream",
     "text": [
      "+------+-----------------+--------+--------------------+---+--------------------+----+--------------------+\n",
      "|   _c0|              _c1|     _c2|                 _c3|_c4|                 _c5| _c6|                 _c7|\n",
      "+------+-----------------+--------+--------------------+---+--------------------+----+--------------------+\n",
      "|doc-0 | ./docs/doc1.txt | sent-0 |    navigation Jump |2.0|             search | 2.0|             article|\n",
      "|doc-0 | ./docs/doc1.txt | sent-0 | free encyclopedi...|4.0|             search | 2.0|             article|\n",
      "|doc-0 | ./docs/doc1.txt | sent-0 |          Wikipedia |7.0|             search | 2.0|             article|\n",
      "|doc-0 | ./docs/doc1.txt | sent-0 |            article |1.0|           is about | 2.0|              person|\n",
      "|doc-0 | ./docs/doc1.txt | sent-1 |         other uses |2.0|                see | 1.0| Steve Jobs disam...|\n",
      "|doc-0 | ./docs/doc1.txt | sent-1 |         other uses |2.0|                see | 3.0|          co-founder|\n",
      "|doc-0 | ./docs/doc1.txt | sent-1 |         other uses |2.0|                see | 5.0|           Apple Inc|\n",
      "|doc-0 | ./docs/doc1.txt | sent-2 | California Alta ...|3.0| personal compute...| 5.0| first US$ 7 bill...|\n",
      "|doc-0 | ./docs/doc1.txt | sent-2 | California Alta ...|3.0| personal compute...| 7.0|            Chairman|\n",
      "|doc-0 | ./docs/doc1.txt | sent-2 | California Alta ...|3.0| personal compute...|10.0|                 CEO|\n",
      "+------+-----------------+--------+--------------------+---+--------------------+----+--------------------+\n",
      "only showing top 10 rows\n",
      "\n"
     ]
    }
   ],
   "source": [
    "Trip_SPO.show(10)"
   ]
  },
  {
   "cell_type": "code",
   "execution_count": 140,
   "metadata": {
    "collapsed": true
   },
   "outputs": [],
   "source": [
    "# def single_space(col):\n",
    "#     return F.trim(F.regexp_replace(col, \" +\", \" \"))"
   ]
  },
  {
   "cell_type": "code",
   "execution_count": 166,
   "metadata": {},
   "outputs": [],
   "source": [
    "Trip_SPO = Trip_SPO.withColumn(\"_c0\", trim(col(\"_c0\"))).withColumn(\"_c1\", trim(col(\"_c1\"))).withColumn(\"_c2\", trim(col(\"_c2\")))\n"
   ]
  },
  {
   "cell_type": "code",
   "execution_count": 167,
   "metadata": {},
   "outputs": [
    {
     "name": "stdout",
     "output_type": "stream",
     "text": [
      "+-----+---------------+------+--------------------+---+--------+---+--------+\n",
      "|  _c0|            _c1|   _c2|                 _c3|_c4|     _c5|_c6|     _c7|\n",
      "+-----+---------------+------+--------------------+---+--------+---+--------+\n",
      "|doc-0|./docs/doc1.txt|sent-0|    navigation Jump |2.0| search |2.0| article|\n",
      "|doc-0|./docs/doc1.txt|sent-0| free encyclopedi...|4.0| search |2.0| article|\n",
      "+-----+---------------+------+--------------------+---+--------+---+--------+\n",
      "only showing top 2 rows\n",
      "\n"
     ]
    }
   ],
   "source": [
    "Trip_SPO.show(2)"
   ]
  },
  {
   "cell_type": "code",
   "execution_count": 168,
   "metadata": {
    "collapsed": true
   },
   "outputs": [],
   "source": [
    "Trip_SPO = Trip_SPO.withColumn(\"_c3\", trim(col(\"_c3\"))).withColumn(\"_c4\", trim(col(\"_c4\"))).withColumn(\"_c5\", trim(col(\"_c5\")))"
   ]
  },
  {
   "cell_type": "code",
   "execution_count": 169,
   "metadata": {},
   "outputs": [
    {
     "name": "stdout",
     "output_type": "stream",
     "text": [
      "+-----+---------------+------+--------------------+---+------+---+--------+\n",
      "|  _c0|            _c1|   _c2|                 _c3|_c4|   _c5|_c6|     _c7|\n",
      "+-----+---------------+------+--------------------+---+------+---+--------+\n",
      "|doc-0|./docs/doc1.txt|sent-0|     navigation Jump|2.0|search|2.0| article|\n",
      "|doc-0|./docs/doc1.txt|sent-0|free encyclopedia...|4.0|search|2.0| article|\n",
      "+-----+---------------+------+--------------------+---+------+---+--------+\n",
      "only showing top 2 rows\n",
      "\n"
     ]
    }
   ],
   "source": [
    "Trip_SPO.show(2)"
   ]
  },
  {
   "cell_type": "code",
   "execution_count": 170,
   "metadata": {},
   "outputs": [],
   "source": [
    "Trip_SPO = Trip_SPO.withColumn(\"_c6\", trim(col(\"_c6\"))).withColumn(\"_c7\", trim(col(\"_c7\")))"
   ]
  },
  {
   "cell_type": "code",
   "execution_count": 171,
   "metadata": {},
   "outputs": [
    {
     "name": "stdout",
     "output_type": "stream",
     "text": [
      "+-----+---------------+------+--------------------+---+------+---+-------+\n",
      "|  _c0|            _c1|   _c2|                 _c3|_c4|   _c5|_c6|    _c7|\n",
      "+-----+---------------+------+--------------------+---+------+---+-------+\n",
      "|doc-0|./docs/doc1.txt|sent-0|     navigation Jump|2.0|search|2.0|article|\n",
      "|doc-0|./docs/doc1.txt|sent-0|free encyclopedia...|4.0|search|2.0|article|\n",
      "+-----+---------------+------+--------------------+---+------+---+-------+\n",
      "only showing top 2 rows\n",
      "\n"
     ]
    }
   ],
   "source": [
    "Trip_SPO.show(2)"
   ]
  },
  {
   "cell_type": "markdown",
   "metadata": {},
   "source": [
    "#### 0.0_rename the column name"
   ]
  },
  {
   "cell_type": "code",
   "execution_count": 172,
   "metadata": {},
   "outputs": [],
   "source": [
    "Trip_SPO = Trip_SPO.withColumnRenamed(\"_c0\", \"document\")\n",
    "# select(column(\"_c0\").alias(\"document\"))"
   ]
  },
  {
   "cell_type": "code",
   "execution_count": 174,
   "metadata": {},
   "outputs": [
    {
     "name": "stdout",
     "output_type": "stream",
     "text": [
      "+--------+---------------+------+--------------------+---+------+---+-------+\n",
      "|document|            _c1|   _c2|                 _c3|_c4|   _c5|_c6|    _c7|\n",
      "+--------+---------------+------+--------------------+---+------+---+-------+\n",
      "|   doc-0|./docs/doc1.txt|sent-0|     navigation Jump|2.0|search|2.0|article|\n",
      "|   doc-0|./docs/doc1.txt|sent-0|free encyclopedia...|4.0|search|2.0|article|\n",
      "+--------+---------------+------+--------------------+---+------+---+-------+\n",
      "only showing top 2 rows\n",
      "\n"
     ]
    }
   ],
   "source": [
    "Trip_SPO.show(2)"
   ]
  },
  {
   "cell_type": "code",
   "execution_count": 175,
   "metadata": {},
   "outputs": [],
   "source": [
    "Trip_SPO = Trip_SPO.withColumnRenamed(\"_c1\", \"path\").withColumnRenamed(\"_c2\", \"sentence\")"
   ]
  },
  {
   "cell_type": "code",
   "execution_count": 176,
   "metadata": {},
   "outputs": [],
   "source": [
    "Trip_SPO = Trip_SPO.withColumnRenamed(\"_c3\", \"s1\").withColumnRenamed(\"_c4\", \"d1\").withColumnRenamed(\"_c5\", \"p\").withColumnRenamed(\"_c6\", \"d2\").withColumnRenamed(\"_c7\", \"s2\")"
   ]
  },
  {
   "cell_type": "code",
   "execution_count": 177,
   "metadata": {
    "scrolled": false
   },
   "outputs": [
    {
     "name": "stdout",
     "output_type": "stream",
     "text": [
      "+--------+---------------+--------+--------------------+---+------+---+-------+\n",
      "|document|           path|sentence|                  s1| d1|     p| d2|     s2|\n",
      "+--------+---------------+--------+--------------------+---+------+---+-------+\n",
      "|   doc-0|./docs/doc1.txt|  sent-0|     navigation Jump|2.0|search|2.0|article|\n",
      "|   doc-0|./docs/doc1.txt|  sent-0|free encyclopedia...|4.0|search|2.0|article|\n",
      "+--------+---------------+--------+--------------------+---+------+---+-------+\n",
      "only showing top 2 rows\n",
      "\n"
     ]
    }
   ],
   "source": [
    "Trip_SPO.show(2)\n"
   ]
  },
  {
   "cell_type": "code",
   "execution_count": 178,
   "metadata": {
    "collapsed": true
   },
   "outputs": [],
   "source": [
    "Trip_SPO.createOrReplaceTempView(\"Trip_SPO\")"
   ]
  },
  {
   "cell_type": "code",
   "execution_count": 179,
   "metadata": {},
   "outputs": [
    {
     "data": {
      "text/plain": [
       "DataFrame[document: string, path: string, sentence: string, s1: string, d1: string, p: string, d2: string, s2: string]"
      ]
     },
     "execution_count": 179,
     "metadata": {},
     "output_type": "execute_result"
    }
   ],
   "source": [
    "Trip_SPO.cache()"
   ]
  },
  {
   "cell_type": "markdown",
   "metadata": {},
   "source": [
    "### 1_building the Graph"
   ]
  },
  {
   "cell_type": "markdown",
   "metadata": {},
   "source": [
    "#### 1.0_Create Vertices"
   ]
  },
  {
   "cell_type": "code",
   "execution_count": 180,
   "metadata": {
    "scrolled": false
   },
   "outputs": [],
   "source": [
    "# tripID_L = spark.sql(\"select distinct id from (select distinct s1 as id from Trip_SPO union all select distinct p as id from Trip_SPO) a\")\n",
    "tripID = Trip_SPO.select(\"s1\").distinct().union(Trip_SPO.select(\"p\").distinct()).union(Trip_SPO.select(\"s2\").distinct()).distinct()"
   ]
  },
  {
   "cell_type": "code",
   "execution_count": 181,
   "metadata": {},
   "outputs": [],
   "source": [
    "tripID = tripID.withColumnRenamed(\"s1\",\"id\")"
   ]
  },
  {
   "cell_type": "code",
   "execution_count": 182,
   "metadata": {},
   "outputs": [
    {
     "name": "stdout",
     "output_type": "stream",
     "text": [
      "+--------------------+\n",
      "|                  id|\n",
      "+--------------------+\n",
      "|Joanne Carole Sch...|\n",
      "|Zen master Kōbun ...|\n",
      "|          short time|\n",
      "|graphical user in...|\n",
      "|Amateur radio peo...|\n",
      "|     confidentiality|\n",
      "|           machinist|\n",
      "|       Edwin H. Land|\n",
      "|Health & Medicine...|\n",
      "|business angel Mi...|\n",
      "+--------------------+\n",
      "only showing top 10 rows\n",
      "\n"
     ]
    }
   ],
   "source": [
    "tripID.show(10)"
   ]
  },
  {
   "cell_type": "code",
   "execution_count": 183,
   "metadata": {},
   "outputs": [
    {
     "data": {
      "text/plain": [
       "6591"
      ]
     },
     "execution_count": 183,
     "metadata": {},
     "output_type": "execute_result"
    }
   ],
   "source": [
    "tripID.count()"
   ]
  },
  {
   "cell_type": "code",
   "execution_count": 184,
   "metadata": {
    "collapsed": true
   },
   "outputs": [],
   "source": [
    "tripID.createOrReplaceTempView(\"tripID\")"
   ]
  },
  {
   "cell_type": "code",
   "execution_count": 187,
   "metadata": {},
   "outputs": [
    {
     "name": "stdout",
     "output_type": "stream",
     "text": [
      "+----------+\n",
      "|        id|\n",
      "+----------+\n",
      "|Steve Jobs|\n",
      "+----------+\n",
      "\n"
     ]
    }
   ],
   "source": [
    "tripID.where(\"id='Steve Jobs'\").show()"
   ]
  },
  {
   "cell_type": "markdown",
   "metadata": {},
   "source": [
    "#### [NOTE] a problem will be gerenated if do not exit the previous hive \n",
    "    Problem: \"Unable to instantiate org.apache.hadoop.hive.ql.metadata.SessionHiveMetaStoreClient\""
   ]
  },
  {
   "cell_type": "markdown",
   "metadata": {},
   "source": [
    "#### 1.1_Create Edges"
   ]
  },
  {
   "cell_type": "code",
   "execution_count": 188,
   "metadata": {
    "collapsed": true
   },
   "outputs": [],
   "source": [
    "tripEdges_L = Trip_SPO.select(\"s1\", \"p\").distinct()"
   ]
  },
  {
   "cell_type": "code",
   "execution_count": 189,
   "metadata": {},
   "outputs": [
    {
     "name": "stdout",
     "output_type": "stream",
     "text": [
      "+--------------------+--------------------+\n",
      "|                  s1|                   p|\n",
      "+--------------------+--------------------+\n",
      "|                once|                told|\n",
      "|            Polaroid|          said about|\n",
      "|                 one|          said about|\n",
      "|freshman English ...|          working on|\n",
      "|              period|            slept on|\n",
      "|                Jobs|          engaged in|\n",
      "|     Larry Waterland|chemical engineer...|\n",
      "|             Wozniak|             oversaw|\n",
      "|               Clara|           motivated|\n",
      "|             designs|              worked|\n",
      "+--------------------+--------------------+\n",
      "only showing top 10 rows\n",
      "\n"
     ]
    }
   ],
   "source": [
    "tripEdges_L.show(10)"
   ]
  },
  {
   "cell_type": "code",
   "execution_count": 190,
   "metadata": {},
   "outputs": [
    {
     "name": "stdout",
     "output_type": "stream",
     "text": [
      "+--------+----------+\n",
      "|     src|       dst|\n",
      "+--------+----------+\n",
      "|    once|      told|\n",
      "|Polaroid|said about|\n",
      "+--------+----------+\n",
      "only showing top 2 rows\n",
      "\n"
     ]
    }
   ],
   "source": [
    "tripEdges_L = tripEdges_L.withColumnRenamed(\"s1\",\"src\").withColumnRenamed(\"p\",\"dst\")\n",
    "tripEdges_L.show(2)"
   ]
  },
  {
   "cell_type": "code",
   "execution_count": 191,
   "metadata": {
    "collapsed": true
   },
   "outputs": [],
   "source": [
    "tripEdges_R = Trip_SPO.select(\"p\", \"s2\").distinct()"
   ]
  },
  {
   "cell_type": "code",
   "execution_count": 192,
   "metadata": {},
   "outputs": [
    {
     "name": "stdout",
     "output_type": "stream",
     "text": [
      "+----------------+--------------------+\n",
      "|               p|                  s2|\n",
      "+----------------+--------------------+\n",
      "|             was|          co-founder|\n",
      "|       member of|The Walt Disney C...|\n",
      "|traveled through|               India|\n",
      "|             was|                cars|\n",
      "|       middle of|       seventh grade|\n",
      "|        allowing|                Jobs|\n",
      "|         decided|       John McCollum|\n",
      "| smartest guy in|             Wozniak|\n",
      "|            gave|               $ 700|\n",
      "|         idea of|   daily convenience|\n",
      "+----------------+--------------------+\n",
      "only showing top 10 rows\n",
      "\n"
     ]
    }
   ],
   "source": [
    "tripEdges_R.show(10)"
   ]
  },
  {
   "cell_type": "code",
   "execution_count": 193,
   "metadata": {
    "scrolled": false
   },
   "outputs": [
    {
     "name": "stdout",
     "output_type": "stream",
     "text": [
      "+---------+--------------------+\n",
      "|      src|                 dst|\n",
      "+---------+--------------------+\n",
      "|      was|          co-founder|\n",
      "|member of|The Walt Disney C...|\n",
      "+---------+--------------------+\n",
      "only showing top 2 rows\n",
      "\n"
     ]
    }
   ],
   "source": [
    "tripEdges_R = tripEdges_R.withColumnRenamed(\"p\",\"src\").withColumnRenamed(\"s2\",\"dst\")\n",
    "tripEdges_R.show(2)"
   ]
  },
  {
   "cell_type": "code",
   "execution_count": 194,
   "metadata": {
    "collapsed": true
   },
   "outputs": [],
   "source": [
    "tripEdges_L.createOrReplaceTempView(\"tripEdges_L\")\n",
    "tripEdges_R.createOrReplaceTempView(\"tripEdges_R\")"
   ]
  },
  {
   "cell_type": "code",
   "execution_count": 195,
   "metadata": {},
   "outputs": [
    {
     "data": {
      "text/plain": [
       "6591"
      ]
     },
     "execution_count": 195,
     "metadata": {},
     "output_type": "execute_result"
    }
   ],
   "source": [
    "tripID.count()"
   ]
  },
  {
   "cell_type": "code",
   "execution_count": 202,
   "metadata": {},
   "outputs": [],
   "source": [
    "# tripEdges = spark.sql(\"select f.src, f.dst from tripEdges_L f join tripID t on t.id = f.src\")\n",
    "tripEdges = tripEdges_L.select(\"src\",\"dst\").distinct().union(tripEdges_R.select(\"src\",\"dst\").distinct()).distinct()"
   ]
  },
  {
   "cell_type": "code",
   "execution_count": 203,
   "metadata": {
    "scrolled": true
   },
   "outputs": [
    {
     "name": "stdout",
     "output_type": "stream",
     "text": [
      "+--------------------+--------------------+\n",
      "|                 src|                 dst|\n",
      "+--------------------+--------------------+\n",
      "|                once|                told|\n",
      "|            Polaroid|          said about|\n",
      "|                 one|          said about|\n",
      "|freshman English ...|          working on|\n",
      "|              period|            slept on|\n",
      "|                Jobs|          engaged in|\n",
      "|     Larry Waterland|chemical engineer...|\n",
      "|             Wozniak|             oversaw|\n",
      "|               Clara|           motivated|\n",
      "|             designs|              worked|\n",
      "+--------------------+--------------------+\n",
      "only showing top 10 rows\n",
      "\n"
     ]
    }
   ],
   "source": [
    "tripEdges.show(10)"
   ]
  },
  {
   "cell_type": "code",
   "execution_count": 204,
   "metadata": {},
   "outputs": [
    {
     "data": {
      "text/plain": [
       "15079"
      ]
     },
     "execution_count": 204,
     "metadata": {},
     "output_type": "execute_result"
    }
   ],
   "source": [
    "tripEdges.count()"
   ]
  },
  {
   "cell_type": "code",
   "execution_count": 215,
   "metadata": {},
   "outputs": [
    {
     "data": {
      "text/plain": [
       "DataFrame[src: string, dst: string]"
      ]
     },
     "execution_count": 215,
     "metadata": {},
     "output_type": "execute_result"
    }
   ],
   "source": [
    "# Cache Vertices and Edges\n",
    "tripID.cache()\n",
    "tripEdges.cache()"
   ]
  },
  {
   "cell_type": "code",
   "execution_count": 206,
   "metadata": {
    "collapsed": true
   },
   "outputs": [],
   "source": [
    "tripGraph = GraphFrame(tripID, tripEdges)"
   ]
  },
  {
   "cell_type": "markdown",
   "metadata": {},
   "source": [
    "#### 1.2 test graph"
   ]
  },
  {
   "cell_type": "code",
   "execution_count": 207,
   "metadata": {
    "scrolled": true
   },
   "outputs": [
    {
     "name": "stdout",
     "output_type": "stream",
     "text": [
      "+--------------------+--------------------+\n",
      "|                 src|                 dst|\n",
      "+--------------------+--------------------+\n",
      "|                once|                told|\n",
      "|            Polaroid|          said about|\n",
      "|                 one|          said about|\n",
      "|freshman English ...|          working on|\n",
      "|              period|            slept on|\n",
      "|                Jobs|          engaged in|\n",
      "|     Larry Waterland|chemical engineer...|\n",
      "|             Wozniak|             oversaw|\n",
      "|               Clara|           motivated|\n",
      "|             designs|              worked|\n",
      "+--------------------+--------------------+\n",
      "only showing top 10 rows\n",
      "\n"
     ]
    }
   ],
   "source": [
    "tripGraph.edges.show(10)"
   ]
  },
  {
   "cell_type": "code",
   "execution_count": 208,
   "metadata": {},
   "outputs": [
    {
     "name": "stdout",
     "output_type": "stream",
     "text": [
      "+--------------------+\n",
      "|                  id|\n",
      "+--------------------+\n",
      "|Joanne Carole Sch...|\n",
      "|Zen master Kōbun ...|\n",
      "|          short time|\n",
      "|graphical user in...|\n",
      "|Amateur radio peo...|\n",
      "|     confidentiality|\n",
      "|           machinist|\n",
      "|       Edwin H. Land|\n",
      "|Health & Medicine...|\n",
      "|business angel Mi...|\n",
      "+--------------------+\n",
      "only showing top 10 rows\n",
      "\n"
     ]
    }
   ],
   "source": [
    "tripGraph.vertices.show(10)"
   ]
  },
  {
   "cell_type": "code",
   "execution_count": 216,
   "metadata": {},
   "outputs": [],
   "source": [
    "filteredPaths = tripGraph.bfs(\n",
    "  fromExpr = \"id = 'Steve Jobs'\",\n",
    "  toExpr = \"id = 'born'\",\n",
    "  maxPathLength = 1000)\n",
    "# FileterTest1 = tripGraph.edges.filter(\"src = 'Steve Jobs'\").show(10)"
   ]
  },
  {
   "cell_type": "code",
   "execution_count": 217,
   "metadata": {},
   "outputs": [
    {
     "name": "stdout",
     "output_type": "stream",
     "text": [
      "+------------+------------------+------+\n",
      "|        from|                e0|    to|\n",
      "+------------+------------------+------+\n",
      "|[Steve Jobs]|[Steve Jobs, born]|[born]|\n",
      "+------------+------------------+------+\n",
      "\n"
     ]
    }
   ],
   "source": [
    "filteredPaths.show()"
   ]
  },
  {
   "cell_type": "code",
   "execution_count": 220,
   "metadata": {},
   "outputs": [
    {
     "name": "stdout",
     "output_type": "stream",
     "text": [
      "+----------+--------------------+\n",
      "|       src|                 dst|\n",
      "+----------+--------------------+\n",
      "|Steve Jobs|Respiratory Arres...|\n",
      "|Steve Jobs|         acknowledge|\n",
      "|Steve Jobs|           published|\n",
      "|Steve Jobs|        Evolution of|\n",
      "|Steve Jobs|Lost Steve Jobs S...|\n",
      "|Steve Jobs|             oversaw|\n",
      "|Steve Jobs|           suspected|\n",
      "|Steve Jobs|              buried|\n",
      "|Steve Jobs|          noted that|\n",
      "|Steve Jobs|        chronicle of|\n",
      "|Steve Jobs| landmark deals with|\n",
      "|Steve Jobs|                were|\n",
      "|Steve Jobs|      Apple Board of|\n",
      "|Steve Jobs|          married in|\n",
      "|Steve Jobs|                told|\n",
      "|Steve Jobs|      designed after|\n",
      "|Steve Jobs|           vision of|\n",
      "|Steve Jobs|  Apple community at|\n",
      "|Steve Jobs|         focusing on|\n",
      "|Steve Jobs|              remain|\n",
      "+----------+--------------------+\n",
      "only showing top 20 rows\n",
      "\n"
     ]
    }
   ],
   "source": [
    "Jobs_Test = tripGraph.edges.filter(\"src = 'Steve Jobs'\").show()"
   ]
  },
  {
   "cell_type": "code",
   "execution_count": 221,
   "metadata": {},
   "outputs": [
    {
     "name": "stdout",
     "output_type": "stream",
     "text": [
      "+----+--------------------+\n",
      "| src|                 dst|\n",
      "+----+--------------------+\n",
      "|born|          Steve Jobs|\n",
      "|born|               world|\n",
      "|born|      Joanne Simpson|\n",
      "|born|                U.S.|\n",
      "|born|  February 24 , 1955|\n",
      "|born|two University of...|\n",
      "|born|                1978|\n",
      "|born|Abdulfattah John ...|\n",
      "|born|      September 1991|\n",
      "|born|                1955|\n",
      "|born|     Joanne Schieble|\n",
      "|born|        birth mother|\n",
      "+----+--------------------+\n",
      "\n"
     ]
    }
   ],
   "source": [
    "Jobs_Test = tripGraph.edges.filter(\"src = 'born'\").show()"
   ]
  }
 ],
 "metadata": {
  "kernelspec": {
   "display_name": "Python 2",
   "language": "python",
   "name": "python2"
  },
  "language_info": {
   "codemirror_mode": {
    "name": "ipython",
    "version": 2
   },
   "file_extension": ".py",
   "mimetype": "text/x-python",
   "name": "python",
   "nbconvert_exporter": "python",
   "pygments_lexer": "ipython2",
   "version": "2.7.13"
  }
 },
 "nbformat": 4,
 "nbformat_minor": 2
}
