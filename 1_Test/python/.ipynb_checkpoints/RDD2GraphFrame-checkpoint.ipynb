{
 "cells": [
  {
   "cell_type": "markdown",
   "metadata": {},
   "source": [
    "### Content\n",
    "    0. File Path\n",
    "    1. Load Vertices\n",
    "    2. Load Edges\n",
    "    3. Create Graph & Test\n",
    "    \n",
    "    (Following part will be added later)\n",
    "    1. Add more attributes to Nodes and Edges\n",
    "    -Nodes:\n",
    "        Entity Node: mention\n",
    "        Realation Node: Sentence/Clause/Entity\n",
    "        Type Node: add type node to Mention Part by Hearst pattern \n",
    "        \n",
    "        -Weight: similarity score with token\n",
    "            Entity Node:\n",
    "            Type Node: \n",
    "            Relation Node: do not calculate is better because Relation Nodes like \"Sentence\" contains more info.\n",
    "            \n",
    "    -Edges:\n",
    "        Type edges should be added\n",
    "        \n",
    "        -Weight: all edges weight is \"1\"\n",
    "        \n",
    "    2. Compute GST\n"
   ]
  },
  {
   "cell_type": "code",
   "execution_count": 2,
   "metadata": {
    "scrolled": true
   },
   "outputs": [
    {
     "data": {
      "text/html": [
       "\n",
       "        <div>\n",
       "            <p><b>SparkContext</b></p>\n",
       "\n",
       "            <p><a href=\"http://192.168.1.101:4040\">Spark UI</a></p>\n",
       "\n",
       "            <dl>\n",
       "              <dt>Version</dt>\n",
       "                <dd><code>v2.4.1</code></dd>\n",
       "              <dt>Master</dt>\n",
       "                <dd><code>local[*]</code></dd>\n",
       "              <dt>AppName</dt>\n",
       "                <dd><code>PySparkShell</code></dd>\n",
       "            </dl>\n",
       "        </div>\n",
       "        "
      ],
      "text/plain": [
       "<SparkContext master=local[*] appName=PySparkShell>"
      ]
     },
     "execution_count": 2,
     "metadata": {},
     "output_type": "execute_result"
    }
   ],
   "source": [
    "sc"
   ]
  },
  {
   "cell_type": "code",
   "execution_count": 3,
   "metadata": {},
   "outputs": [],
   "source": [
    "sc.addPyFile('/usr/local/Cellar/apache-spark/2.4.1/libexec/jars/graphframes-0.7.0-spark2.4-s_2.11.jar')"
   ]
  },
  {
   "cell_type": "code",
   "execution_count": 4,
   "metadata": {},
   "outputs": [],
   "source": [
    "#1. RDD -> DataFrame -> GraphFrame (code need to be change when add attr)\n",
    "#2. GraphX -> GraphFrame (code no need to change when add attr) encounter problem：https://github.com/graphframes/graphframes/issues/359"
   ]
  },
  {
   "cell_type": "code",
   "execution_count": 5,
   "metadata": {},
   "outputs": [],
   "source": [
    "import pyspark.sql.functions as f"
   ]
  },
  {
   "cell_type": "code",
   "execution_count": 6,
   "metadata": {},
   "outputs": [],
   "source": [
    "from graphframes import *"
   ]
  },
  {
   "cell_type": "markdown",
   "metadata": {},
   "source": [
    "## 0. File Path"
   ]
  },
  {
   "cell_type": "code",
   "execution_count": 7,
   "metadata": {},
   "outputs": [],
   "source": [
    "File_verticesTextRDD = \"/Users/jeanxu/Documents/UniLU/0_MasterThesis/4_Spark/ReferenceFromPaul/Graph-Small/Vertices/part-*\""
   ]
  },
  {
   "cell_type": "code",
   "execution_count": 8,
   "metadata": {},
   "outputs": [],
   "source": [
    "File_edgesTextRDD = \"/Users/jeanxu/Documents/UniLU/0_MasterThesis/4_Spark/ReferenceFromPaul/Graph-Small/Edges/part-*\""
   ]
  },
  {
   "cell_type": "markdown",
   "metadata": {},
   "source": [
    "## 1. Load Vertices"
   ]
  },
  {
   "cell_type": "code",
   "execution_count": 9,
   "metadata": {},
   "outputs": [],
   "source": [
    "verticesText0 = spark.read.csv(File_verticesTextRDD, header='false', inferSchema='true', sep='\\t')"
   ]
  },
  {
   "cell_type": "code",
   "execution_count": 10,
   "metadata": {},
   "outputs": [
    {
     "name": "stdout",
     "output_type": "stream",
     "text": [
      "+--------+---+---+--------------------+-------------------+------+\n",
      "|     _c0|_c1|_c2|                 _c3|                _c4|   _c5|\n",
      "+--------+---+---+--------------------+-------------------+------+\n",
      "|Sentence|  0|  1|Politics of Burun...|Politics of Burundi| $END$|\n",
      "|Sentence|  1|  2|Executive power i...|Politics of Burundi| $END$|\n",
      "|Sentence|  2|  3|Legislative power...|Politics of Burundi| $END$|\n",
      "|Sentence|  3|  4|The political lan...|Politics of Burundi| $END$|\n",
      "|Sentence|  4|  5|The current Presi...|Politics of Burundi| $END$|\n",
      "|Sentence|  5|  6|Nkurunziza was th...|Politics of Burundi| $END$|\n",
      "|Sentence|  6|  7|In November 1995,...|Politics of Burundi| $END$|\n",
      "|Sentence|  7|  8|In July 1996, for...|Politics of Burundi| $END$|\n",
      "|Sentence|  8|  9|He declared himse...|Politics of Burundi| $END$|\n",
      "|Sentence|  9| 10|Widespread condem...|Politics of Burundi| $END$|\n",
      "+--------+---+---+--------------------+-------------------+------+\n",
      "only showing top 10 rows\n",
      "\n"
     ]
    }
   ],
   "source": [
    "verticesText0.show(10)\n",
    "# Document：(id, DocumentProperty(title, url, domain, tweets))\n",
    "# Sentence：(id, SentenceProperty(sentenceNumber, sentenceContent, root, links.toList(lenth!=0)))\n",
    "# Clause：  (id, ClauseProperty(clause,clauseType,subject,relation,argument,root,additional.toList))\n",
    "# Mention： (id, MentionProperty(mention, NERtype, entity))\n",
    "# Entity：  (id, EntityProperty(entity))"
   ]
  },
  {
   "cell_type": "code",
   "execution_count": null,
   "metadata": {},
   "outputs": [],
   "source": [
    "##exmaple:\n",
    "# Document\t5691614\tOffice of the United Nations High Commissioner for Human Rights\t\t\tList() $END$\n",
    "# Document\t5691615\tGecko\t\t\tList() $END$\n",
    "# Document\t5691616\tMaeshowe\t\t\tList() $END$\n",
    "# Document\t5691617\tKiwi\t\t\tList() $END$\n",
    "# Document\t5691618\tIblis\t\t\tList() $END$\n",
    "# Document\t5691619\tNumber\t\t\tList() $END$\n",
    "\n",
    "# Sentence\t0\t1\tPolitics of Burundi takes place in a framework of a transitional presidential representative democratic republic, whereby the President of Burundi is both head of state and head of government, and of a multi-party system.\tPolitics of Burundi\t $END$\n",
    "# Sentence\t1\t2\tExecutive power is exercised by the government.\tPolitics of Burundi\t $END$\n",
    "\n",
    "# Clause\t24971\t(\"This method\", \"was used\", \"by an estimated 38 million couples worldwide\", \"in 1991\")\tSVA\tThis method\twas used\tby an estimated 38 million couples worldwide\tCoitus interruptus-3\tin 1991\t\t $END$\n",
    "# Clause\t24972\t(\"what\", \"was transpiring\", \"quickly\", \"spread and everybody\")\tUNKNOWN\twhat\twas transpiring\tquickly\tFirst Council of Constantinople-36\tspread and everybody\t\t $END$\n",
    "# Clause\t24973\t(\"The news of what was transpiring quickly spread and everybody\", \"rushed\", \"to the church\")\tSVA\tThe news of what was transpiring quickly spread and everybody\trushed\tto the church\tFirst Council of Constantinople-36\t\t $END$\n",
    "\n",
    "# Mention\t24975\tFreedom House\tMISC\tFreedom_House $END$\n",
    "# Mention\t24976\tNGO\tORGANIZATION\tNon-governmental_organization $END$\n",
    "# Mention\t24977\tObiang\tPERSON\tTeodoro_Obiang_Nguema_Mbasogo $END$\n",
    "\n",
    "# Entity\t8593089\tJosephine_of_Leuchtenberg $END$\n",
    "# Entity\t8593090\tPublic_Auditorium $END$\n",
    "# Entity\t8593091\tWest_Plains,_Missouri $END$"
   ]
  },
  {
   "cell_type": "code",
   "execution_count": 11,
   "metadata": {},
   "outputs": [],
   "source": [
    "verticesText1 = verticesText0.select(\"_c0\",\"_c1\",\"_c2\",\"_c3\",\"_c4\")\\\n",
    ".withColumnRenamed(\"_c0\", \"name\").withColumnRenamed(\"_c1\", \"id\")\\\n",
    ".withColumnRenamed(\"_c2\", \"attr1\").withColumnRenamed(\"_c3\", \"attr2\")\\\n",
    ".withColumnRenamed(\"_c4\", \"attr3\")"
   ]
  },
  {
   "cell_type": "code",
   "execution_count": 12,
   "metadata": {
    "scrolled": true
   },
   "outputs": [
    {
     "name": "stdout",
     "output_type": "stream",
     "text": [
      "+--------+---+-----+--------------------+-------------------+\n",
      "|    name| id|attr1|               attr2|              attr3|\n",
      "+--------+---+-----+--------------------+-------------------+\n",
      "|Sentence|  0|    1|Politics of Burun...|Politics of Burundi|\n",
      "|Sentence|  1|    2|Executive power i...|Politics of Burundi|\n",
      "|Sentence|  2|    3|Legislative power...|Politics of Burundi|\n",
      "|Sentence|  3|    4|The political lan...|Politics of Burundi|\n",
      "|Sentence|  4|    5|The current Presi...|Politics of Burundi|\n",
      "|Sentence|  5|    6|Nkurunziza was th...|Politics of Burundi|\n",
      "|Sentence|  6|    7|In November 1995,...|Politics of Burundi|\n",
      "|Sentence|  7|    8|In July 1996, for...|Politics of Burundi|\n",
      "|Sentence|  8|    9|He declared himse...|Politics of Burundi|\n",
      "|Sentence|  9|   10|Widespread condem...|Politics of Burundi|\n",
      "+--------+---+-----+--------------------+-------------------+\n",
      "only showing top 10 rows\n",
      "\n"
     ]
    }
   ],
   "source": [
    "verticesText1.show(10)"
   ]
  },
  {
   "cell_type": "markdown",
   "metadata": {},
   "source": [
    "## 2. Load Edges"
   ]
  },
  {
   "cell_type": "code",
   "execution_count": 13,
   "metadata": {},
   "outputs": [],
   "source": [
    "edgesText0 = spark.read.csv(File_edgesTextRDD)"
   ]
  },
  {
   "cell_type": "code",
   "execution_count": 14,
   "metadata": {
    "scrolled": true
   },
   "outputs": [
    {
     "name": "stdout",
     "output_type": "stream",
     "text": [
      "+------------+-------+--------------------+\n",
      "|         _c0|    _c1|                 _c2|\n",
      "+------------+-------+--------------------+\n",
      "|Edge(5691617|7284099|contains the sent...|\n",
      "|Edge(5691617|7284100|contains the sent...|\n",
      "|Edge(5691617|7284101|contains the sent...|\n",
      "|Edge(5691617|7284102|contains the sent...|\n",
      "|Edge(5691617|7284103|contains the sent...|\n",
      "|Edge(5691617|7284104|contains the sent...|\n",
      "|Edge(5691617|7284105|contains the sent...|\n",
      "|Edge(5691617|7284106|contains the sent...|\n",
      "|Edge(5691617|7284107|contains the sent...|\n",
      "|Edge(5691617|7284108|contains the sent...|\n",
      "+------------+-------+--------------------+\n",
      "only showing top 10 rows\n",
      "\n"
     ]
    }
   ],
   "source": [
    "edgesText0.show(10)"
   ]
  },
  {
   "cell_type": "code",
   "execution_count": 15,
   "metadata": {},
   "outputs": [],
   "source": [
    "edgesText0=edgesText0.select(f.translate(f.col(\"_c0\"), \"Edge(\", \"\").alias(\"src\"), \"_c1\", f.translate(f.col(\"_c2\"), \")\", \"\").alias(\"label\"))"
   ]
  },
  {
   "cell_type": "code",
   "execution_count": 16,
   "metadata": {},
   "outputs": [
    {
     "name": "stdout",
     "output_type": "stream",
     "text": [
      "+-------+-------+--------------------+\n",
      "|    src|    _c1|               label|\n",
      "+-------+-------+--------------------+\n",
      "|5691617|7284099|contains the sent...|\n",
      "|5691617|7284100|contains the sent...|\n",
      "|5691617|7284101|contains the sent...|\n",
      "|5691617|7284102|contains the sent...|\n",
      "|5691617|7284103|contains the sent...|\n",
      "|5691617|7284104|contains the sent...|\n",
      "|5691617|7284105|contains the sent...|\n",
      "|5691617|7284106|contains the sent...|\n",
      "|5691617|7284107|contains the sent...|\n",
      "|5691617|7284108|contains the sent...|\n",
      "|5691617|7284109|contains the sent...|\n",
      "|5691617|7284110|contains the sent...|\n",
      "|5691617|7284111|contains the sent...|\n",
      "|5691617|7284112|contains the sent...|\n",
      "|5691617|7284113|contains the sent...|\n",
      "|5691617|7284114|contains the sent...|\n",
      "|5691617|7284115|contains the sent...|\n",
      "|5691617|7284116|contains the sent...|\n",
      "|5691617|7284117|contains the sent...|\n",
      "|5691617|7284118|contains the sent...|\n",
      "+-------+-------+--------------------+\n",
      "only showing top 20 rows\n",
      "\n"
     ]
    }
   ],
   "source": [
    "edgesText0.show()"
   ]
  },
  {
   "cell_type": "code",
   "execution_count": 17,
   "metadata": {},
   "outputs": [],
   "source": [
    "edgesText1 = edgesText0.select(\"*\").withColumnRenamed(\"_c1\", \"dst\")"
   ]
  },
  {
   "cell_type": "code",
   "execution_count": 18,
   "metadata": {},
   "outputs": [
    {
     "name": "stdout",
     "output_type": "stream",
     "text": [
      "+-------+-------+--------------------+\n",
      "|    src|    dst|               label|\n",
      "+-------+-------+--------------------+\n",
      "|5691617|7284099|contains the sent...|\n",
      "|5691617|7284100|contains the sent...|\n",
      "|5691617|7284101|contains the sent...|\n",
      "|5691617|7284102|contains the sent...|\n",
      "|5691617|7284103|contains the sent...|\n",
      "|5691617|7284104|contains the sent...|\n",
      "|5691617|7284105|contains the sent...|\n",
      "|5691617|7284106|contains the sent...|\n",
      "|5691617|7284107|contains the sent...|\n",
      "|5691617|7284108|contains the sent...|\n",
      "|5691617|7284109|contains the sent...|\n",
      "|5691617|7284110|contains the sent...|\n",
      "|5691617|7284111|contains the sent...|\n",
      "|5691617|7284112|contains the sent...|\n",
      "|5691617|7284113|contains the sent...|\n",
      "|5691617|7284114|contains the sent...|\n",
      "|5691617|7284115|contains the sent...|\n",
      "|5691617|7284116|contains the sent...|\n",
      "|5691617|7284117|contains the sent...|\n",
      "|5691617|7284118|contains the sent...|\n",
      "+-------+-------+--------------------+\n",
      "only showing top 20 rows\n",
      "\n"
     ]
    }
   ],
   "source": [
    "edgesText1.show()"
   ]
  },
  {
   "cell_type": "code",
   "execution_count": 41,
   "metadata": {},
   "outputs": [
    {
     "name": "stdout",
     "output_type": "stream",
     "text": [
      "+------+----+--------------------+-----+--------------------+\n",
      "|  name|  id|               attr1|attr2|               attr3|\n",
      "+------+----+--------------------+-----+--------------------+\n",
      "|Clause|4559|(\"A significant c...|  SVA|A significant con...|\n",
      "|Clause|4560|(\"by the French r...|  SVO|by the French res...|\n",
      "|Clause|4561|(\"quinine and str...|  SVC|quinine and stryc...|\n",
      "|Clause|4562|(\"strychnine\", \"i...|  SVC|          strychnine|\n",
      "|Clause|4563|(\"Some writers\", ...|  SVO|        Some writers|\n",
      "|Clause|4564|(\"those\", \"would ...|  SVO|               those|\n",
      "|Clause|4565|(\"The English Cha...|  SVC|The English Chann...|\n",
      "|Clause|4566|(\"Johnston\", \"res...|  SVO|            Johnston|\n",
      "|Clause|4567|(\"Tupper\", \"becam...|  SVO|              Tupper|\n",
      "|Clause|4568|(\"His father\", \"m...|  SVA|          His father|\n",
      "|Clause|4569|(\"Many physicists...|  SVA|     Many physicists|\n",
      "|Clause|4570|(\"of quantum mech...|  SVC|of quantum mechanics|\n",
      "|Clause|4571|(\"The King\", \"app...|  SVO|            The King|\n",
      "|Clause|4572|(\"the band\", \"spl...|  SVA|            the band|\n",
      "|Clause|4573|(\"they\", \"had bui...|  SVO|                they|\n",
      "|Clause|4574|(\"Channel 4\", \"ha...|  SVO|           Channel 4|\n",
      "|Clause|4575|(\"the same logo\",...|  SVO|       the same logo|\n",
      "|Clause|4576|(\"Others\", \"agree...| SVOC|              Others|\n",
      "|Clause|4577|(\"some portion of...|  SVC|some portion of t...|\n",
      "|Clause|4578|(\"the Kingdom of ...|  SVA|the Kingdom of Judah|\n",
      "+------+----+--------------------+-----+--------------------+\n",
      "only showing top 20 rows\n",
      "\n"
     ]
    }
   ],
   "source": [
    "verticesText1.filter(\"name = 'Clause'\").show()"
   ]
  },
  {
   "cell_type": "markdown",
   "metadata": {},
   "source": [
    "## 3. Create Graph & Test"
   ]
  },
  {
   "cell_type": "code",
   "execution_count": 19,
   "metadata": {},
   "outputs": [],
   "source": [
    "Graph = GraphFrame(verticesText1, edgesText1)"
   ]
  },
  {
   "cell_type": "code",
   "execution_count": 20,
   "metadata": {},
   "outputs": [
    {
     "name": "stdout",
     "output_type": "stream",
     "text": [
      "+-------+-------+--------------------+\n",
      "|    src|    dst|               label|\n",
      "+-------+-------+--------------------+\n",
      "|5691617|7284099|contains the sent...|\n",
      "|5691617|7284100|contains the sent...|\n",
      "|5691617|7284101|contains the sent...|\n",
      "|5691617|7284102|contains the sent...|\n",
      "|5691617|7284103|contains the sent...|\n",
      "|5691617|7284104|contains the sent...|\n",
      "|5691617|7284105|contains the sent...|\n",
      "|5691617|7284106|contains the sent...|\n",
      "|5691617|7284107|contains the sent...|\n",
      "|5691617|7284108|contains the sent...|\n",
      "+-------+-------+--------------------+\n",
      "only showing top 10 rows\n",
      "\n"
     ]
    }
   ],
   "source": [
    "Graph.edges.show(10)"
   ]
  },
  {
   "cell_type": "code",
   "execution_count": 23,
   "metadata": {},
   "outputs": [
    {
     "name": "stdout",
     "output_type": "stream",
     "text": [
      "+--------+---+-----+--------------------+-------------------+\n",
      "|    name| id|attr1|               attr2|              attr3|\n",
      "+--------+---+-----+--------------------+-------------------+\n",
      "|Sentence|  0|    1|Politics of Burun...|Politics of Burundi|\n",
      "|Sentence|  1|    2|Executive power i...|Politics of Burundi|\n",
      "|Sentence|  2|    3|Legislative power...|Politics of Burundi|\n",
      "|Sentence|  3|    4|The political lan...|Politics of Burundi|\n",
      "|Sentence|  4|    5|The current Presi...|Politics of Burundi|\n",
      "|Sentence|  5|    6|Nkurunziza was th...|Politics of Burundi|\n",
      "|Sentence|  6|    7|In November 1995,...|Politics of Burundi|\n",
      "|Sentence|  7|    8|In July 1996, for...|Politics of Burundi|\n",
      "|Sentence|  8|    9|He declared himse...|Politics of Burundi|\n",
      "|Sentence|  9|   10|Widespread condem...|Politics of Burundi|\n",
      "+--------+---+-----+--------------------+-------------------+\n",
      "only showing top 10 rows\n",
      "\n"
     ]
    }
   ],
   "source": [
    "Graph.vertices.show(10)"
   ]
  },
  {
   "cell_type": "code",
   "execution_count": 21,
   "metadata": {},
   "outputs": [
    {
     "data": {
      "text/plain": [
       "8593092"
      ]
     },
     "execution_count": 21,
     "metadata": {},
     "output_type": "execute_result"
    }
   ],
   "source": [
    "Graph.vertices.count()"
   ]
  },
  {
   "cell_type": "code",
   "execution_count": 22,
   "metadata": {},
   "outputs": [
    {
     "data": {
      "text/plain": [
       "11607488"
      ]
     },
     "execution_count": 22,
     "metadata": {},
     "output_type": "execute_result"
    }
   ],
   "source": [
    "Graph.edges.count()"
   ]
  },
  {
   "cell_type": "code",
   "execution_count": 32,
   "metadata": {},
   "outputs": [],
   "source": [
    "# Example 1: bfs Algorithm\n",
    "filteredPaths = Graph.bfs(\n",
    "  fromExpr = \"id = '5691617'\",\n",
    "  toExpr = \"id = '7284108'\",\n",
    "  maxPathLength = 2)"
   ]
  },
  {
   "cell_type": "code",
   "execution_count": 33,
   "metadata": {},
   "outputs": [
    {
     "name": "stdout",
     "output_type": "stream",
     "text": [
      "+--------------------+--------------------+--------------------+\n",
      "|                from|                  e0|                  to|\n",
      "+--------------------+--------------------+--------------------+\n",
      "|[Document, 569161...|[5691617, 7284108...|[Sentence, 728410...|\n",
      "+--------------------+--------------------+--------------------+\n",
      "\n"
     ]
    }
   ],
   "source": [
    "# display(filteredPaths)\n",
    "filteredPaths.show()"
   ]
  }
 ],
 "metadata": {
  "kernelspec": {
   "display_name": "Python 2.7.13 64-bit ('QUEST': conda)",
   "language": "python",
   "name": "python271364bitquestconda39a3e5c16cfd48579e21bcb7b60777eb"
  },
  "language_info": {
   "codemirror_mode": {
    "name": "ipython",
    "version": 2
   },
   "file_extension": ".py",
   "mimetype": "text/x-python",
   "name": "python",
   "nbconvert_exporter": "python",
   "pygments_lexer": "ipython2",
   "version": "2.7.13"
  }
 },
 "nbformat": 4,
 "nbformat_minor": 2
}
