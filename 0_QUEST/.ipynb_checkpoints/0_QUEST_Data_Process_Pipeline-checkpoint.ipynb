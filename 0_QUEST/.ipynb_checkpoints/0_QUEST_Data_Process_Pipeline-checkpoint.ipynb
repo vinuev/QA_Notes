{
 "cells": [
  {
   "cell_type": "markdown",
   "metadata": {},
   "source": [
    "## Content:\n",
    "    00 Crawling top 10 documents from Google\n",
    "    0. Pre-processing\n",
    "        0.1 Splitting documents into sentences, removing unnecessary characters\n",
    "        0.2 Extracting potential answer type from question\n",
    "        0.3 Extracting query terms from question\n",
    "        0.4 Extracting entities from all documents\n",
    "        0.5 Building AIDA mention dictionary for all entities\n",
    "    1. QUEST\n",
    "        1.1 Creating SPO Tuples\n",
    "        1.2 Building Graph\n",
    "        1.3 Running GST Algorithm\n",
    "          "
   ]
  },
  {
   "cell_type": "markdown",
   "metadata": {},
   "source": [
    "## 00 Crawling top 10 documents from Google\n",
    "    raw data from Google"
   ]
  },
  {
   "cell_type": "code",
   "execution_count": 56,
   "metadata": {
    "collapsed": true
   },
   "outputs": [],
   "source": [
    "import networkx as nx\n",
    "import pickle"
   ]
  },
  {
   "cell_type": "markdown",
   "metadata": {
    "collapsed": true
   },
   "source": [
    "#### [Input Data] \n",
    "question from terminal. Example: \"When was Steve Jobs born?\"\n",
    "\n",
    "#### [Output Data]\n",
    "10 documents from top 10 website in Google. \n",
    "#### One of Output File:"
   ]
  },
  {
   "cell_type": "code",
   "execution_count": 34,
   "metadata": {},
   "outputs": [
    {
     "data": {
      "text/plain": [
       "['https://en.wikipedia.org/wiki/Steve_Jobs\\n',\n",
       " '  CentralNotice  From Wikipedia, the free encyclopedia Jump to navigation Jump to search This article is about the person. For other uses, see  Steve Jobs (disambiguation) American entrepreneur and co-founder of Apple Inc. Jobs in 2010 Steven Paul Jobs February 24, 1955 October 5, 2011 Palo Alto, California Alta Mesa Memorial Park Pioneer of the  personal computer revolution  with  Co-creator of the  , and first  US$7 billion (September 2011) Co-founder, Chairman, and CEO of  Primary investor and Chairman of  Founder, Chairman, and CEO of  The Walt Disney Company 4, including  Steven Paul Jobs ; February 24, 1955 \\xe2\\x80\\x93 October 5, 2011) was an American  , and  . He was the chairman, chief executive officer (CEO), and co-founder of  , the chairman and majority shareholder of  , a member of  The Walt Disney Company \\'s board of directors following its acquisition of Pixar, and the founder, chairman, and CEO of  . Jobs is widely recognized as a pioneer of the  personal computer revolution  of the 1970s and 1980s, along with Apple co-founder  Jobs was born in  , California, and put up for adoption. He was raised in the  San Francisco Bay Area . He attended   in 1972 before dropping out that same year, and  traveled through India  in 1974 seeking enlightenment and  studying Zen Buddhism . His declassified FBI report states that he used   and   while he was in college, and once told a reporter that taking LSD was \"one of the two or three most important things\" he had done in his life. Jobs and Wozniak co-founded Apple in 1976 to sell Wozniak\\'s   personal computer. Together the duo gained fame and wealth a year later with the  , one of the first highly successful mass-produced  . Jobs saw the commercial potential of the   in 1979, which was  -driven and had a  graphical user interface  (GUI). This led to the development of the unsuccessful   in 1983, followed by the breakthrough   in 1984, the first mass-produced computer with a GUI. The Macintosh introduced the   industry in 1985 with the addition of the Apple  , the first   to feature  . Jobs was forced out of Apple in 1985 after a long power struggle with the company\\'s board and its then-CEO  . That same year, Jobs took a few of Apple\\'s members with him to found  , a   development company that specialized in computers for higher-education and business markets. In addition, he helped to develop the   industry when he funded the computer graphics division of   in 1986. The new company was  , which produced the first 3D computer animated film  Apple acquired NeXT in 1997, and Jobs became CEO of his former company within a few months. He was largely responsible for helping revive Apple, which had been at the verge of bankruptcy. He worked closely with designer   to develop a line of products that had larger cultural ramifications, beginning in 1997 with the \" \" advertising campaign and leading to the  , and the  . In 2001, the original   was replaced with a completely new  Mac OS X , based on NeXT\\'s   platform, giving the OS a modern  -based foundation for the first time. Jobs was diagnosed with a  pancreatic neuroendocrine tumor  in 2003. He died of   related to the tumor at age 56 on October 5, 2011. Biological and adoptive families Pixar and Disney Return to Apple Innovations and designs Honors and awards Biological and adoptive families Steven Paul Jobs was born on February 24, 1955, to Abdulfattah Jandali and Joanne Schieble, and was adopted by Paul and Clara Jobs (n\\xc3\\xa9e Hagopian). His biological father, Abdulfattah \"John\"  : \\xd8\\xb9\\xd8\\xa8\\xd8\\xaf \\xd8\\xa7\\xd9\\x84\\xd9\\x81\\xd8\\xaa\\xd8\\xa7\\xd8\\xad \\xd8\\xa7\\xd9\\x84\\xd8\\xac\\xd9\\x86\\xd8\\xaf\\xd9\\x84\\xd9\\x8a) (b. 1931), grew up in  , Syria, and was born into an   While an undergraduate at the  American University of Beirut , he was a student activist and spent time in prison for his political activities.  He pursued a PhD at the  University of Wisconsin , where he met Joanne Carole Schieble, a Catholic of Swiss and German descent.  As a doctoral candidate, Jandali was a   for a course Schieble was taking, although both were the same age. , Jobs\\'s biological sister, notes that her maternal grandparents were not happy that their daughter was dating a Muslim. , Steve Jobs\\'s  , additionally states that Schieble\\'s father \"threatened to cut Joanne off completely\" if she continued the relationship. Jobs\\'s adoptive father, Paul Reinhold Jobs,  was a Coast Guard mechanic. After leaving the Coast Guard, Paul Jobs married Clara Hagopian in 1946.  Their attempts to start a family were halted after Clara had an  , leading them to consider adoption in 1955. \"Of all the inventions of humans, the   is going to rank near or at the top as history unfolds and we look back. It is the most awesome tool that we have ever invented. I feel incredibly lucky to be at exactly the right place in  , at  exactly the right time, historically , where this invention has taken form.\" \\xe2\\x80\\x94Steve Jobs, 1995. From the documentary,  Steve Jobs: The Lost Interview Schieble became pregnant with Jobs in 1954, when she and Jandali spent the summer with his family in  , Syria. According to Jandali, Schieble deliberately did not involve him in the process: \"without telling me, Joanne upped and left to move to San Francisco to have the baby without anyone knowing, including me.\" Schieble gave birth to Jobs on February 24, 1955, (the same date as Lance from National Cafe) in San Francisco and chose an adoptive couple for him that was \"Catholic, well-educated, and wealthy,\"  but the couple later changed their mind.  Jobs was then placed with Paul and Clara Jobs, neither of whom had a college education, and Schieble refused to sign the adoption papers.  She then took the matter to court in an attempt to have her baby placed with a different family,  and only consented to releasing the baby to Paul and Clara after the couple pledged to pay for the boy\\'s college education. When Steve Jobs was in high school, his mother Clara admitted to his girlfriend,  , that she \"was too frightened to love [Steve] for the first six months of his life ... I was scared they were going to take him away from me. Even after we won the case, Steve was so difficult a child that by the time he was two I felt we had made a mistake. I wanted to return him.\"  When Chrisann shared his mother\\'s comment with Steve, he stated that he was already aware,  and would later say he was deeply loved and indulged by Paul and Clara.  Many years later, Steve Jobs\\'s wife Laurene also noted that \"he felt he had been really blessed by having the two of them as parents.\"  Jobs would become upset when Paul and Clara were referred to as his \"adoptive parents\"; he regarded them as his parents \"1,000%\". With regard to his biological parents, Jobs referred to them as \"my sperm and egg bank. That\\'s not harsh, it\\'s just the way it was, a sperm bank thing, nothing more.\" \"I always thought of myself as a humanities person as a kid, but I liked electronics \\xe2\\x80\\xa6 then I read something that one of my heroes,  Edwin Land of Polaroid , said about the importance of people who could stand at the intersection of humanities and sciences, and I decided that\\'s what I wanted to do.\" Paul and Clara adopted Jobs\\'s sister Patricia in 1957  and by 1959 the family had moved to the   neighborhood in  Mountain View, California  It was during this time that Paul built a workbench in his garage for his son in order to \"pass along his love of mechanics.\"  Jobs, meanwhile, admired his father\\'s craftsmanship \"because he knew how to build anything. If we needed a cabinet, he would build it. When he built our fence, he gave me a hammer so I could work with him ... I wasn\\'t that into fixing cars ... but I was eager to hang out with my dad.\"  By the time he was ten, Jobs was deeply involved in electronics and befriended many of the engineers who lived in the neighborhood.  He had difficulty making friends with children his own age, however, and was seen by his classmates as a \"loner.\" Childhood family home of Steve Jobs on Crist Drive in  Los Altos, California  that served as the original site of  . The home was added to a list of historic Los Altos sites in 2013. Jobs had difficulty functioning in a traditional classroom, tended to resist authority figures, frequently misbehaved, and was suspended a few times.  Clara had taught him to read as a toddler, and Jobs stated that he was \"pretty bored in school and [had] turned into a little terror... you should have seen us in the third grade, we basically destroyed the teacher.\"  He frequently played pranks on others at Monta Loma Elementary School in Mountain View.  His father Paul (who was abused as a child) never reprimanded him, however, and instead blamed the school for not challenging his brilliant son. Jobs would later credit his fourth grade teacher, Imogene \"Teddy\" Hill, with turning him around: \"She taught an advanced fourth grade class and it took her about a month to get hip to my situation. She bribed me into learning. She would say, \\'I really want you to finish this workbook. I\\'ll give you five bucks if you finish it.\\' That really kindled a passion in me for learning things! I learned more that year than I think I learned in any other year in school. They wanted me to skip the next two years in grade school and go straight to junior high to learn a foreign language but my parents very wisely wouldn\\'t let it happen.\"  Jobs skipped the fifth grade and transferred to the sixth grade at Crittenden Middle School in Mountain View  where he became a \"socially awkward loner\".  Jobs \"was often bullied\" at Crittenden Middle, and in the middle of seventh grade, he gave his parents an ultimatum: they had to either take him out of Crittenden or he would drop out of school. Though the Jobs family was not well off, they used all their savings in 1967 to buy a new home, allowing Jobs to change schools.  The new house (a three-bedroom home on Crist Drive in  Los Altos, California ) was in the better  Cupertino School District  and was embedded in an environment that was even more heavily populated with engineering families than the Mountain View area was.  The house was declared a historic site in 2013, as it was the first site for Apple Computer;  as of 2013, it was owned by Patty and occupied by Jobs\\'s step-mother, Marilyn. When he was 13 in 1968, Jobs was given a summer job by   (of  ) after Jobs cold-called him to ask for parts for an electronics project. The location of the Los Altos home meant that Jobs would be able to attend nearby  Homestead High School , which had strong ties to   He began his first year there in late 1968 along with Bill Fernandez.  (Fernandez introduced Jobs to Steve Wozniak, and would later be Apple\\'s first employee.) Neither Jobs nor Fernandez (whose father was a lawyer) came from engineering households and thus decided to enroll in John McCollum\\'s \"Electronics 1.\"  McCollum and the rebellious Jobs (who had grown his hair long and become involved in the growing counterculture) would eventually clash and Jobs began to lose interest in the class. He underwent a change during mid-1970: \"I got stoned for the first time; I discovered Shakespeare,  , and all that classic stuff. I read   and went back as a junior taking creative writing classes.\"  Jobs also later noted to his official biographer that \"I started to listen to music a whole lot, and I started to read more outside of just science and technology\\xe2\\x80\\x94 . I loved   ... when I was a senior I had this phenomenal  AP English class . The teacher was this guy who looked like  . He took a bunch of us snowshoeing in Yosemite.\"  During his last two years at Homestead High, Jobs developed two different interests: electronics and literature.  These dual interests were particularly reflected during Jobs\\'s senior year as his best friends were Wozniak and his first girlfriend, the artistic Homestead junior  In 1971 after Wozniak began attending  University of California, Berkeley , Jobs would visit him there a few times a week. This experience led him to study in nearby  \\'s student union. Jobs also decided that rather than join the electronics club, he would put on light shows with a friend for Homestead\\'s avant-garde Jazz program. He was described by a Homestead classmate as \"kind of a brain and kind of a hippie ... but he never fit into either group. He was smart enough to be a nerd, but wasn\\'t nerdy. And he was too intellectual for the hippies, who just wanted to get wasted all the time. He was kind of an outsider. In high school everything revolved around what group you were in, and if you weren\\'t in a carefully defined group, you weren\\'t anybody. He was an individual, in a world where individuality was suspect.\" By his senior year in late 1971, he was taking freshman English class at Stanford and working on a Homestead underground film project with Chrisann Brennan. Around that time, Wozniak designed a low-cost digital \" \" to generate the necessary tones to manipulate the telephone network, allowing free long-distance calls. Jobs decided then to sell them and split the profit with Wozniak. The clandestine sales of the illegal blue boxes went well and perhaps planted the seed in Jobs\\'s mind that electronics could be both fun and profitable.  Jobs, in a 1994 interview, recalled that it took six months for him and Wozniak to figure out how to build the blue boxes.  Jobs later reflected that had it not been for Wozniak\\'s blue boxes, \"there wouldn\\'t have been an Apple\".  He states it showed them that they could take on large companies and beat them. By his senior year of high school, Jobs began using   He later recalled that on one occasion he consumed it in a wheat field outside Sunnyvale, and experienced \"the most wonderful feeling of my life up to that point\".  In mid-1972, after graduation and before leaving for  , Jobs and Brennan rented a house from their other roommate, Al. \"I was interested in   which hit the shores about then. At   there was a constant flow of people stopping by \\xe2\\x80\\x93 from   and  , to  . There was a constant flow of intellectual questioning about the truth of life. That was the time when every college student in the country read  Be Here Now  and  Diet for a Small Planet In September 1972, Jobs enrolled at   in   He insisted on applying only to Reed although it was an expensive school that Paul and Clara could ill afford.  Jobs soon befriended   who was Reed\\'s  student body president  at that time.  Brennan remained involved with Jobs while he was at Reed. He later asked her to come and live with him in a house he rented near the Reed campus, but she refused. After just one semester, Jobs dropped out of Reed College without telling his parents.  Jobs later explained that he decided to drop out because he did not want to spend his parents\\' money on an education that seemed meaningless to him.  He continued to attend by auditing his classes,  which included a course on   that was taught by  . In a 2005 commencement speech at  , Jobs stated that during this period, he slept on the floor in friends\\' dorm rooms, returned Coke bottles for food money, and got weekly free meals at the local   temple. In that same speech, Jobs said: \"If I had never dropped in on that single   course in college, the Mac would have never had multiple   or proportionally spaced fonts.\" I was lucky to get into computers when it was a very young and idealistic industry. There weren\\'t many degrees offered in computer science, so people in computers were brilliant people from mathematics, physics, music, zoology, whatever. They loved it, and no one was really in it for the money [...] There are people around here who start companies just to make money, but the great companies, well, that\\'s not what they\\'re about.\" In February 1974, Jobs returned to his parents\\' home in Los Altos and began looking for a job.  He was soon hired by   in  Los Gatos, California , which gave him a job as a   Back in 1973,   designed his own version of the classic video game   and gave the board to Jobs. According to Wozniak, Atari only hired Jobs because he took the board down to the company, and they thought that he had built it himself.  Atari\\'s cofounder   later described him as \"difficult but valuable\", pointing out that \"he was very often the smartest guy in the room, and he would let people know that.\" During this period, Jobs and Brennan remained involved with each other while continuing to see other people.  By early 1974, Jobs was living what Brennan describes as a \"simple life\" in a   cabin, working at  , and saving money for  his impending trip  to  Jobs traveled to India in mid-1974  to visit  Neem Karoli Baba  at his Kainchi   with his Reed friend (and eventual Apple employee)  , in search of  . When they got to the Neem Karoli ashram, it was almost deserted because Neem Karoli Baba had died in September 1973.  Then they made a long trek up a dry riverbed to an ashram of  After seven months, Jobs left India  and returned to the US ahead of Daniel Kottke.  Jobs had changed his appearance; his head was shaved and he wore traditional Indian clothing.  During this time, Jobs experimented with  , later calling his   experiences \"one of the two or three most important things [he had] done in [his] life\".  He spent a period at the All One Farm, a   in   that was owned by  . Brennan joined him there for a period. During this time period, Jobs and Brennan both became practitioners of   through the Zen master  K\\xc5\\x8dbun Chino Otogawa . Jobs was living in his parents\\' backyard toolshed, which he had converted into a bedroom.  Jobs engaged in lengthy   at the  Tassajara Zen Mountain Center , the oldest   monastery in the US.  He considered taking up monastic residence at   in  , and maintained a lifelong appreciation for Zen. In mid-1975, after returning to Atari, Jobs was assigned to create a   for the   video game   According to Bushnell, Atari offered   for each   chip that was eliminated in the machine. Jobs had little specialized knowledge of circuit board design and made a deal with Wozniak to split the fee evenly between them if Wozniak could minimize the number of chips. Much to the amazement of Atari engineers, Wozniak reduced the TTL count to 46, a design so tight that it was impossible to reproduce on an assembly line.  According to Wozniak, Jobs told him that Atari gave them only $700 (instead of the $5,000 paid out), and that Wozniak\\'s share was thus $350.  Wozniak did not learn about the actual bonus until ten years later, but said that if Jobs had told him about it and explained that he needed the money, Wozniak would have given it to him. Jobs and Wozniak attended meetings of the  Homebrew Computer Club  in 1975, which was a stepping stone to the development and marketing of the first Apple computer. See also:  History of Apple \\xc2\\xa7\\xc2\\xa01975\\xe2\\x80\\x931985: Jobs and Wozniak  and I invented the Apple because we wanted a personal computer. Not only couldn\\'t we afford the computers that were on the market, those computers were impractical for us to use. We needed a  . The Volkswagen isn\\'t as fast or comfortable as other ways of traveling, but the VW owners can go where they want, when they want and with whom they want. The VW owners have personal control of their car.\" By March 1976, Wozniak completed the basic design of the   computer and showed it to Jobs, who suggested that they sell it; Wozniak was at first skeptical of the idea but later agreed.  In April of that same year, Jobs, Wozniak, and administrative overseer   founded Apple Computer Company (now called  ) as a   in Jobs\\'s parents\\' Crist Drive home on April 1, 1976.  The operation originally started in Jobs\\'s bedroom and later moved to the garage.  Wayne stayed only a short time, leaving Jobs and Wozniak as the active primary cofounders of the company.  The two decided on the name \"Apple\" after Jobs returned from the All One Farm commune in Oregon and told Wozniak about his time spent in the farm\\'s   Jobs originally planned to produce bare  printed circuit boards  of the Apple I and sell them to computer hobbyists for $50 each.  To raise the money they needed to build the first batch of the circuit boards, Wozniak sold his  HP scientific calculator  and Jobs sold his   Later that year, computer retailer   purchased 50 fully assembled units of the Apple I from them for $500 each.  Eventually about 200 Apple I computers were produced in total. A neighbor on Crist Drive recalled Jobs as an odd individual who would greet his clients \"with his underwear hanging out, barefoot and hippie-like\".  Another neighbor, Larry Waterland, who had just earned his PhD in chemical engineering at Stanford, recalled dismissing Jobs\\'s budding business: \"\\'You punched cards, put them in a big deck,\\' he said about the mainframe machines of that time. \\'Steve took me over to the garage. He had a circuit board with a chip on it, a DuMont TV set, a Panasonic cassette tape deck and a keyboard. He said, \\'This is an Apple computer.\\' I said, \\'You\\'ve got to be joking.\\' I dismissed the whole idea.\\'\"  Jobs\\'s friend from Reed College and India,  , recalled that as an early Apple employee, he \"was the only person who worked in the garage ... Woz would show up once a week with his latest code. Steve Jobs didn\\'t get his hands dirty in that sense.\" Kottke also stated that much of the early work took place in Jobs\\'s kitchen, where he spent hours on the phone trying to find investors for the company. They received funding from a then-semi-retired   product marketing manager and engineer  , one of the cofounders of  , said that Jobs broke a \" glass age ceiling \" in Silicon Valley because he\\'d created a very successful company at a young age.  Markkula brought Apple to the attention of  , which after looking at the crowded Apple booth at the Home Brew Computer Show, started with a $60,000 investment and went on the Apple board.  Jobs was not pleased when Markkula recruited   from   in February 1977 to serve as the first president and CEO of Apple. \"For what characterizes Apple is that its scientific staff always acted and performed like artists \\xe2\\x80\\x93 in a field filled with dry personalities limited by the rational and binary worlds they inhabit, Apple\\'s engineering teams had passion. They always believed that what they were doing was important and, most of all, fun. Working at Apple was never just a job; it was also a crusade, a mission, to bring better computer power to people. At its roots that attitude came from Steve Jobs. It was \" Power to the People \", the slogan of the sixties, rewritten in technology for the eighties and called  \\xe2\\x80\\x94Jeffrey S. Young, 1987. From the book,  Steve Jobs: The Journey is the Reward  (published 1988). After Brennan returned from her own journey to India, she and Jobs fell in love again, as Brennan noted changes in him that she attributes to   (whom she was also still following). It was also at this time that Jobs displayed a prototype Apple I computer for Brennan and his parents in their living room. Brennan notes a shift in this time period, where the two main influences on Jobs were Apple Inc. and  . By early 1977, she and Jobs would spend time together at her home at  Duveneck Ranch in Los Altos , which served as a hostel and environmental education center.  In April 1977, Jobs and Wozniak introduced the   at the  West Coast Computer Faire  It is the first consumer product to have been sold by Apple Computer. Primarily designed by Wozniak, Jobs oversaw the development of its unusual case and   developed the unique power supply.  During the design stage, Jobs argued that the Apple II should have two  , while Wozniak wanted eight. After a heated argument, Wozniak threatened that Jobs should \"go get himself another computer\". They later decided to go with eight slots.  The Apple II became one of the first highly successful mass-produced microcomputer products in the world. Jobs usually went to work wearing a black long-sleeved   made by   (it was sometimes reported as   brand),   501 blue jeans, and   991 sneakers.  He said his choice was inspired by that of  , a noted applied mathematics professor at Brown University. Jobs told his biographer Walter Isaacson \"...he came to like the idea of having a uniform for himself, both because of its daily convenience (the rationale he claimed) and its ability to convey a signature style.\" As Jobs became more successful with his new company, his relationship with Brennan grew more complex. In 1977, the success of Apple was now a part of their relationship, and Brennan,  , and Jobs moved into a house near the Apple office in   Brennan eventually took a position in the shipping department at Apple.  Brennan\\'s relationship with Jobs deteriorated as his position with Apple grew, and she began to consider ending the relationship. In October 1977, Brennan was approached by  , who asked her to take \"a paid apprenticeship designing blueprints for the Apples\".  Both Holt and Jobs believed that it would be a good position for her, given her artistic abilities. Holt was particularly eager that she take the position and puzzled by her ambivalence toward it. Brennan\\'s decision, however, was overshadowed by the fact that she realized she was pregnant and that Jobs was the father. It took her a few days to tell Jobs, whose face, according to Brennan \"turned ugly\" at the news. At the same time, according to Brennan, at the beginning of her third trimester, Jobs said to her: \"I never wanted to ask that you get an abortion. I just didn\\'t want to do that.\"  He also refused to discuss the pregnancy with her.  Brennan turned down the internship and decided to leave Apple. She stated that Jobs told her \"If you give up this baby for adoption, you will be sorry\" and \"I am never going to help you.\"  According to Brennan, Jobs \"started to seed people with the notion that I slept around and he was infertile, which meant that this could not be his child.\" A few weeks before she was due to give birth, Brennan was invited to deliver her baby at the All One Farm. She accepted the offer.  When Jobs was 23 (the same age as his biological parents when they had him)  Brennan gave birth to her baby,  , on May 17, 1978.  Jobs went there for the birth after he was contacted by  , their mutual friend and the farm owner. While distant, Jobs worked with her on a name for the baby, which they discussed while sitting in the fields on a blanket. Brennan suggested the name \"Lisa\" which Jobs also liked and notes that Jobs was very attached to the name \"Lisa\" while he \"was also publicly denying paternity.\" She would discover later that during this time, Jobs was preparing to unveil a new kind of computer that he wanted to give a female name (his first choice was \"Claire\" after  ). She also stated that she never gave him permission to use the baby\\'s name for a computer and he hid the plans from her. Jobs also worked with his team to come up with the phrase, \"Local Integrated Software Architecture\" as an   for the   Decades later, however, Jobs admitted to his biographer   that \"obviously, it was named for my daughter\". When Jobs denied paternity, a   established him as Lisa\\'s father. It  required him to give Brennan $385 a month in addition to returning the welfare money she had received. Jobs gave her $500 a month at the time when Apple went public and Jobs became a millionaire. Later, Brennan agreed to give an interview with   for   magazine for its  Time Person of the Year  special, released on January 3, 1983, in which she discussed her relationship with Jobs. Rather than name Jobs the Person of the Year, the magazine named the computer  the \"Machine of the Year\".  In the issue, Jobs questioned the reliability of the paternity test (which stated that the \"probability of paternity for Jobs, Steven... is 94.1%\").  Jobs responded by arguing that \"28% of the male population of the United States could be the father\".  also noted that \"the baby girl and the machine on which Apple has placed so much hope for the future share the same name: Lisa\". Jobs was worth over $1 million in 1978 when he was just 23 years old. His net worth grew to over $250 million by the time he was 25, according to estimates.  He was also one of the youngest \"people ever to make the   list of the nation\\'s richest people\\xe2\\x80\\x94and one of only a handful to have done it themselves, without inherited wealth\". In 1982, Jobs bought an apartment in the two top floors of  The San Remo , a Manhattan building with a politically progressive reputation. Although he never lived there,  he spent years renovating it with the help of  I. M. Pei . In 2003, he sold it to   singer  In 1983, Jobs lured   away from   to serve as Apple\\'s CEO, asking, \"Do you want to spend the rest of your life selling sugared water, or do you want a chance to change the world?\" In 1984, Jobs bought the   and estate, and resided there for a decade. After that, he leased it out for several years until 2000 when he stopped maintaining the house, allowing exposure to the weather to degrade it. In 2004, Jobs received permission from the town of Woodside to demolish the house in order to build a smaller contemporary styled one. After a few years in court, the house was finally demolished in 2011, a few months before he died. A prototype of the original   from 1981 (at the  Computer History Museum Jobs began directing the development of the   in 1981, when he took over the project from early Apple employee  , who conceived the computer (Wozniak was on leave during this time due to an airplane crash earlier that year  On January 22, 1984, Apple aired a   television commercial titled \" \", which ended with the words: \"On January 24th, Apple Computer will introduce Macintosh. And you\\'ll see why 1984 won\\'t be like   On January 24, 1984, an emotional Jobs introduced the Macintosh to a wildly enthusiastic audience at Apple\\'s annual shareholders meeting held in the   Macintosh engineer   described the scene as \"pandemonium\".  The Macintosh was based on   (and  graphical user interface  and it was widely acclaimed by the media with strong initial sales supporting it.  However, the computer\\'s slow processing speed and limited range of available software led to a rapid sales decline in the second half of 1984. Machine That Changed The World, The; Paperback Computer, The; Interview with Steve Jobs, 1990 , 50:08, 05/14/1990,  WGBH Media Library & Archives Sculley\\'s and Jobs\\'s respective visions for the company greatly differed. The former favored   computers like the Apple II, sold to education, small business, and home markets less vulnerable to IBM. Jobs wanted the company to focus on the   Macintosh as a business alternative to the IBM PC. President and CEO Sculley had little control over chairman of the board Jobs\\'s Macintosh division; it and the Apple II division operated like separate companies, duplicating services.  Although its products provided 85 percent of Apple\\'s sales in early 1985, the company\\'s January 1985   did not mention the Apple II division or employees. Many left, including Wozniak, who stated that the company had \"been going in the wrong direction for the last five years\" and sold most of his stock.  Despite being frustrated with the company\\'s (including Jobs himself) dismissal of the Apple II employees in favor of the Macintosh, Wozniak left amicably and remained an honorary employee of Apple, maintaining a friendship with Jobs until his death. By early 1985, the Macintosh\\'s failure to defeat the IBM PC became clear,  and it strengthened Sculley\\'s position in the company. In May 1985, Sculley\\xe2\\x80\\x94encouraged by Arthur Rock\\xe2\\x80\\x94decided to reorganize Apple, and proposed a plan to the board that would remove Jobs from the Macintosh group and put him in charge of \"New Product Development\". This move would effectively render Jobs powerless within Apple.  In response, Jobs then developed a plan to get rid of Sculley and take over Apple. However, Jobs was confronted after the plan was leaked, and he said that he would leave Apple. The Board declined his resignation and asked him to reconsider. Sculley also told Jobs that he had all of the votes needed to go ahead with the reorganization. A few months later, on September 17, 1985, Jobs submitted a letter of resignation to the Apple Board. Five additional senior Apple employees also resigned and joined Jobs in his new venture,  The Macintosh\\'s struggle continued after Jobs left Apple. Though marketed and received in fanfare, the expensive Macintosh was a hard sell.  In 1985,  \\'s then-developing company,  , threatened to stop developing Mac applications unless it was granted \"a license for the Mac operating system software. Microsoft was developing its graphical user interface ... for DOS, which it was calling   and didn\\'t want Apple to sue over the similarities between the Windows GUI and the Mac interface.\"  Sculley granted Microsoft the license which later led to problems for Apple.  In addition, cheap  IBM PC clones  that ran on Microsoft software and had a graphical user interface began to appear. Although the Macintosh preceded the clones, it was far more expensive, so \"through the late 1980s, the Windows user interface was getting better and better and was thus taking increasingly more share from Apple\".  Windows-based IBM-PC clones also led to the development of additional GUIs such as IBM\\'s TopView or Digital Research\\'s GEM,  and thus \"the graphical user interface was beginning to be taken for granted, undermining the most apparent advantage of the Mac...it seemed clear as the 1980s wound down that Apple couldn\\'t go it alone indefinitely against the whole IBM-clone market.\" See also:  Following his resignation from Apple in 1985, Jobs founded   with $7\\xc2\\xa0million. A year later he was running out of money, and he sought venture capital with no product on the horizon. Eventually, Jobs attracted the attention of billionaire  , who invested heavily in the company.  The NeXT computer was shown to the world in what was considered Jobs\\'s comeback event,  a lavish invitation-only gala   that was described as a multimedia extravaganza.  The celebration was held at the  Louise M. Davies Symphony Hall , San Francisco, California on Wednesday October 12, 1988.   said in a 2013 interview that while Jobs was at NeXT he was \"really getting his head together\". NeXT workstations were first released in 1990 and priced at  . Like the  , the NeXT workstation was technologically advanced and designed for the education sector, but was largely dismissed as cost-prohibitive for educational institutions.  The NeXT workstation was known for its technical strengths, chief among them its   software development system. Jobs marketed NeXT products to the financial, scientific, and academic community, highlighting its innovative, experimental new technologies, such as the  , the  digital signal processor  chip, and the built-in   port. Making use of a NeXT computer, English computer scientist   invented the  World Wide Web  in 1990 at   in Switzerland. The revised, second generation   was released in 1990. Jobs touted it as the first \"interpersonal\" computer that would replace the personal computer. With its innovative   multimedia email system, NeXTcube could share voice, image, graphics, and video in email for the first time. \"Interpersonal computing is going to revolutionize human communications and groupwork\", Jobs told reporters.  Jobs ran NeXT with an obsession for aesthetic perfection, as evidenced by the development of and attention to NeXTcube\\'s magnesium case.  This put considerable strain on NeXT\\'s hardware division, and in 1993, after having sold only 50,000 machines, NeXT transitioned fully to software development with the release of   The company reported its first yearly profit of $1.03\\xc2\\xa0million in 1994.  In 1996, NeXT Software, Inc. released  , a framework for Web application development. After NeXT was acquired by Apple Inc. in 1997, WebObjects was used to build and run the   services, and the  Pixar and Disney In 1986, Jobs funded the spinout of The Graphics Group (later renamed  ) from  \\'s computer graphics division for the price of $10\\xc2\\xa0million, $5\\xc2\\xa0million of which was given to the company as capital and $5\\xc2\\xa0million of which was paid to Lucasfilm for technology rights. The first film produced by Pixar with its   partnership,   (1995), with Jobs credited as executive producer,  brought fame and critical acclaim to the studio when it was released. Over the next 15 years, under Pixar\\'s creative chief  , the company produced box-office hits  A Bug\\'s Life  (1998);  Toy Story 2  (1999);   (2001);   (2003);   (2004);   (2006);   (2007);   (2008);   (2009); and  Toy Story 3  (2010).   and  Toy Story 3  each received the  Academy Award for Best Animated Feature , an award introduced in 2001. In 2003 and 2004, as Pixar\\'s contract with Disney was running out, Jobs and Disney chief executive   tried but failed to negotiate a new partnership,  and in January 2004, Jobs announced that he would never deal with Disney again.  Pixar would seek a new partner to distribute its films after its contract expired. In October 2005,   replaced Eisner at Disney, and Iger quickly worked to mend relations with Jobs and Pixar. On January 24, 2006, Jobs and Iger announced that Disney had agreed to purchase Pixar in an all-stock transaction worth $7.4\\xc2\\xa0billion. When the deal closed, Jobs became  The Walt Disney Company \\'s largest single shareholder with approximately seven percent of the company\\'s stock.  Jobs\\'s holdings in Disney far exceeded those of Eisner, who holds 1.7%, and of Disney family member  Roy E. Disney , who until his 2009 death held about 1% of the company\\'s stock and whose criticisms of Eisner\\xe2\\x80\\x94especially that he soured Disney\\'s relationship with Pixar\\xe2\\x80\\x94accelerated Eisner\\'s ousting. Upon completion of the merger, Jobs received 7% of Disney shares, and joined the board of directors as the largest individual shareholder.  Upon Jobs\\'s death his shares in Disney were transferred to the Steven P. Jobs Trust led by  After Jobs\\'s death Iger recalled in 2019 that many warned him about Jobs, \"that he would bully me and everyone else\". Iger wrote, \"Who wouldn\\'t want Steve Jobs to have influence over how a company is run?\", and that as an active Disney board member \"he rarely created trouble for me. Not never but rarely\". He speculated that they would have seriously considered merging Disney and Apple had Jobs lived. , of Pixar, described Jobs as a \"mature, mellow individual\" who never interfered with the creative process of the filmmakers.  In early June 2014, Pixar cofounder and  Walt Disney Animation Studios  President Ed Catmull revealed that Jobs once advised him to \"just explain it to them until they understand\" in disagreements. Catmull released the book   in 2014, in which he recounts numerous experiences of working with Jobs. Regarding his own manner of dealing with Jobs, Catmull writes: In all the 26 years with Steve, Steve and I never had one of these loud verbal arguments and it\\'s not my nature to do that. ... but we did disagree fairly frequently about things. ... I would say something to him and he would immediately shoot it down because he could think faster than I could. ... I would then wait a week ... I\\'d call him up and I give my counter argument to what he had said and he\\'d immediately shoot it down. So I had to wait another week, and sometimes this went on for months. But in the end one of three things happened. About a third of the time he said, \\'Oh, I get it, you\\'re right.\\' And that was the end of it. And it was another third of the time in which [I\\'d] say, \\'Actually I think he is right.\\' The other third of the time, where we didn\\'t reach consensus, he just let me do it my way, never said anything more about it. Jobs\\'s house in  Jobs\\'s house, as viewed from an adjacent sidewalk. Abundant fruit trees are visible next to the house  notes that after Jobs was forced out of Apple, \"he apologized many times over for his behavior\" towards her and Lisa. She also states that Jobs \"said that he never took responsibility when he should have, and that he was sorry\".  By this time, Jobs had developed a strong relationship with Lisa and when she was nine, Jobs had her name on her birth certificate changed from \"Lisa Brennan\" to \"Lisa Brennan-Jobs\".  In addition, Jobs and Brennan developed a working relationship to   Lisa, a change Brennan credits to the influence of his newly found biological sister,   (who worked to repair the relationship between Lisa and Jobs).  Jobs found Mona after first finding his birth mother, Joanne Schieble Simpson, shortly after he left Apple. Jobs did not contact his birth family during his adoptive mother Clara\\'s lifetime, however. He would later tell his official biographer  : \"I never wanted [Paul and Clara] to feel like I didn\\'t consider them my parents, because they were totally my parents [...] I loved them so much that I never wanted them to know of my search, and I even had reporters keep it quiet when any of them found out.\"  However, in 1986 when he was 31, Clara was diagnosed with lung cancer. He began to spend a great deal of time with her and learned more details about her background and his adoption, information that motivated him to find his biological mother. Jobs found on his birth certificate the name of the San Francisco doctor to whom Schieble had turned when she was pregnant. Although the doctor did not help Jobs while he was alive, he left a letter for Jobs to be opened upon his death. As he died soon afterwards, Jobs was given the letter which stated that \"his mother had been an unmarried graduate student from Wisconsin named Joanne Schieble.\" Jobs only contacted Schieble after Clara died in early 1986 and after he received permission from his father, Paul. In addition, out of respect for Paul, he asked the media not to report on his search.  Jobs stated that he was motivated to find his birth mother out of both curiosity and a need \"to see if she was okay and to thank her, because I\\'m glad I didn\\'t end up as an abortion. She was twenty-three and she went through a lot to have me.\"  Schieble was emotional during their first meeting (though she wasn\\'t familiar with the history of Apple or Jobs\\'s role in it) and told him that she had been pressured into signing the adoption papers. She said that she regretted giving him up and repeatedly apologized to him for it. Jobs and Schieble would develop a friendly relationship throughout the rest of his life and would spend Christmas together. During this first visit, Schieble told Jobs that he had a sister, Mona, who was not aware that she had a brother.  Schieble then arranged for them to meet in New York where Mona worked. Her first impression of Jobs was that \"he was totally straightforward and lovely, just a normal and sweet guy.\"  Simpson and Jobs then went for a long walk to get to know each other.  Jobs later told his biographer that \"Mona was not completely thrilled at first to have me in her life and have her mother so emotionally affectionate toward me . . . . As we got to know each other, we became really good friends, and she is my family. I don\\'t know what I\\'d do without her. I can\\'t imagine a better sister. My adopted sister, Patty, and I were never close.\" \"I grew up as an only child, with a single mother. Because we were poor and because I knew my father had emigrated from Syria, I imagined he looked like  . I hoped he would be rich and kind and would come into our lives (and our not-yet-furnished apartment) and help us. Later, after I\\'d met my father, I tried to believe he\\'d changed his number and left no forwarding address because he was an idealistic revolutionary, plotting a new world for the Arab people. Even as a feminist, my whole life I\\'d been waiting for a man to love, who could love me. For decades, I\\'d thought that man would be my father. When I was 25, I met that man, and he was my brother.\" Jobs then learned his family history. Six months after he was given up for adoption, Schieble\\'s father died, she wed Jandali, and they had a daughter, Mona.  Jandali states that after finishing his PhD he returned to Syria to work and that it was during this period that Schieble left him  (they divorced in 1962).  He also states that after the divorce he lost contact with Mona for a period of time:  I also bear the responsibility for being away from my daughter when she was four years old, as her mother divorced me when I went to Syria, but we got back in touch after 10 years. We lost touch again when her mother moved and I didn\\'t know where she was, but since 10 years ago we\\'ve been in constant contact, and I see her three times a year. I organized a trip for her last year to visit Syria and Lebanon and she went with a relative from Florida.  A few years later, Schieble married an ice skating teacher, George Simpson.  Mona Jandali took her stepfather\\'s last name and thus became Mona Simpson. In 1970, after divorcing her second husband, Schieble took Mona to Los Angeles and raised her on her own. When Simpson found that their father, Abdulfattah Jandali was living in  , Jobs had no interest in meeting him as he believed Jandali didn\\'t treat his children well.  Simpson went to Sacrament alone and met Jandali who worked in a small restaurant.  Jandali and Simpson spoke for several hours at which point he told her that he had left teaching for the restaurant business.  He also said that he and Schieble had given another child away for adoption but that \"we\\'ll never see that baby again. That baby\\'s gone.\"  At the request of Jobs, Simpson did not tell Jandali that she had met his son.  Jandali further told Simpson that he once managed a Mediterranean restaurant near   and that \"all of the successful technology people used to come there. Even Steve Jobs ... oh yeah, he used to come in, and he was a sweet guy and a big tipper.\" After hearing about the visit, Jobs recalled that \"it was amazing .... I had been to that restaurant a few times, and I remember meeting the owner. He was Syrian. Balding. We shook hands.\"  However, Jobs still did not want to meet Jandali because \"I was a wealthy man by then, and I didn\\'t trust him not to try to blackmail me or go to the press about it ... I asked Mona not to tell him about me.\"  Jandali later discovered his relationship to Jobs through an online blog. He then contacted Simpson and asked \"what is this thing about Steve Jobs?\" Simpson told him that it was true and later commented, \"My father is thoughtful and a beautiful storyteller, but he is very, very passive ... He never contacted Steve.\"  Because Simpson, herself, researched her Syrian roots and began to meet members of the family, she assumed that Jobs would eventually want to meet their father, but he never did.  Jobs also never showed an interest in his Syrian heritage or the Middle East.  Simpson fictionalized the search for their father in the 1992 novel,  The Lost Father  is their cousin. In 1989, Jobs first met his future wife,  , when he gave a lecture at the  Stanford Graduate School of Business , where she was a student. Soon after the event, he stated that Laurene \"was right there in the front row in the lecture hall, and I couldn\\'t take my eyes off of her ... kept losing my train of thought, and started feeling a little giddy.\"  After the lecture, Jobs met up with her in the parking lot and invited her out to dinner. From that point forward, they were together, with a few minor exceptions, for the rest of his life.  Powell\\'s father died when she was very young, and her mother raised her in a middle class   home similar to the one Jobs grew up in. After she received her BA from the  University of Pennsylvania , she spent a short period in high finance but found it didn\\'t interest her, so she decided to pursue her MBA at Stanford instead. In addition, unlike Jobs, she was athletic and followed professional sports. She also brought as much self-sufficiency to the relationship as he did and was more of a private than public person.  Jobs proposed on New Year\\'s Day 1990 with \"a fistful of freshly picked wildflowers\".  They married on March 18, 1991, in a Buddhist ceremony at the   in  Yosemite National Park  Fifty people, including his father, Paul, and his sister, Mona, attended. The ceremony was conducted by Jobs\\'s  Kobun Chino Otogawa . The vegan wedding cake was in the shape of Yosemite\\'s  , and the wedding ended with a hike (during which Laurene\\'s brothers had a snowball fight). Jobs is reported to have said to Mona: \"You see, Mona [...], Laurene is descended from  , and we\\'re descended from  Jobs\\'s and Powell\\'s first child, Reed, was born September 1991.  Jobs\\'s father, Paul, died a year and a half later, on March 5, 1993. Jobs and Powell had two more children, Erin, born in August 1995, and Eve, born in 1998.  The family lived in  Palo Alto, California  A journalist who grew up locally remembered him as owning the house with \"the scariest [Halloween] decorations in Palo Alto...I don\\'t remember seeing him. I was busy being terrified.\" Return to Apple See also:  Apple Inc. \\xc2\\xa7\\xc2\\xa01997\\xe2\\x80\\x932007: Return to profitability Jobs on stage at  Macworld Conference & Expo , San Francisco, January 11, 2005 In 1996, Apple announced that it would buy   for $427\\xc2\\xa0million. The deal was finalized in February 1997,  bringing Jobs back to the company he had cofounded. Jobs became   chief after then-CEO   was ousted in July 1997. He was formally named interim chief executive in September.  In March 1998, to concentrate Apple\\'s efforts on returning to profitability, Jobs terminated a number of projects, such as  , and  . In the coming months, many employees developed a fear of encountering Jobs while riding in the elevator, \"afraid that they might not have a job when the doors opened. The reality was that Jobs\\'s summary executions were rare, but a handful of victims was enough to terrorize a whole company.\"  Jobs changed the licensing program for  , making it too costly for the manufacturers to continue making machines. With the purchase of NeXT, much of the company\\'s technology found its way into Apple products, most notably  , which evolved into  Mac OS X . Under Jobs\\'s guidance, the company increased sales significantly with the introduction of the   and other new products; since then, appealing designs and powerful branding have worked well for Apple. At the 2000 Macworld Expo, Jobs officially dropped the \"interim\" modifier from his title at Apple and became permanent CEO.  Jobs quipped at the time that he would be using the title \"iCEO\". The company subsequently branched out, introducing and improving upon other digital appliances. With the introduction of the   portable music player, iTunes digital music software, and the  , the company made forays into consumer electronics and music distribution. On June 29, 2007, Apple entered the cellular phone business with the introduction of the  , a   display cell phone, which also included the features of an iPod and, with its own mobile browser, revolutionized the mobile browsing scene. While nurturing open-ended innovation, Jobs also reminded his employees that \"real artists ship\". Jobs had a public war of words with   CEO  , starting in 1987, when Jobs first criticized Dell for making \"un-innovative beige boxes\".  On October 6, 1997, at a   Symposium, when Dell was asked what he would do if he ran the then-troubled Apple Computer company, he said: \"I\\'d shut it down and give the money back to the shareholders.\"  Then, in 2006, Jobs sent an email to all employees when Apple\\'s   rose above Dell\\'s: Team, it turned out that Michael Dell wasn\\'t perfect at predicting the future. Based on today\\'s stock market close, Apple is worth more than Dell. Stocks go up and down, and things may be different tomorrow, but I thought it was worth a moment of reflection today. Steve. Jobs was both admired and criticized for his consummate skill at persuasion and salesmanship, which has been dubbed the \" reality distortion field \" and was particularly evident during his keynote speeches (colloquially known as \" \") at   and at  Apple Worldwide Developers Conferences Jobs was a board member at   from 1999 to 2002. Steve Jobs and   at the fifth  D: All Things Digital  conference ( ) in May 2007 In 2001, Jobs was granted stock options in the amount of 7.5\\xc2\\xa0million shares of Apple with an exercise price of $18.30. It was alleged that the options had been  , and that the exercise price should have been $21.10. It was further alleged that Jobs had thereby incurred taxable income of $20,000,000 that he did not report, and that Apple overstated its earnings by that same amount. As a result, Jobs potentially faced a number of criminal charges and civil penalties. The case was the subject of active criminal and civil government investigations,  though an independent internal Apple investigation completed on December 29, 2006 found that Jobs was unaware of these issues and that the options granted to him were returned without being exercised in 2003. In 2005, Jobs responded to criticism of Apple\\'s poor recycling programs for   in the US by lashing out at environmental and other advocates at Apple\\'s annual meeting in Cupertino in April. A few weeks later, Apple announced it would take back iPods for free at its retail stores. The  Computer TakeBack Campaign  responded by flying a banner from a plane over the Stanford University graduation at which Jobs was the commencement speaker. The banner read \"Steve, don\\'t be a mini-player\\xe2\\x80\\x94recycle all e-waste.\" In 2006, he further expanded Apple\\'s recycling programs to any US customer who buys a new Mac. This program includes shipping and \"environmentally friendly disposal\" of their old systems.  The success of Apple\\'s unique products and services provided several years of stable financial returns, propelling Apple to become the world\\'s most valuable publicly traded company in 2011. Jobs was perceived as a demanding perfectionist  who always aspired to position his businesses and their products at the forefront of the information technology industry by foreseeing and setting innovation and style trends. He summed up this self-concept at the end of his keynote speech at the  Macworld Conference and Expo  in January 2007, by quoting ice hockey player  There\\'s an old Wayne Gretzky quote that I love. \"I skate to where the puck is going to be, not where it has been.\" And we\\'ve always tried to do that at Apple. Since the very, very beginning. And we always will. Jobs demonstrating the   to Russian President   on June 23, 2010 On July 1, 2008, a   billion class action suit was filed against several members of the Apple board of directors for revenue lost because of alleged securities fraud. In a 2011 interview with biographer Walter Isaacson, Jobs revealed that he had met with US President  , complained about the nation\\'s shortage of software engineers, and told Obama that he was \"headed for a one-term presidency\".  Jobs proposed that any foreign student who got an engineering degree at a US university should automatically be offered a green card. After the meeting, Jobs commented, \"The president is very smart, but he kept explaining to us reasons why things can\\'t get done . . . . It infuriates me.\" In October 2003, Jobs was diagnosed with cancer. In mid-2004, he announced to his employees that he had a cancerous tumor in his   The prognosis for   is usually very poor;  Jobs stated that he had a rare, much less aggressive type, known as  islet cell neuroendocrine tumor Despite his diagnosis, Jobs resisted his doctors\\' recommendations for medical intervention for nine months,  instead relying on   to thwart the disease. According to Harvard researcher Ramzi Amri, his choice of alternative treatment \"led to an unnecessarily early death\". Other doctors agree that Jobs\\'s diet was insufficient to address his disease. However, cancer researcher and alternative medicine critic   wrote that \"it\\'s impossible to know whether and by how much he might have decreased his chances of surviving his cancer through his flirtation with woo. My best guess was that Jobs probably only modestly decreased his chances of survival, if that.\" Barrie R. Cassileth , the chief of  Memorial Sloan Kettering Cancer Center  said, \"Jobs\\'s faith in alternative medicine likely cost him his life.... He had the only kind of pancreatic cancer that is treatable and curable.... He essentially committed suicide.\"  According to Jobs\\'s biographer, Walter Isaacson, \"for nine months he refused to undergo surgery for his pancreatic cancer \\xe2\\x80\\x93 a decision he later regretted as his health declined\".  \"Instead, he tried a vegan diet, acupuncture, herbal remedies, and other treatments he found online, and even consulted a psychic. He was also influenced by a doctor who ran a clinic that advised juice fasts, bowel cleansings and other unproven approaches, before finally having surgery in July 2004.\"  He eventually underwent a   (or \"Whipple procedure\") in July 2004, that appeared to remove the tumor successfully.  Jobs did not receive   or   During Jobs\\'s absence,  , head of worldwide sales and operations at Apple, ran the company. As of January\\xc2\\xa02006 , only Jobs\\'s wife, his doctors, and Iger and his wife knew that his cancer had returned. Jobs told Iger privately that he hoped to live to see his son Reed\\'s high school graduation in 2010.  In early August 2006, Jobs delivered the keynote for Apple\\'s annual  Worldwide Developers Conference . His \"thin, almost gaunt\" appearance and unusually \"listless\" delivery,  together with his choice to delegate significant portions of his keynote to other presenters, inspired a flurry of media and Internet speculation about the state of his health.  In contrast, according to an   journal report,  Worldwide Developers Conference  (WWDC) attendees who saw Jobs in person said he \"looked fine\".  Following the keynote, an Apple spokesperson said that \"Steve\\'s health is robust.\" Two years later, similar concerns followed Jobs\\'s 2008 WWDC keynote address.  Apple officials stated that Jobs was victim to a \"common bug\" and was taking antibiotics,  while others surmised his   was due to the Whipple procedure.  During a July conference call discussing Apple earnings, participants responded to repeated questions about Jobs\\'s health by insisting that it was a \"private matter\". Others said that shareholders had a right to know more, given Jobs\\'s hands-on approach to running his company.  Based on an off-the-record phone conversation with Jobs,  The New York Times  reported, \"While his health problems amounted to a good deal more than \\'a common bug\\', they weren\\'t life-threatening and he doesn\\'t have a recurrence of cancer.\" On August 28, 2008,   mistakenly published a 2500-word   of Jobs in its corporate news service, containing blank spaces for his age and cause of death. News carriers customarily stockpile up-to-date obituaries to facilitate news delivery in the event of a well-known figure\\'s death. Although the error was promptly rectified, many news carriers and blogs reported on it,  intensifying rumors concerning Jobs\\'s health.  Jobs responded at Apple\\'s September 2008   keynote by paraphrasing  : \"Reports of my death are greatly exaggerated.\"  At a subsequent media event, Jobs concluded his presentation with a slide reading \"110/70\", referring to his  , stating he would not address further questions about his health. On December 16, 2008, Apple announced that marketing vice-president   would deliver the company\\'s final keynote address at the  Macworld Conference and Expo  2009, again reviving questions about Jobs\\'s health.  In a statement given on January 5, 2009, on  , Jobs said that he had been suffering from a \" \" for several months. On January 14, 2009, Jobs wrote in an internal Apple memo that in the previous week he had \"learned that my health-related issues are more complex than I originally thought\".  He announced a six-month leave of absence until the end of June 2009, to allow him to better focus on his health. Tim Cook, who previously acted as CEO in Jobs\\'s 2004 absence, became acting CEO of Apple, with Jobs still involved with \"major strategic decisions\". In 2009, Tim Cook offered a portion of his liver to Jobs, since both share a rare blood type and the donor liver can regenerate tissue after such an operation. Jobs yelled, \"I\\'ll never let you do that. I\\'ll never do that.\" In April 2009, Jobs underwent a   at Methodist University Hospital Transplant Institute in   Jobs\\'s prognosis was described as \"excellent\". On January 17, 2011, a year and a half after Jobs returned to work following the liver transplant, Apple announced that he had been granted a medical leave of absence. Jobs announced his leave in a letter to employees, stating his decision was made \"so he could focus on his health\". As it did at the time of his 2009 medical leave, Apple announced that Tim Cook would run day-to-day operations and that Jobs would continue to be involved in major strategic decisions at the company.  While on leave, Jobs appeared at the   launch event on March 2, the   keynote introducing   on June 6, and before the Cupertino City Council on June 7. On August 24, 2011, Jobs announced his resignation as Apple\\'s CEO, writing to the board, \"I have always said if there ever came a day when I could no longer meet my duties and expectations as Apple\\'s CEO, I would be the first to let you know. Unfortunately, that day has come.\"  Jobs became chairman of the board and named Tim Cook as his successor as CEO.  Jobs continued to work for Apple until the day before his death six weeks later. Flags flying at   outside Apple HQ in Cupertino, on the evening of Jobs\\'s death Memorial candles and iPads pay tribute to Jobs outside the Apple Store in Palo Alto, California, shortly after his death Jobs died at his  Palo Alto, California , home around 3\\xc2\\xa0p.m. ( ) on October 5, 2011, due to complications from a   of his previously treated islet-cell  pancreatic neuroendocrine tumor  which resulted in   He had lost consciousness the day before and died with his wife, children, and sisters at his side.  His sister,  , described his death thus: \"Steve\\'s final words, hours earlier, were monosyllables, repeated three times. Before embarking, he\\'d looked at his sister Patty, then for a long time at his children, then at his life\\'s partner, Laurene, and then over their shoulders past them. Steve\\'s final words were: \\'Oh wow. Oh wow. Oh wow.\\'\" He then lost consciousness and died several hours later.  A small private funeral was held on October 7, 2011, the details of which, out of respect for Jobs\\'s family, were not made public.  and Pixar each issued announcements of his death.  Apple announced on the same day that they had no plans for a public service, but were encouraging \"well-wishers\" to send their remembrance messages to an email address created to receive such messages.  and   both flew their flags at   throughout their respective headquarters and campuses.  ordered all   properties, including  Walt Disney World  and  , to fly their flags at half-staff from October 6 to 12, 2011.  For two weeks  following his death, Apple displayed on its corporate Web site a simple page that showed Jobs\\'s name and lifespan next to his grayscale portrait.  On October 19, 2011, Apple employees held a private memorial service for Jobs on the Apple campus in Cupertino. Jobs\\'s widow, Laurene, was in attendance, as well as Cook,  , and   Some of Apple\\'s retail stores closed briefly so employees could attend the memorial. A video of the service was uploaded to Apple\\'s website. California Governor   declared Sunday, October 16, 2011, to be \"Steve Jobs Day\".  On that day, an invitation-only memorial was held at  . Those in attendance included Apple and other tech company executives, members of the media, celebrities, close friends of Jobs, and politicians, along with Jobs\\'s family.  Yo Yo Ma , and   performed at the service, which lasted longer than an hour. The service was highly secured, with guards at all of the university\\'s gates, and a helicopter flying overhead from an area news station.  Each attendee was given a small brown box as a \"farewell gift\" from Jobs. The box contained a copy of the  Autobiography of a Yogi  by  Childhood friend and fellow Apple co-founder   former owner of what would become   former rival,   co-founder   and President   all offered statements in response to his death. Jobs is buried in an   at  Alta Mesa Memorial Park , the only   cemetery in Palo Alto. Innovations and designs Jobs\\'s design aesthetic was influenced by philosophies of Zen and Buddhism. In India, he experienced Buddhism while on his seven-month spiritual journey,  and his sense of intuition was influenced by the spiritual people with whom he studied.  He also learned from many references and sources, such as   architectural style of   and the   of   and  According to Apple co-founder Steve Wozniak, \"Steve didn\\'t ever code. He wasn\\'t an engineer and he didn\\'t do any original design...\" , one of Apple\\'s earliest employees and a college friend of Jobs\\'s, stated: \"Between Woz and Jobs, Woz was the innovator, the inventor. Steve Jobs was the marketing person.\" He is listed as either primary inventor or co-inventor in 346 United States patents or patent applications related to a range of technologies from actual computer and portable devices to user interfaces (including touch-based), speakers, keyboards, power adapters, staircases, clasps, sleeves,   and packages. Jobs\\'s contributions to most of his patents were to \"the look and feel of the product\". His industrial design chief   had his name along with Jobs\\'s name for 200 of the patents.  Most of these are design patents (specific product designs; for example, Jobs listed as primary inventor in patents for both original and lamp-style  , as well as  PowerBook G4 Titanium ) as opposed to utility patents (inventions).  He has 43 issued US patents on inventions.  The patent on the Mac OS X   user interface with \"magnification\" feature was issued the day before he died.  Although Jobs had little involvement in the engineering and technical side of the original Apple computers,  Jobs later used his CEO position to directly involve himself with product design. Involved in many projects throughout his career was his long-time marketing executive and confidant  , known as one of the few employees at Apple and NeXT who could successfully stand up to Jobs while also engaging with him. Even while terminally ill in the hospital, Jobs sketched new devices that would hold the iPad in a hospital bed.  He also despised the oxygen monitor on his finger and suggested ways to revise the design for simplicity. Since his death, the former Apple CEO has won 141 patents, more than most inventors win during their lifetimes. Currently, Jobs holds over 450 patents. Main article:  Although entirely designed by Steve Wozniak, Jobs had the idea of selling the  , which led to the formation of   in 1976. Both Jobs and Wozniak constructed several of the first Apple I prototypes by hand, and sold some of their belongings in order to do so. Eventually, 200 units were produced.  with an external  , designed primarily by Wozniak Main article:  Apple II series  is an  , one of the world\\'s first highly successful mass-produced   designed primarily by Wozniak (Jobs oversaw the development of the Apple II\\'s unusual case  and   developed the unique power supply ). It was introduced in 1977 at the  West Coast Computer Faire  by Jobs and Wozniak and was the first consumer product sold by Apple. Main article:  The Lisa is a personal computer designed by Apple during the early 1980s. It was the first personal computer to offer a  graphical user interface  in a machine aimed at individual business users. Development of the Lisa began in 1978.  The Lisa sold poorly, with only 100,000 units sold. In 1982, after Jobs was forced out of the Lisa project,  he joined the   project. The Macintosh is not a direct descendant of Lisa, although there are obvious similarities between the systems. The final revision, the Lisa 2/10, was modified and sold as the  Jobs holding up a   at the  MacWorld Conference & Expo  in 2008 Main article:  Once he joined the   team, Jobs took over the project after Wozniak had experienced a traumatic airplane accident and temporarily left the company.  Jobs introduced the Macintosh computer on January 24, 1984. This was the first mass-market personal computer featuring an integral  graphical user interface  and   This first model was later renamed to \"Macintosh 128k\" for uniqueness amongst a populous family of subsequently updated models which are also based on Apple\\'s same proprietary architecture. Since 1998, Apple has largely phased out the Macintosh name in favor of \"Mac\", though the product family has been nicknamed \"Mac\" or \"the Mac\" since the development of the first model. The Macintosh was introduced by a US$1.5\\xc2\\xa0million   television commercial, \"  It most notably aired during the third quarter of  Super Bowl XVIII  on January 22, 1984, and some people consider the ad a \"watershed event\"  and a \"masterpiece\".  called the ad \"more successful than the Mac itself\".  \"1984\" uses an unnamed heroine to represent the coming of the Macintosh (indicated by a  -style picture of the computer on her white  ) as a means of saving humanity from the conformity of IBM\\'s attempts to dominate the computer industry. The ad   to  \\'s novel,  , which describes a   ruled by a televised \" The Macintosh, however, was expensive, which hindered its ability to be competitive in a market already dominated by the   for consumers, as well as the  IBM Personal Computer  and its accompanying   market for businesses.  Macintosh systems still found success in education and desktop publishing and kept Apple as the second-largest PC manufacturer for the next decade. Main article:  After Jobs was forced out of Apple in 1985, he started  , a   computer company. The NeXT Computer was introduced in 1988 at a  lavish launch event . Using the NeXT Computer,   created the world\\'s first  . The NeXT Computer\\'s operating system, named  , begat  , which is now the foundation of most of Apple\\'s products such as   and  , introduced in 1998. First consumer-facing Apple product to debut under Jobs\\'s return Main article:   was introduced in 1998 and its innovative design was directly the result of Jobs\\'s return to Apple. Apple boasted \"the back of our computer looks better than the front of anyone else\\'s.\"  Described as \"cartoonlike\", the first iMac, clad in Bondi Blue plastic, was unlike any personal computer that came before. In 1999, Apple introduced the Graphite gray Apple iMac and since has varied the shape, color and size considerably while maintaining the all-in-one design. Design ideas were intended to create a connection with the user such as the handle and a breathing light effect when the computer went to sleep.  The Apple iMac sold for $1,299 at that time. The iMac also featured forward-thinking changes, such as eschewing the  floppy disk drive  and moving exclusively to   for connecting peripherals. This latter change resulted, through the iMac\\'s success, in the interface being popularised among third-party peripheral makers\\xe2\\x80\\x94as evidenced by the fact that many early USB peripherals were made of translucent plastic (to match the iMac design). Main article:  iTunes is a  , media library, online radio broadcaster, and mobile device management application developed by Apple. It is used to play, download, and organize digital   and video (as well as other types of media available on the iTunes Store) on personal computers running the   and   operating systems. The   is also available on the  , and  Through the iTunes Store, users can purchase and download music, music videos, television shows,  , movies, and movie rentals in some countries, and  , available on the iPhone and iPod Touch (fourth generation onward).   for the iPhone, iPad and iPod Touch can be downloaded from the  Main article:  first generation of iPod  was released October 23, 2001. The major innovation of the iPod was its small size achieved by using a 1.8\" hard drive compared to the 2.5\" drives common to players at that time. The capacity of the first generation iPod ranged from 5\\xc2\\xa0GB to 10\\xc2\\xa0GB.  The iPod sold for US$399 and more than 100,000 iPods were sold before the end of 2001. The introduction of the iPod resulted in Apple becoming a major player in the music industry.  Also, the iPod\\'s success prepared the way for the iTunes music store and the iPhone.  After the 1st generation of iPod, Apple released the hard drive-based  , the touchscreen iPod Touch, the video-capable  , and the screenless   in the following years. Jobs unveiling the   at MacWorld Conference & Expoon on January 9, 2007 Main article:  Apple began work on the   in 2005 and the first iPhone was released on June 29, 2007. The iPhone created such a sensation that a survey indicated six out of ten Americans were aware of its release.   declared it \"Invention of the Year\" for 2007.  The completed iPhone had multimedia capabilities and functioned as a quad-band touch screen smartphone.  A year later, the   was released in July 2008 with three key features: support for GPS, 3G data and tri-band UMTS/HSDPA. In June 2009, the  , whose improvements included voice control, a better camera, and a faster processor, was introduced by Phil Schiller.  The iPhone 4 is thinner than previous models, has a five megapixel camera capable of recording video in 720p HD, and adds a secondary front-facing camera for video calls.  A major feature of the  , introduced in October 2011, was  , a virtual assistant capable of voice recognition. Jobs introducing the  , San Francisco, January 27, 2010 Main article:  iPad is an  -based line of   designed and marketed by Apple. The   was released on April 3, 2010; the most recent iPad models, the  , and  iPad Mini 4 , were released on September 9, 2015, and March 24, 2017. The   is built around the device\\'s   screen, including a  . The iPad includes built-in   and cellular connectivity on select models. As of April 2015 , more than 250 million iPads have been sold. Honors and awards Statue of Jobs at Graphisoft Park,  National Medal of Technology  (with  ), awarded by US President  Jefferson Award for Public Service Entrepreneur of the Decade  by  Howard Vollum Award  from   Named the most powerful person in business by   Inducted into the  California Hall of Fame , located at  The California Museum for History, Women and the Arts Grammy Trustees Award , an award for those who have influenced the music industry in areas unrelated to performance  Posthumously inducted as a   Steve Jobs Theatre opens at  San Francisco Bay Area portal List of artistic depictions of Steve Jobs Timeline of Steve Jobs media . Retrieved  \"The Walt Disney Company and Affiliated Companies - Board of Directors\" . October 14, 2009. Archived from   on October 14, 2009 . Retrieved  \"Steve Jobs: adopted child who never met his biological father\" . October 6, 2011.  . Retrieved  \"The \\'father of invention . January 18, 2011. Archived from   on July 1, 2015 . Retrieved  Graff, Amy (November 18, 2015).  \"Social media reminds us Steve Jobs was the son of a Syrian migrant\" . Hearst Communications . Retrieved  Baig, Edward C.  \"Steve Jobs\\' biological father was Syrian migrant, some note\" . Retrieved  Meer, Ameena (Summer 1987).  \"Artists in Conversation: Mona Simpson\" . Retrieved  Shankland, Stephen.  Steve Jobs\\' biography: A wealth of detail\" Strochlic, Nina (April 23, 2015).  \"Steve Jobs Took the Armenian Genocide Personally\" The Daily Beast  \\xe2\\x80\\x93 via www.thedailybeast.com. Isaacson, Walter (2015).  Simon and Schuster  p. 2 \"The Lost Interview: Steve Jobs Tells Us What Really Matters\" . November 17, 2011 . Retrieved  Staff (August 27, 2011).  \"Dad waits for Jobs to iPhone\" New York Post . Retrieved  The Bite in the Apple: A Memoir of My Life with Steve Jobs . St. Martin\\'s Griffin. Markoff, John (October 5, 2011).  \"Steven P. Jobs, 1955\\xe2\\x80\\x932011: Apple\\'s Visionary Redefined Digital Age\" The New York Times Isaacson, Walter (2011).  Simon and Schuster  pp. 3\\xe2\\x80\\x934 \"Even family life was full of drama - Latest News | Gadgets Now\" . Retrieved  Schlender, Brent; Tetzeli, Rick (2015).  Becoming Steve Jobs: The Evolution of a Reckless Upstart into a Visionary Leader . Crown (ebook).  (2011).  Simon & Schuster DeBolt, Daniel (October 7, 2011).  \"Steve Jobs called Mountain View home as a child\" Mountain View Voice . Retrieved  Hatt remembers Jobs attending Monta Loma elementary school and according to county property records, the Jobs family owned a house at 286 Diablo Avenue from 1959 to 1967. Young, Jeffrey S. (1987).  Steve Jobs: The Journey Is the Reward . Amazon Digital Services, 2011 ebook edition (originally  \"Steve Jobs\\' childhood home becomes a landmark\" . October 29, 2013. \"Steve Jobs\\' old garage about to become a piece of history\" . September 27, 2013. \"Steve Jobs and the Early Apple Years\" The PC Is Born . Joomla.   from the original on June 24, 2012 . Retrieved  McBurney, Sally (Director) (2013).  Steve Jobs 1994 Uncut Interview with English Subtitles  (Video). Menlo Park, California: Silicon Valley Historical Association. . Archived from the original on April 2, 2013 . Retrieved  CS1 maint: archived copy as title ( ) CS1 maint: BOT: original-url status unknown ( McBurney, Sally (Director) (2013).  Steve Jobs: Visionary Entrepreneur  (Video). Menlo Park, California: Silicon Valley Historical Association. Brennan, Chrisann (October 19, 2011).  \"Jobs at 17: Nerd, Poet, Romantic\" Rolling Stone Magazine . Archived from   on April 25, 2012 . Retrieved  Blumenthal, Karen (2012).  Steve Jobs The Man Who Thought Different . A&C Black.  John Naughton (October 8, 2011).  \"Steve Jobs: Stanford commencement address, June 2005\" . London.   from the original on February 11, 2012. Schlender, Brent (November 9, 1998).  \"The Three Faces of Steve in this exclusive, personal conversation, Apple\\'s CEO reflects on the turnaround, and on how a wunderkind became an old pro\" . Retrieved  \"An exclusive interview with Daniel Kottke\" . September 13, 2011.   from the original on May 18, 2012 . Retrieved  \"How Steve Wozniak\\'s Breakout Defined Apple\\'s Future\" . Gameinformer. June 27, 2013. Archived from   on November 1, 2013 . Retrieved  \"Cassidy on Nolan Bushnell: \\'Steve was difficult,\\' says man who first hired Steve Jobs\" . March 29, 2013.   from the original on December 6, 2013 . Retrieved  \"What really shaped Steve Jobs\\'s view of India \\xe2\\x80\\x93 Realms of intuition or the pains of Delhi belly?\" . India. September 25, 2011.   from the original on May 11, 2012 . Retrieved  \"Il santone della Silicon Valley che ha conquistato i tecno-boss\"  (in Italian). Repubblica.it. June 9, 2008.   from the original on June 24, 2012 . Retrieved  \"Wandering in India for 7 months: Steve Jobs\" . Yahoo News. October 24, 2011. Archived from   on June 24, 2012 . Retrieved  Andrews, Amanda (January 14, 2009).  \"Steve Jobs, Apple\\'s iGod: Profile\" The Daily Telegraph . UK.   from the original on May 11, 2012 . Retrieved  \"Steve Jobs profile: Apple\\'s hard core\" . Edinburgh: News scotsman. January 11, 2009.   from the original on September 26, 2011 . Retrieved   (2005).  What the Dormouse Said: How the Sixties Counterculture Shaped the Personal Computer Industry . p.\\xc2\\xa0preface xix.  . Retrieved  \"Jobs\\'s Pentagon papers: kidnap fears, drug use and a speeding ticket\" The Sydney Morning Herald  from the original on June 24, 2012 . Retrieved  Silberman, Steve (October 28, 2011).  \"What Kind of Buddhist was Steve Jobs, Really?\" . Archived from   on June 24, 2012 . Retrieved  Burke, Daniel (November 2, 2011).  \"Steve Jobs\\' private spirituality now an open book\" . Retrieved  Murphy, Conor.  \"The History of Breakout\" . Big Fish Games, Inc . Retrieved  Letters \\xe2\\x80\\x93 General Questions Answered\" . Archived from   on June 12, 2011 . Retrieved  \", a: pp. 147\\xe2\\x80\\x9348, b: p. 180.  W. W. Norton , 2006.   Kent, Stevn: \"The Ultimate History of Video Games\", pp. 71\\xe2\\x80\\x9373. Three Rivers, 2001.  . Arcade History. June 25, 2002 . Retrieved  \"Classic Gaming: A Complete History of Breakout\" . GameSpy. Archived from   on June 23, 2014 . Retrieved  Linzmayer, Owen W.  \"Apple Confidential: The Real Story of Apple Computer, Inc\" The Denver Post  from the original on March 20, 2012. Simon, Dan (June 24, 2010).  \"The gambling man who co-founded Apple and left for $800\" . CNN.   from the original on April 10, 2014 . Retrieved  \"How Did Apple Computer Get Its Brand Name?\" . Branding Strategy Insider. November 17, 2011 . Retrieved  Williams, Gregg; Moore, Rob (December 1984).  \"The Apple Story / Part 1: Early History\"  (interview). pp.\\xc2\\xa0A67 . Retrieved  Markoff, John (September 1, 1997).  \"An \\'Unknown\\' Co-Founder Leaves After 20 Years of Glory and Turmoil\" The New York Times . Retrieved  \"Done Deals: Venture Capitalists Tell Their Story: Featured HBS Arthur Rock\" HBS Working Knowledge Wozniak, Steve.  \"woz.org: Comment From e-mail: Why didn\\'t the early Apple II\\'s use Fans?\" . woz.org. Archived from   on December 26, 2015 . Retrieved  Wozniak, Steve;   (2006).  iWoz: Computer Geek to Cult Icon: How I Invented the Personal Computer, Co-Founded Apple, and Had Fun Doing It W. W. Norton & Company Reimer, Jeremy (December 15, 2005).  \"Total share: 30 years of personal computer market share figures\" . Retrieved  \"Steve Jobs\\' black turtleneck reportedly explained in biography\" The Los Angeles Times . October 11, 2011.   from the original on October 26, 2011 . Retrieved  \"Wear the Exact Outfit of Steve Jobs for $458\" . February 28, 2006.   from the original on February 4, 2012 . Retrieved  Edwards, Jim (December 26, 2013).  \"These Pictures of Apple\\'s First Employees Are Absolutely Wonderful\" . Retrieved  Metz, Rachel (October 15, 2013).  \"Steve Jobs\\' ex-girlfriend pens memoir on life with \\'vicious\\' Apple founder\" . Retrieved  Bullock, Diane (August 31, 2010).  \"The Kids of Business Icons: Lisa Brennan-Jobs\" . Retrieved  \"Machine of the Year: The Computer Moves in\".  , January 3, 1983 Cocks Jay. Reported by Michael Moritz. \" The Updated Book of Jobs \" in  Machine of the Year: The Computer Moves in. , January 3, 1983:27. \"Steve Jobs: Net Worth | Investopedia\" . October 14, 2015 . Retrieved  \"Photos: The Historic House Steve Jobs Demolished\" . February 17, 2011. Lee, Henry K. (February 15, 2011).  \"Steve Jobs\\' historic Woodside mansion is torn down\" The San Francisco Chronicle \"Steve Wozniak on Newton, Tesla, and why the original Macintosh was a \\'lousy\\' product\" . June 27, 2013. Archived from   on March 12, 2016 . Retrieved  O\\'Grady, Jason D. (2009).  . ABC-CLIO.   pp. 8\\xe2\\x80\\x9310 Schlender, Brent; Tetzeli, Rick (2016).  Becoming Steve Jobs: The Evolution of a Reckless Upstart into a Visionary Leader . Crown Business; Reprint edition.  \"The Times They Are A-Changin . folklore.org.   from the original on February 4, 2012. Kahney, Leander (January 6, 2004).  \"Wired News: We\\'re All Mac Users Now\" . Archived from   on January 4, 2014 . Retrieved  \"America\\'s Most Admired Companies: Jobs\\' journey timeline\" . Archived from   on April 10, 2014 . Retrieved   Jobs and a team of engineers visit Xerox PARC, where they see a demo of mouse and graphical user interface \"Machine That Changed The World, The; Paperback Computer, The; Interview with Steve Jobs, 1990\" WGBH Media Library & Archives . May 14, 1990 . Retrieved  Robbeloth, DeWitt (October\\xe2\\x80\\x93November 1985).  . Retrieved  Rice, Valerie (April 15, 1985).  \"Unrecognized Apple II Employees Exit\" . Retrieved  Bunnell, David (April 30, 2010).  \"Chapter 10: Steve Thumbs his Nose at the Apple II\" My Close Encounters With Steve Jobs . Retrieved   \\xe2\\x80\\x93 via Cult of Mac. \"I Never Left Apple\" . January 3, 2018 . Retrieved  Krishnamoorthy, Anand; Li, Susan.  \"Jobs\\'s Death Was Like Lennon, JFK Getting Shot, Wozniak Says\" . Retrieved  Swaine, Michael and Paul Frieberger.  Fire in the Valley: The Birth and Death of the Personal Computer , 3rd Edition, Dallas: Pragmatic Bookshelf, 2014 Spector, G (September 24, 1985). \"Apple\\'s Jobs Starts New Firm, Targets Education Market\".  Schwartz, John (October 24, 1988).  \"Steve Jobs Comes Back\" . Palo Alto, California. p.\\xc2\\xa0Business . Retrieved  . Retrieved  Schlender, Brenton R. (October 13, 1988).  \"Next Project: Apple Era Behind Him, Steve Jobs Tries Again, Using a New System\" The Wall Street Journal  (Western ed.). Palo Alto, California:  Dow Jones & Company Inc . p.\\xc2\\xa0Front Page Leader . Retrieved  Rose, F. (April 23, 2009).  Rose, Frank (August 24, 2011).  \"The End of Innocence at Apple: What Happened After Steve Jobs was Fired\"  from the original on October 7, 2011. \"Welcome to info.cern.ch: The website of the world\\'s first-ever web server\" . CERN (European Organization for Nuclear Research). 2008.   from the original on January 18, 2010 . Retrieved  . (May 31, 1990).  Interpersonal computing\\xc2\\xa0\\xe2\\x80\\x93  the third revolution? New Straits Times . (230), 20; Schlender, B. R., Alpert, M. (February 12, 1990).  Schlender, Brenton R. (February 12, 1990).  \"Who\\'s ahead in the computer wars\" Stross, R. E. (1993).  Steve Jobs and the NeXT Big Thing . Atheneum.  . pp. 117, 120, 246. O\\'Grady, J. (2008).   Greenwood Press.  Smith, Alvy Ray \"Pixar Founding Documents\" Alvy Ray Smith Homepage . Archived from   on April 27, 2005 . Retrieved  Toy Story\" Credits\"  from the original on June 24, 2012. Hill, Jim (February 5, 2012).  \"Steve Jobs bio reveals how Michael Eisner actively tried to derail Disney\\'s 2006 acquisition of Pixar\" . Jim Hill Media.   from the original on June 24, 2012 . Retrieved  Wolff, Michael,  \"iPod, Therefore I am\"  from the original on March 28, 2014. , April 2006. Retrieved September 3, 2010. Iger, Robert (September 18, 2019).  We Could Say Anything to Each Other\\': Bob Iger Remembers Steve Jobs\" January 25, 2006  \"Disney buys Pixar for $7.4 bn\"  from the original on November 9, 2013. \"The Walt Disney Company \\xe2\\x80\\x93 Steve Jobs Biography\" Holson, Laura M. (January 25, 2006).  \"Disney Agrees to Acquire Pixar in a $7.4\\xc2\\xa0Billion Deal\" The New York Times . Retrieved  \"Pixar Becomes Unit of Disney\" The New York Times . May 6, 2006 . Retrieved  \"Steve Jobs, 1955\\xe2\\x80\\x932011\" . Splashnogly. October 6, 2011. Archived from   on April 7, 2012 . Retrieved  \"Jobs\\'s 7.7% Disney Stake Transfers to Trust Led by Widow Laurene\" . Archived from   on April 10, 2014.  (January 19, 2009).  \"Steve Jobs: A Tough Act to Follow\" . Jim Hill Media.   from the original on May 8, 2010 . Retrieved  ; Wallace, Amy (2014).  Creativity, Inc.: Overcoming the Unseen Forces That Stand in the Way of True Inspiration Transworld Publishers Limited Bort, Julie (June 5, 2014).  \"Steve Jobs Taught This Man How To Win Arguments With Really Stubborn People\" . Monsueto Ventures . Retrieved  The Bite in the Apple: A Memoir of My Life with Steve Jobs . St. Martin\\'s Griffin. p.\\xc2\\xa0220.  (October 30, 2011).  \"A Sister\\'s Eulogy for Steve Jobs\" The New York Times . Retrieved  Conversations: Malek Jandali, Mona Simpson, & James Gelvin  (UCLA Hammer Museum event).  . Retrieved October 2, 2018. Linzmayer, Owen W. (2004).  Apple Confidential 2.0: The Definitive History of the World\\'s Most Colorful Company . No Starch Press.  . Retrieved  \"Laurene Powell Jobs\\xc2\\xa0\\xe2\\x80\\x93 PARSA\" . PARSA Community Foundation. 2006. Archived from   on September 14, 2010 . Retrieved  Kadifa, Margaret (October 29, 2015).  \"Halloween at Steve Jobs\\' house\" . Retrieved  Apple Computer, Inc. Finalizes Acquisition of NeXT Software Inc.  at the   (archive index),  , February 7, 1997. Retrieved June 25, 2006. \"Apple Formally Names Jobs as Interim Chief\" The New York Times . September 17, 1997 . Retrieved  \"The once and future Steve Jobs\" . October 11, 2000. Archived from   on April 16, 2009. Norr, Henry (January 6, 2000).  \"MacWorld Expo/Permanent Jobs/Apple CEO finally drops \\'interim\\' from title\" San Francisco Chronicle  from the original on November 2, 2011 . Retrieved  \"Jobs announces new MacOS, becomes \\'iCEO . CNN. January 5, 2000. Archived from   on August 20, 2013.  (1995).  Insanely Great: The Life and Times of Macintosh, the Computer That Changed Everything . p.\\xc2\\xa0312.  \"If Apple can go home again, why not Dell?\"  from the original on October 10, 2011.  CNET News. May 19, 2008. \"Dell: Apple should close shop\"  from the original on May 17, 2008.  (January 16, 2006).  \"Michael Dell Should Eat His Words, Apple Chief Suggests\" The New York Times . Retrieved  \"11 Presentation Lessons You Can Still Learn From Steve Jobs\" . May 28, 2014 . Retrieved  Liedtke, Michael (October 5, 2002).  \"Steve Jobs resigns from Gap\\'s board\" The Berkeley Daily Planet  from the original on April 19, 2012 . Retrieved  \"New questions raised about Steve Jobs\\'s role in Apple stock options scandal\" . December 28, 2006. Archived from   on May 9, 2007. \"Apple restates, acknowledges faked documents\" . December 29, 2006.   from the original on May 21, 2013 . Retrieved  \"Apple Improves Recycling Plan\" . April 21, 2006.   from the original on October 20, 2008. Nick Bilton,  Bilton, Nick (August 9, 2011).  \"Apple Is the Most Valuable Company\" The New York Times New York Times , August 9, 2011 . ABCnet.au. October 6, 2011.   from the original on October 9, 2011 . Retrieved  : \"Visionary Steve Jobs succumbs to cancer . ABCnet.au. October 6, 2011.   from the original on October 9, 2011 . Retrieved  \"Live from Macworld 2007: Steve Jobs keynote\" . 2007.   from the original on June 24, 2012 . Retrieved  \"Group Wants $7B USD From Apple, Steve Jobs, Executives Over Securities Fraud\" . Archived from   on February 4, 2012. \"Apple, Steve Jobs, Executives, Board, Sued For Securities Fraud\"  from the original on May 19, 2009. Andrew S. Ross (November 1, 2011).  \"Steve Jobs bio sheds light on Obama relationship\" San Francisco Chronicle  from the original on November 4, 2011 . Retrieved  Evangelista, Benny (August 2, 2004).  \"Apple\\'s Jobs has cancerous tumor removed\" San Francisco Chronicle . p.\\xc2\\xa0A1.   from the original on August 18, 2006 . Retrieved  \"Steve Jobs and the Celebrity Diagnosis Complete Guide to Tumors of the Pancreas\" . Celebrity Diagnosis. October 6, 2011.   from the original on June 24, 2012 . Retrieved  Elkind, Peter (March 5, 2008).  \"The trouble with Steve Jobs\"  from the original on May 18, 2010 . Retrieved  Fiore, Kristina (December 28, 2012).  \"Jobs Leaves Lessons for Cancer Care\"  from the original on April 10, 2014 . Retrieved   for  Barrie R. Cassileth  November 13, 2011, at the  Liz Szabo (June 18, 2013).  \"Book raises alarms about alternative medicine\" . Retrieved  Ned Potter.  \"Steve Jobs Regretted Delaying Cancer Surgery 9 Months, Biographer Says\"  from the original on April 10, 2014.  October 20, 2011 \"Bio Sheds Light on Steve Jobs\\' Decision to Delay Cancer Surgery, Pursue Herbal Remedies\" . October 20, 2011.   from the original on June 26, 2012.  October 20, 2011 \"Pancreatic Cancer Treatment\" . Mayo Clinic. Archived from   on February 4, 2012 . Retrieved   (July 23, 2008).  \"Talk of Chief\\'s Health Weighs on Apple\\'s Share Price\" The New York Times Elmer, Philip (June 13, 2008).  \"Steve Jobs and Whipple\" . Archived from   on June 24, 2012 . Retrieved  Kahney, Leander (August 8, 2006).  \"Has Steve Jobs Lost His Magic?\" Cult of Mac . Wired News. Archived from   on February 4, 2012 . Retrieved  Looking very thin, almost gaunt, Jobs used the 90-minute presentation to introduce a new desktop Mac and preview the next version of Apple\\'s operating system, code-named Leopard. Meyers, Michelle.  \"Jobs speech wasn\\'t very Jobs-like\"  from the original on December 25, 2007 . Retrieved  [The audience was] uninspired (and concerned) by Jobs\\'s relatively listless delivery Saracevic, Al (August 9, 2006).  \"Where\\'s Jobs\\' Mojo?\" San Francisco Chronicle . p.\\xc2\\xa0C1.   from the original on January 28, 2012 . Retrieved  Cheng, Jacqui (August 8, 2006).  \"What happened to The Steve we know and love?\"  from the original on February 4, 2012 . Retrieved  Claburn, Thomas (August 11, 2006).  \"Steve Jobs Lives!\" . Archived from   on February 4, 2012 . Retrieved  \"Business Technology: Steve Jobs\\'s Appearance Grabs Notice, Not Just the IPhone\" The Wall Street Journal  from the original on April 26, 2009 . Retrieved  \"Apple says Steve Jobs feeling a little under the weather\"  from the original on April 10, 2014.  in  \"Steve Jobs and Apple\" . Archived from   on April 10, 2014.  Marketing Doctor Blog. July 24, 2008. \"Steve Jobs Did Not Have \\'Pancreatic Cancer . Medpagetoday.com. January 24, 2011.   from the original on June 24, 2012 . Retrieved  Joe Nocera (July 26, 2008).  \"Apple\\'s Culture of Secrecy\" The New York Times While his health problems amounted to a good deal more than \\'a common bug,\\' they weren\\'t life-threatening and he doesn\\'t have a recurrence of cancer. \"Steve Jobs\\'s Obituary, As Run By Bloomberg\" . August 27, 2008. Archived from   on February 4, 2012 . Retrieved  \"Bloomberg publishes Jobs obit but why?\" . August 28, 2008.   from the original on August 31, 2008 . Retrieved  Mikkelson, Barbara (September 26, 2007).  \"And Never The Twain Shall Tweet\"  from the original on August 22, 2011 . Retrieved  \"Apple posts \\'Lets Rock\\' event video\" . September 10, 2008.   from the original on February 4, 2012 . Retrieved  \"Live from Apple\\'s \"spotlight turns to notebooks\" event\" . October 14, 2008.   from the original on June 24, 2012 . Retrieved  Stone, Brad (December 17, 2008).  \"Apple\\'s Chief to Skip Macworld, Fueling Speculation\" The New York Times . Retrieved  \"Steve Jobs\\' Health Declining Rapidly, Reason for Macworld Cancellation\" . December 30, 2008.   from the original on June 24, 2012 . Retrieved  \"Apple\\'s Jobs admits poor health\" . January 5, 2009.   from the original on August 25, 2011 . Retrieved  Jobs, Steve (January 5, 2009).  \"Letter from Apple CEO Steve Jobs\"  (Press release).   Archived from   on February 4, 2012 . Retrieved  \"Apple Media Advisory\"  (Press release).   January 14, 2009. Archived from   on February 4, 2012 . Retrieved  \"I BEG YOU, mighty Jobs, TAKE MY LIVER, Cook told Apple\\'s dying co-founder\" . March 13, 2015. \"Steve Jobs recovering after liver transplant\" . CNN. June 23, 2009.   from the original on March 31, 2014 . Retrieved  \"Liver Transplant in Memphis: Jobs\\' was Sickest Patient on Waiting List\" . Celebrity Diagnosis. June 24, 2009.   from the original on June 24, 2012. Grady, Denise; Meier, Barry (June 22, 2009).  \"A Transplant That Is Raising Many Questions\" New York Times Helft, Miguel (January 17, 2010).  \"Apple Says Steve Jobs Will Take a New Medical Leave\" The New York Times . Retrieved  \"Steve Jobs to take medical leave of absence but remain Apple CEO\"  from the original on February 4, 2012. Abell, John (June 8, 2011).  \"Video: Jobs Pitches New \\'Mothership\\' to Approving Cupertino City Council\"  from the original on February 4, 2012 . Retrieved  Letter from Steve Jobs To the Apple Board of Directors and the Apple Community  (resignation letter August 24, 2011)   April 15, 2012, at  \"Apple Resignation Letter\"  (Press release). Apple Inc.   from the original on April 15, 2012 . Retrieved  \"Steve Jobs Resigns as CEO of Apple\"  (Press release). Apple Inc. August 24, 2011.   from the original on April 15, 2012 . Retrieved  Biddle, Sam (October 19, 2011).  \"Steve Jobs Worked the Day Before He Died\"  from the original on June 24, 2012 . Retrieved  Gupta, Poornima (August 18, 2011).  \"Steve Jobs Quits\" . Reuters.   from the original on February 4, 2012 . Retrieved  Siegler, M.G.  \"Steve Jobs Resigns As CEO of Apple\"  from the original on August 25, 2011 . Retrieved  \"Rare Pancreatic Cancer Caused Steve Jobs\\' Death\"  (Press release). Voice of America. October 7, 2011.   from the original on January 24, 2012 . Retrieved  Rushe, Dominic (October 6, 2011).  \"Steve Jobs, Apple co-founder, dies at 56\" . UK.   from the original on June 19, 2013. Gullo, Karen (October 10, 2011).  \"Steve Jobs Died at Home of Respiratory Arrest Related to Pancreatic Cancer\" . Archived from   on February 10, 2012 . Retrieved  Ian Sherr; Geoffrey A. Fowler (October 7, 2011).  \"Steve Jobs Funeral Is Friday\" The Wall Street Journal  from the original on August 13, 2013. Tim Cook (October 5, 2011).  \"Statement by Apple\\'s Board of Directors\"  (Press release). Apple Inc.   from the original on April 25, 2012 . Retrieved  \"Pixar Animation Studios\" . Pixar. Archived from   on June 8, 2012 . Retrieved  \"Remembering Steve Jobs\" . Apple Inc.   from the original on June 24, 2012 . Retrieved  \"Apple flies flags at half staff for Steve Jobs\" . October 6, 2011. Archived from   on August 13, 2013 . Retrieved  \"Microsoft lowers flags to half staff in tribute to Steve Jobs\" . October 6, 2011.   from the original on November 9, 2013 . Retrieved  \"Disney World flags at half-staff in memory of Steve Jobs\" Bay News 9 . October 6, 2011. Archived from   on December 13, 2011 . Retrieved  Pepitone, Julianne (October 6, 2011).  \"Steve Jobs: The homepage tributes\" . CNN.   from the original on April 25, 2012 . Retrieved  \"Apple website pays tribute to Steve Jobs\" The Times of India . India. October 5, 2011. Archived from   on April 25, 2012 . Retrieved  \"Remembering Steve Jobs\" . Apple Inc.   from the original on June 24, 2012 . Retrieved  \"A Celebration of Steve\\'s Life\" . Archived from   on December 29, 2013.  Apple.com Retrieved October 26, 2011 Fernandez, Sofia M. (October 14, 2011).  \"Private Steve Jobs Memorial Set for Oct. 16 \\xe2\\x80\\x93 The Hollywood Reporter\" The Hollywood Reporter  from the original on December 31, 2013 . Retrieved  \"Steve Jobs Memorial Service To Be Held Oct. 16\" The Wall Street Journal . October 15, 2011.   from the original on August 13, 2013 . Retrieved  Vascellaro, Jessica E. (October 17, 2011).  \"Steve Jobs\\'s Family Gave Moving Words at Sunday Memorial \\xe2\\x80\\x93 Digits \\xe2\\x80\\x93 WSJ\" The Wall Street Journal  from the original on April 10, 2014 . Retrieved  Wadhwa, Hitendra (June 21, 2015).  \"Steve Jobs\\'s Secret to Greatness: Yogananda\"  Retrieved  Wozniak Tearfully Remembers His Friend Steve Jobs . October 6, 2011. Patricia Sellers (October 6, 2011).  \"George Lucas on Steve Jobs\" . Archived from   on January 28, 2012 . Retrieved  . Thegatesnotes.com. October 5, 2011. Archived from   on January 27, 2012 . Retrieved  \"Statement by the President on the Passing of Steve Jobs\"  (Press release). The White House. October 5, 2011.   from the original on April 25, 2012. \"Steve Jobs Died of Respiratory Arrest Amid Pancreatic Tumor\" . ABC News. October 10, 2011.   from the original on April 25, 2012 . Retrieved  Gupta, Poornima (October 10, 2011).  \"Steve Jobs died of respiratory arrest, tumor\" . Reuters.   from the original on April 10, 2014 . Retrieved  \"Steve Jobs\\' autobiography: a chronicle of a complex genius\" . Chennai, India. October 24, 2011.   from the original on November 9, 2013. Shontell, Alyson.  \"This Man Could Have Made $30 Million Per Year As Apple\\'s Designer \\xe2\\x80\\x94 But He Turned Steve Jobs Down\" \"What Made Steve Jobs So Great?\"  from the original on April 10, 2014 . Retrieved  \"Does Steve Jobs know how to code?\" . Archived from   on October 31, 2013 . Retrieved  \"Searching for Magic in India and Silicon Valley: An Interview with Daniel Kottke, Apple Employee #12\" . August 9, 2012.   from the original on January 11, 2014 . Retrieved  \"Portfolio of over 300 patents underscores Steve Jobs\\' attention to detail\"  from the original on April 10, 2014 . Retrieved  \"U.S. Government patent database\"  from the original on June 24, 2012 . Retrieved  \"U.S. Government patent application database\"  from the original on April 20, 2012 . Retrieved  \"United States Patent 8,032,843, Ording, et al., October 4, 2011, \"User interface for providing consolidation and access  from the original on June 24, 2012. \"Steve Jobs Told Me Why He Loved Being A CEO\"  from the original on August 6, 2011 . Retrieved  He told me once that part of the reason he wanted to be CEO was so that nobody could tell him that he wasn\\'t allowed to participate in the nitty-gritty of product design\", Reid writes. \"He was right there in the middle of it. All of it. As a team member, not as CEO. He quietly left his CEO hat by the door, and collaborated with us. Kachka, Boris (August 26, 2015).  \"How Kate Winslet Won a Role in Steve Jobs and Managed All That Sorkin Dialogue\" . Vulture.   from the original on June 18, 2016 . Retrieved  Rosenwald, Michael S. (October 24, 2011).  \"Walter Isaacson\\'s \\'Steve Jobs\\' biography shows Apple co-founder\\'s genius, flaws\" The Washington Post . Retrieved  \"Steve Jobs Still Wins Plenty of Patents \\xe2\\x80\\x93 MIT Technology Review\" MIT Technology Review . Retrieved  Christoph Dernbach (October 12, 2007).  . Mac History . Retrieved  Apple Lisa computer,  Simon, Jeffrey S.; Young, William L. (April 14, 2006).  iCon: Steve Jobs, the greatest second act in the history of business  (Newly updated ed.). Hoboken, NJ:  Linzmayer, Owen W. (2004).  Apple confidential 2.0\\xc2\\xa0: the definitive history of the world\\'s most colorful company  (2nd ed.). San Francisco, Calif. p.\\xc2\\xa079.  . Retrieved  Polsson, Ken (July 29, 2009).  \"Chronology of Apple Computer Personal Computers\" . Archived from   on August 21, 2009 . Retrieved   See May 3, 1984. Linzmayer, Owen W. (2004).  Apple Confidential 2.0 . No Starch Press. p.\\xc2\\xa0113.  Maney, Kevin (January 28, 2004).  \"Apple\\'s \\'1984\\' Super Bowl commercial still stands as watershed event\" . Retrieved  Leopold, Todd (February 3, 2006).  \"Why 2006 isn\\'t like \\'1984 . Retrieved  Creamer, Matthew (March 1, 2012).  \"Apple\\'s First Marketing Guru on Why \\'1984\\' Is Overrated\" . Retrieved  Cellini, Adelia (January 2004).  \"The Story Behind Apple\\'s \\'1984\\' TV commercial: Big Brother at 20\"  (21). p.\\xc2\\xa018. Archived from   on June 28, 2009 . Retrieved  Long, Tony (January 22, 2007).  \"Jan. 22, 1984: Dawn of the Mac\" . Retrieved  Reimer, Jeremy (December 14, 2005).  \"Total share: 30 years of personal computer market share figures\" . Retrieved  Carter, Mia.  \"Steve Jobs: 10 Products that Define this Tech Legend\" Inventions and Discoveries . Archived from   on April 4, 2012 . Retrieved  \"Steve Jobs Introduces NeXTComputer\" . Archived from   on April 7, 2013 . Retrieved  Steve Jobs unveiled the NeXT, the computer he designed after moving on from Apple Computer Inc... Hoppel, Adrian.  \"Magical Inventions of Steve Jobs\" Best Inventions of Steve Jobs . Magical Inventions of Steve Jobs.   from the original on April 10, 2014 . Retrieved  Paola Antonelli, Paola (April 2006).  \"iMac \\xe2\\x80\\x93 1998\" . MetropolisMag.   from the original on May 11, 2013 . Retrieved  Michael (August 7, 2007).  \"Apple History: Evolution of the iMac\" . Apple Gazette.   from the original on June 24, 2012 . Retrieved  \"iPod First Generation\" . iPod History.   from the original on June 24, 2012 . Retrieved  Block, Ryan.  \"The iPod family cemetery\" . EndGadget.   from the original on June 24, 2012 . Retrieved  Asiado, Tel (August 24, 2011).  \"Steve Jobs: 10 Products that Define this Tech Legend\" Inventions and Discoveries . Archived from   on April 4, 2012 . Retrieved  \"iPhone History \\xe2\\x80\\x93 Read About The iPhone Story Here\" . The Apple Biter\\'s Blog. November 4, 2011. Archived from   on June 24, 2012 . Retrieved  \"iPhone History and Development\" iPhone apps, tricks, tips, and hacks . Apple iPhone Blog.   from the original on June 24, 2012 . Retrieved  . iPhoneHistory.   from the original on June 24, 2012 . Retrieved  \"iPhone 4 Tech Specs\" . Apple.   from the original on June 24, 2012 . Retrieved  \"The iPad\\'s 5th anniversary: a timeline of Apple\\'s category-defining tablet\" . April 3, 2015 . Retrieved  \"Steve Jobs statue unveiled in Hungary science park\" . December 21, 2011.   from the original on January 10, 2012 . Retrieved  \"The National Medal of Technology Recipients 1985 Laureates\" . Uspto.gov.   from the original on February 4, 2012 . Retrieved  \"National Winners | public service awards\" . Jefferson Awards.org.   from the original on February 4, 2012 . Retrieved  Bo Burlingham and George Gendron (April 1, 1989).  \"The Entrepreneur of the Decade\" . Archived from   on June 24, 2012 . Retrieved  \"Reed College Convocation\" . Portland, Oregon: Reed College. August 27, 1991 . Retrieved  \"25 most powerful people in business \\xe2\\x80\\x93 #1: Steve Jobs\" . Archived from   on April 10, 2014 . Retrieved  \"Jobs inducted into California Hall of Fame\" . Archived from   on January 10, 2008. . Retrieved 2007. Arico, Joe (December 22, 2011).  \"Steve Jobs Wins Special Grammy\" . Archived from   on September 6, 2012 . Retrieved  Ford, Rebecca (July 10, 2013).  \"Steve Jobs, Billy Crystal to Receive Disney Legends Awards\" The Hollywood Reporter  from the original on April 4, 2014 . Retrieved  \"Apple Park\\'s Steve Jobs Theater opens to host 2017 keynote\" . September 12, 2017 . Retrieved  Apple\\'s official memorial page for Steve Jobs at Wikipedia\\'s   from Wikimedia Commons  from Wikinews  from Wikiquote  from Wikiversity Steve Jobs: From Garage to World\\'s Most Valuable Company Computer History Museum  @  The Original Macintosh  @  Steve Jobs (1955\\xe2\\x80\\x932011)  on  FBI Records: The Vault \\xe2\\x80\\x93 Steven Paul Jobs  at vault.fbi.gov Steve Jobs commencement speech  at  Excerpts from an Oral History Interview with Steve Jobs, Founder, NeXT Computer  \\xe2\\x80\\x93  , April 20, 1995. Steve Jobs in 1994: The Rolling Stone Interview  \\xe2\\x80\\x93  Memory and Imagination The \"Lost\" Steve Jobs Speech from 1983; Foreshadowing Wireless Networking, the iPad, and the App Store  (audio clip) His 2011 Find a Grave memorial:  Steve Jobs (1955-2011) - Find A Grave Memorial  cited 7 July 2019. CEO of Apple Arthur D. Levinson Return to Apple Honors and public recognition Laurene Powell Jobs  (mother of his first child) Reality distortion field Stay Hungry Stay Foolish  (2008 book) The Son of a Migrant from Syria  (2015 mural) Beats by Dre Comparison of Macintosh models Classic Mac OS Final Cut Pro X App Store Connect Apple Music Festival List of programs Apple Books Store One to One Apple Sales International Apple Worldwide Video Get a Mac FBI\\xe2\\x80\\x93Apple encryption dispute iOS app approvals Artistic depictions of Steve Jobs  (General Counsel) Isabel Ge Mahe Fred D. Anderson Guerrino De Luca Nancy R. Heinen Arthur D. Levinson James A. Bell Albert Gore Jr. Ronald D. Sugar Susan L. Wagner Fred D. Anderson Robert A. Iger Edgar S. Woolard Jr.  indicate  discontinued products, services , or  Key figures in the  history of Apple Inc. Fred D. Anderson Satjiv S. Chahil Guerrino De Luca Original Macintosh developer team (1985 to 1996) John Patrick Crecine  (as of 1988) Original NeXT Team Members NeXT MegaPixel Display NeXT Laser Printer $140 million   at the   (archived April 12, 1997) Pixar Animation Studios A subsidiary of  Walt Disney Studios , a division of  The Walt Disney Company  (1995)  A Bug\\'s Life  (1998)  Toy Story 2  (1999)   (2001)   (2003)   (2004)   (2006)   (2007)   (2008)   (2009)  Toy Story 3  (2010)   (2011)   (2012)   (2013)  The Good Dinosaur Toy Story 4  (1986)   (1987)   (1988)   (1989)   (1997)  For the Birds  (2000)  Mike\\'s New Car  (2002)   (2003)   (2005)  Mr. Incredible and Pals One Man Band Mater and the Ghostlight  (2006)  Your Friend the Rat  (2008)   (2008)   (2009)  Dug\\'s Special Mission  (2009)  George and A.J.  (2009)  Day & Night  (2010)   (2011)   (2012)  The Legend of Mor\\'du  (2012)  The Blue Umbrella Sanjay\\'s Super Team Riley\\'s First Date? Smash and Grab  (2008\\xe2\\x80\\x9314)  Toy Story Toons  (2011\\xe2\\x80\\x9312)  Forky Asks a Question Tiny Toy Stories  (1996)  Pixar Short Films Collection, Volume 1  (2007)  Cars Toons: Mater\\'s Tall Tales   (2010) Pixar Short Films Collection, Volume 2  (2012)  Pixar Short Films Collection, Volume 3 Flags and Waves Light & Heavy Nemo & Friends SeaRider Buzz Lightyear of Star Command Monsters at Work Toy Story of Terror!  (2013)  Toy Story That Time Forgot The Adventures of Andr\\xc3\\xa9 & Wally B. It\\'s Tough to Be a Bug! Buzz Lightyear of Star Command: The Adventure Begins Buzz Lightyear of Star Command Exploring the Reef Turtle Talk with Crush Planes: Fire & Rescue Mary Poppins Returns The Pixar Story Pixar Image Computer Presto Animation System Alvy Ray Smith List of Pixar characters List of Pixar awards and nominations List of Pixar film references Computer Graphics Lab Industrial Light & Magic Circle 7 Animation Pixar Photoscience Team A Computer Animated Hand The Shadow King Kingdom Hearts III Walt Disney Animation Studios 20th Century Fox Animation Blue Sky Studios The Walt Disney Studios 0000 0000 7861 3326  (via VIAF):   \\n']"
      ]
     },
     "execution_count": 34,
     "metadata": {},
     "output_type": "execute_result"
    }
   ],
   "source": [
    "fp1=open('./docs/doc1.txt','r')\n",
    "lines=fp1.readlines()\n",
    "lines[:2]"
   ]
  },
  {
   "cell_type": "code",
   "execution_count": 35,
   "metadata": {
    "collapsed": true
   },
   "outputs": [],
   "source": [
    "fp1.close()"
   ]
  },
  {
   "cell_type": "markdown",
   "metadata": {},
   "source": [
    "## 0. Pre-processing"
   ]
  },
  {
   "cell_type": "markdown",
   "metadata": {},
   "source": [
    "### 0.1 Splitting documents into sentences, removing unnecessary characters"
   ]
  },
  {
   "cell_type": "code",
   "execution_count": null,
   "metadata": {
    "collapsed": true
   },
   "outputs": [],
   "source": [
    "#Format the documents for future processing, split into sentences, remove unnecessary characters\n",
    "# s11='question_top10.txt'\n",
    "# get_formatted_docs(question,docs,s11)"
   ]
  },
  {
   "cell_type": "markdown",
   "metadata": {
    "collapsed": true
   },
   "source": [
    "#### [Input Data] \n",
    "1. question: \"When was Steve Jobs born?\"  \n",
    "2. docs: the address of top 10 links' documents. eg: ['./docs/doc1.txt', './docs/doc1.txt', ...]\n",
    "\n",
    "#### [Output Data] \n",
    "question_top10.txt\n",
    "#### Output File:"
   ]
  },
  {
   "cell_type": "code",
   "execution_count": 76,
   "metadata": {},
   "outputs": [
    {
     "data": {
      "text/plain": [
       "['ques-q1\\tWhen was Steve Jobs born\\n',\n",
       " 'doc-0\\t./docs/doc1.txt\\thttps://en.wikipedia.org/wiki/Steve_Jobs\\n',\n",
       " '\\t\\tsent-0\\t\\tCentralNotice  From Wikipedia, the free encyclopedia Jump to navigation Jump to search This article is about the person.\\n',\n",
       " '\\t\\tsent-1\\t\\tFor other uses, see  Steve Jobs  disambiguation  American entrepreneur and co-founder of Apple Inc.\\n',\n",
       " '\\t\\tsent-2\\t\\tJobs in 2010 Steven Paul Jobs February 24, 1955 October 5, 2011 Palo Alto, California Alta Mesa Memorial Park Pioneer of the  personal computer revolution  with  Co-creator of the  , and first  US$7 billion  September 2011  Co-founder, Chairman, and CEO of  Primary investor and Chairman of  Founder, Chairman, and CEO of  The Walt Disney Company 4, including  Steven Paul Jobs ; February 24, 1955 \\xe2\\x80\\x93 October 5, 2011  was an American  , and  .\\n',\n",
       " \"\\t\\tsent-3\\t\\tHe was the chairman, chief executive officer  CEO , and co-founder of  , the chairman and majority shareholder of  , a member of  The Walt Disney Company 's board of directors following its acquisition of Pixar, and the founder, chairman, and CEO of  .\\n\",\n",
       " '\\t\\tsent-4\\t\\tJobs is widely recognized as a pioneer of the  personal computer revolution  of the 1970s and 1980s, along with Apple co-founder  Jobs was born in  , California, and put up for adoption.\\n',\n",
       " '\\t\\tsent-5\\t\\tHe was raised in the  San Francisco Bay Area .\\n',\n",
       " '\\t\\tsent-6\\t\\tHe attended   in 1972 before dropping out that same year, and  traveled through India  in 1974 seeking enlightenment and  studying Zen Buddhism .\\n',\n",
       " '\\t\\tsent-7\\t\\tHis declassified FBI report states that he used   and   while he was in college, and once told a reporter that taking LSD was \"one of the two or three most important things\" he had done in his life.\\n']"
      ]
     },
     "execution_count": 76,
     "metadata": {},
     "output_type": "execute_result"
    }
   ],
   "source": [
    "fp1=open('./question_top10.txt','r')\n",
    "lines=fp1.readlines()\n",
    "lines[:10]"
   ]
  },
  {
   "cell_type": "code",
   "execution_count": 77,
   "metadata": {
    "collapsed": true
   },
   "outputs": [],
   "source": [
    "fp1.close()"
   ]
  },
  {
   "cell_type": "markdown",
   "metadata": {},
   "source": [
    "### 0.2 Extracting potential answer type from question"
   ]
  },
  {
   "cell_type": "code",
   "execution_count": null,
   "metadata": {
    "collapsed": true
   },
   "outputs": [],
   "source": [
    "# s1='question_type.txt'\n",
    "# get_answer_type_main(question,s1,nlp)"
   ]
  },
  {
   "cell_type": "markdown",
   "metadata": {
    "collapsed": true
   },
   "source": [
    "#### [Input Data] \n",
    "question: \"When was Steve Jobs born?\"\n",
    "\n",
    "#### [Output Data]\n",
    "question_type.txt\n",
    "#### Output File:"
   ]
  },
  {
   "cell_type": "code",
   "execution_count": 15,
   "metadata": {},
   "outputs": [
    {
     "data": {
      "text/plain": [
       "['date\\n']"
      ]
     },
     "execution_count": 15,
     "metadata": {},
     "output_type": "execute_result"
    }
   ],
   "source": [
    "fp1=open('./question_type.txt','r')\n",
    "lines=fp1.readlines()\n",
    "lines"
   ]
  },
  {
   "cell_type": "code",
   "execution_count": 16,
   "metadata": {
    "collapsed": true
   },
   "outputs": [],
   "source": [
    "fp1.close()"
   ]
  },
  {
   "cell_type": "markdown",
   "metadata": {},
   "source": [
    "### 0.3 Extracting query terms from question"
   ]
  },
  {
   "cell_type": "code",
   "execution_count": null,
   "metadata": {
    "collapsed": true
   },
   "outputs": [],
   "source": [
    "# s1='question_subject_predicate.txt'\n",
    "# get_sub_pred_ques_main(question,s1,nlp)"
   ]
  },
  {
   "cell_type": "markdown",
   "metadata": {
    "collapsed": true
   },
   "source": [
    "#### [Input Data]\n",
    "question: \"When was Steve Jobs born?\"\n",
    "\n",
    "#### [Output Data]\n",
    "question_subject_predicate.txt\n",
    "#### Output File:"
   ]
  },
  {
   "cell_type": "code",
   "execution_count": 17,
   "metadata": {},
   "outputs": [
    {
     "data": {
      "text/plain": [
       "['was P\\n', 'Steve Jobs NE\\n', 'born P\\n']"
      ]
     },
     "execution_count": 17,
     "metadata": {},
     "output_type": "execute_result"
    }
   ],
   "source": [
    "fp1=open('./question_subject_predicate.txt','r')\n",
    "lines=fp1.readlines()\n",
    "lines"
   ]
  },
  {
   "cell_type": "code",
   "execution_count": 18,
   "metadata": {
    "collapsed": true
   },
   "outputs": [],
   "source": [
    "fp1.close()"
   ]
  },
  {
   "cell_type": "markdown",
   "metadata": {},
   "source": [
    "### 0.4 Extracting entities from all documents"
   ]
  },
  {
   "cell_type": "code",
   "execution_count": null,
   "metadata": {
    "collapsed": true
   },
   "outputs": [],
   "source": [
    "# s2='subjects_from_all_docs.txt'\n",
    "# get_all_subject_main(s11,s2,nlp)"
   ]
  },
  {
   "cell_type": "markdown",
   "metadata": {},
   "source": [
    "#### [Input Data] \n",
    "\"question_top10.txt\" (top 10 links with its sentences)\n",
    "\n",
    "#### [Output Data]\n",
    "subjects_from_all_docs.txt\n",
    "#### Output File:"
   ]
  },
  {
   "cell_type": "code",
   "execution_count": 25,
   "metadata": {},
   "outputs": [
    {
     "data": {
      "text/plain": [
       "['Yale School of Management\\n',\n",
       " 'sister Patty\\n',\n",
       " '34 people\\n',\n",
       " 'Five years later\\n',\n",
       " 'A-Changin\\n',\n",
       " 'Webarchive template wayback links Webarchive template webcite links Wikipedia\\n',\n",
       " 'Amelio-Jobs cooperation\\n',\n",
       " 'demand\\n',\n",
       " 'Apple office\\n',\n",
       " 'June 2008\\n',\n",
       " 'molded plastic case\\n',\n",
       " 'original Apple computers\\n',\n",
       " 'Syrian migration\\n',\n",
       " 'mansion\\n',\n",
       " 'other treatments\\n',\n",
       " 'Schuster\\n',\n",
       " 'votes\\n',\n",
       " 'clasps\\n',\n",
       " 'latter idea\\n',\n",
       " 'hormone imbalance\\n',\n",
       " 'Baig\\n',\n",
       " '$ 1.64 billion\\n',\n",
       " 'Mediterranean\\n',\n",
       " 'Three Faces\\n',\n",
       " 'Unstrip post\\xe2\\x80\\x90expand size\\n',\n",
       " 'biggest threat\\n',\n",
       " 'point A\\n',\n",
       " 'disappointing sales\\n',\n",
       " 'tenacity\\n',\n",
       " 'comparable technologies\\n',\n",
       " 'pride\\n',\n",
       " 'terrible mistake\\n',\n",
       " 'short movie\\n',\n",
       " 'nearly a decade\\n',\n",
       " 'California People\\n',\n",
       " 'May 1985\\n',\n",
       " 'late 1980s\\n',\n",
       " 'risk\\n',\n",
       " 'Monta Loma elementary school\\n',\n",
       " '100,000 units\\n',\n",
       " 'blanket\\n',\n",
       " 'little girl\\n',\n",
       " 'Getaway\\n',\n",
       " 'a day\\n',\n",
       " 'Reed College\\n',\n",
       " 'floppy disk drive\\n',\n",
       " 'Adoption Jobs\\n',\n",
       " 'updates\\n',\n",
       " 'longest _ content\\n',\n",
       " 'electronics\\n']"
      ]
     },
     "execution_count": 25,
     "metadata": {},
     "output_type": "execute_result"
    }
   ],
   "source": [
    "fp1=open('./subjects_from_all_docs.txt','r')\n",
    "lines=fp1.readlines()\n",
    "lines[:50]"
   ]
  },
  {
   "cell_type": "code",
   "execution_count": 26,
   "metadata": {
    "collapsed": true
   },
   "outputs": [],
   "source": [
    "fp1.close()"
   ]
  },
  {
   "cell_type": "markdown",
   "metadata": {},
   "source": [
    "### 0.5 Building AIDA mention dictionary for all entities"
   ]
  },
  {
   "cell_type": "code",
   "execution_count": null,
   "metadata": {
    "collapsed": true
   },
   "outputs": [],
   "source": [
    "# s1='mention_dict_all_docs'\n",
    "# get_mentions_main(s2,s1)"
   ]
  },
  {
   "cell_type": "markdown",
   "metadata": {
    "collapsed": true
   },
   "source": [
    "#### [Input Data]\n",
    "1.'question_subject_predicate.txt' (query terms from question: ['was P\\n', 'Steve Jobs NE\\n', 'born P\\n'])\n",
    "2.'subjects_from_all_docs.txt' (entities from all documents)\n",
    "\n",
    "#### [Output Data]\n",
    "mention_dict_all_docs\n",
    "#### Output File:"
   ]
  },
  {
   "cell_type": "code",
   "execution_count": 36,
   "metadata": {
    "scrolled": true
   },
   "outputs": [
    {
     "data": {
      "text/plain": [
       "['(dp0\\n',\n",
       " \"S'roy disney'\\n\",\n",
       " 'p1\\n',\n",
       " 'c__builtin__\\n',\n",
       " 'set\\n',\n",
       " 'p2\\n',\n",
       " '((lp3\\n',\n",
       " \"S'<roy_e._disney>'\\n\",\n",
       " 'p4\\n',\n",
       " \"aS'<roy_o._disney>'\\n\"]"
      ]
     },
     "execution_count": 36,
     "metadata": {},
     "output_type": "execute_result"
    }
   ],
   "source": [
    "fp1=open('./mention_dict_all_docs','r')\n",
    "lines=fp1.readlines()\n",
    "lines[:10]"
   ]
  },
  {
   "cell_type": "code",
   "execution_count": 37,
   "metadata": {
    "collapsed": true
   },
   "outputs": [],
   "source": [
    "fp1.close()"
   ]
  },
  {
   "cell_type": "markdown",
   "metadata": {},
   "source": [
    "## 1. QUEST"
   ]
  },
  {
   "cell_type": "markdown",
   "metadata": {},
   "source": [
    "### 1.1 Creating SPO Tuples"
   ]
  },
  {
   "cell_type": "code",
   "execution_count": null,
   "metadata": {
    "collapsed": true
   },
   "outputs": [],
   "source": [
    "# context_match_flag,NE_types=call_main_SPO(con, spo_file, option, context_len, verbose, nlp ,gt)\n",
    "# call_main_SPO(f1,f2,f3,f4,f5,nlp,gt)\n",
    "# f1=argv[1] #input file\n",
    "# f2=argv[2] #output file\n",
    "# f3=argv[3] #Option\n",
    "# f4=argv[4] #context Length\n",
    "# f5=argv[5] #verbose"
   ]
  },
  {
   "cell_type": "markdown",
   "metadata": {
    "collapsed": true
   },
   "source": [
    "#### [Input Data]\n",
    "    1.'./files/context_ques-q1'(generated by './question_top10.txt')\n",
    "    2. config: \t\n",
    "        c1=config['corpus'] \"question_top10.txt\"#input file with question, question type, context, answer, supporting fact\n",
    "        c2=config['mention_dict'] \"mention_dict_all_docs\" #input file with mention dictionary\n",
    "        c3=config['ques_ent_pred'] \"question_subject_predicate.txt\" #input file with question terms\n",
    "        c4=config['ans_type'] \"question_type.txt\" #input file with question answer types\n",
    "        c5=config['outfile'] \"answer.txt\" #output file\n",
    "\n",
    "#### [Output Data]\n",
    "    './files/SPO_paragraph_ques-q1.txt' \n",
    "    [document| address| sentence number| subject 1 | d1| predicate | d2 | subject 2]\n",
    "    d1: distance between subject 1 to predicate \n",
    "    d2: distance between predicate to subject 1 "
   ]
  },
  {
   "cell_type": "markdown",
   "metadata": {},
   "source": [
    "#### Input File:"
   ]
  },
  {
   "cell_type": "code",
   "execution_count": 40,
   "metadata": {
    "scrolled": false
   },
   "outputs": [
    {
     "data": {
      "text/plain": [
       "['doc-0\\t./docs/doc1.txt\\thttps://en.wikipedia.org/wiki/Steve_Jobs\\n',\n",
       " '\\t\\tsent-0\\t\\tCentralNotice  From Wikipedia, the free encyclopedia Jump to navigation Jump to search This article is about the person.\\n',\n",
       " '\\t\\tsent-1\\t\\tFor other uses, see  Steve Jobs  disambiguation  American entrepreneur and co-founder of Apple Inc.\\n',\n",
       " '\\t\\tsent-2\\t\\tJobs in 2010 Steven Paul Jobs February 24, 1955 October 5, 2011 Palo Alto, California Alta Mesa Memorial Park Pioneer of the  personal computer revolution  with  Co-creator of the  , and first  US$7 billion  September 2011  Co-founder, Chairman, and CEO of  Primary investor and Chairman of  Founder, Chairman, and CEO of  The Walt Disney Company 4, including  Steven Paul Jobs ; February 24, 1955 \\xe2\\x80\\x93 October 5, 2011  was an American  , and  .\\n',\n",
       " \"\\t\\tsent-3\\t\\tHe was the chairman, chief executive officer  CEO , and co-founder of  , the chairman and majority shareholder of  , a member of  The Walt Disney Company 's board of directors following its acquisition of Pixar, and the founder, chairman, and CEO of  .\\n\",\n",
       " '\\t\\tsent-4\\t\\tJobs is widely recognized as a pioneer of the  personal computer revolution  of the 1970s and 1980s, along with Apple co-founder  Jobs was born in  , California, and put up for adoption.\\n',\n",
       " '\\t\\tsent-5\\t\\tHe was raised in the  San Francisco Bay Area .\\n',\n",
       " '\\t\\tsent-6\\t\\tHe attended   in 1972 before dropping out that same year, and  traveled through India  in 1974 seeking enlightenment and  studying Zen Buddhism .\\n',\n",
       " '\\t\\tsent-7\\t\\tHis declassified FBI report states that he used   and   while he was in college, and once told a reporter that taking LSD was \"one of the two or three most important things\" he had done in his life.\\n',\n",
       " \"\\t\\tsent-8\\t\\tJobs and Wozniak co-founded Apple in 1976 to sell Wozniak's   personal computer.\\n\"]"
      ]
     },
     "execution_count": 40,
     "metadata": {},
     "output_type": "execute_result"
    }
   ],
   "source": [
    "fp1=open('./files/context_ques-q1','r')\n",
    "lines=fp1.readlines()\n",
    "lines[:10]"
   ]
  },
  {
   "cell_type": "code",
   "execution_count": 41,
   "metadata": {
    "collapsed": true
   },
   "outputs": [],
   "source": [
    "fp1.close()"
   ]
  },
  {
   "cell_type": "markdown",
   "metadata": {},
   "source": [
    "#### Output File:"
   ]
  },
  {
   "cell_type": "code",
   "execution_count": 38,
   "metadata": {},
   "outputs": [
    {
     "data": {
      "text/plain": [
       "['doc-0 | ./docs/doc1.txt | sent-0 | navigation Jump | 2 | search | 2 | article\\n',\n",
       " 'doc-0 | ./docs/doc1.txt | sent-0 | free encyclopedia Jump | 4 | search | 2 | article\\n',\n",
       " 'doc-0 | ./docs/doc1.txt | sent-0 | Wikipedia | 7 | search | 2 | article\\n',\n",
       " 'doc-0 | ./docs/doc1.txt | sent-0 | article | 1 | is about | 2 | person\\n',\n",
       " 'doc-0 | ./docs/doc1.txt | sent-1 | other uses | 2 | see | 1 | Steve Jobs disambiguation American entrepreneur\\n',\n",
       " 'doc-0 | ./docs/doc1.txt | sent-1 | other uses | 2 | see | 3 | co-founder\\n',\n",
       " 'doc-0 | ./docs/doc1.txt | sent-1 | other uses | 2 | see | 5 | Apple Inc\\n',\n",
       " 'doc-0 | ./docs/doc1.txt | sent-2 | California Alta Mesa Memorial Park Pioneer | 3 | personal computer revolution with | 5 | first US$ 7 billion September 2011 Co-founder\\n',\n",
       " 'doc-0 | ./docs/doc1.txt | sent-2 | California Alta Mesa Memorial Park Pioneer | 3 | personal computer revolution with | 7 | Chairman\\n',\n",
       " 'doc-0 | ./docs/doc1.txt | sent-2 | California Alta Mesa Memorial Park Pioneer | 3 | personal computer revolution with | 10 | CEO\\n']"
      ]
     },
     "execution_count": 38,
     "metadata": {},
     "output_type": "execute_result"
    }
   ],
   "source": [
    "fp1=open('./files/SPO_paragraph_ques-q1.txt','r')\n",
    "lines=fp1.readlines()\n",
    "lines[:10]"
   ]
  },
  {
   "cell_type": "code",
   "execution_count": 39,
   "metadata": {
    "collapsed": true
   },
   "outputs": [],
   "source": [
    "fp1.close()"
   ]
  },
  {
   "cell_type": "markdown",
   "metadata": {},
   "source": [
    "### 1.2 Building Graph "
   ]
  },
  {
   "cell_type": "code",
   "execution_count": null,
   "metadata": {
    "collapsed": true
   },
   "outputs": [],
   "source": [
    "# q_ent, cornerstones, QKG_match_flag = call_main_GRAPH(spo_file, con, terms, f2,QKG_file, cornerstone_file,gdict,prune,verbose,gt,NE_types,config)\n",
    "# call_main_GRAPH(f1, f2, f4, f5, f6, f7, gdict, prune, verbose, gt1, NE_types, config):\n",
    "# f1=argv[1] #input triple file\n",
    "# f2=argv[2] #input context file\n",
    "# f4=argv[4] #file with question terms\n",
    "# f5=argv[5] #mention dictionary pickle files\n",
    "# f6=argv[6] #output graph path\n",
    "# f7=argv[7] #OUTput cornerstone path"
   ]
  },
  {
   "cell_type": "markdown",
   "metadata": {
    "collapsed": true
   },
   "source": [
    "#### [Input Data]\n",
    "    1.[f1-triple file]~/quest/Code/files/SPO_paragraph_ques-q1.txt\n",
    "    2.[f2-context file]~/quest/Code/files/context_ques-q1 \n",
    "    3.[f4-file with question terms]~/quest/Code/question_subject_predicate.txt\n",
    "    4.[f5] config['mention_dict'] ~/quest/Code/mention_dict_all_docs, containing AIDA mentions for entities in corpora and questions\n",
    "\n",
    "#### [Output Data]\n",
    "    1.[f6-output graph path]~/quest/Code/files/QKG_ques-q1\n",
    "    2.[f7-output cornerstone path]~/quest/Code/files/QKG_cornerstones_ques-q1"
   ]
  },
  {
   "cell_type": "markdown",
   "metadata": {},
   "source": [
    "#### Input File:"
   ]
  },
  {
   "cell_type": "code",
   "execution_count": 43,
   "metadata": {},
   "outputs": [
    {
     "data": {
      "text/plain": [
       "['doc-0 | ./docs/doc1.txt | sent-0 | navigation Jump | 2 | search | 2 | article\\n',\n",
       " 'doc-0 | ./docs/doc1.txt | sent-0 | free encyclopedia Jump | 4 | search | 2 | article\\n',\n",
       " 'doc-0 | ./docs/doc1.txt | sent-0 | Wikipedia | 7 | search | 2 | article\\n',\n",
       " 'doc-0 | ./docs/doc1.txt | sent-0 | article | 1 | is about | 2 | person\\n',\n",
       " 'doc-0 | ./docs/doc1.txt | sent-1 | other uses | 2 | see | 1 | Steve Jobs disambiguation American entrepreneur\\n']"
      ]
     },
     "execution_count": 43,
     "metadata": {},
     "output_type": "execute_result"
    }
   ],
   "source": [
    "fp1=open('./files/SPO_paragraph_ques-q1.txt','r')\n",
    "lines=fp1.readlines()\n",
    "lines[:5]"
   ]
  },
  {
   "cell_type": "code",
   "execution_count": 45,
   "metadata": {},
   "outputs": [
    {
     "data": {
      "text/plain": [
       "['doc-0\\t./docs/doc1.txt\\thttps://en.wikipedia.org/wiki/Steve_Jobs\\n',\n",
       " '\\t\\tsent-0\\t\\tCentralNotice  From Wikipedia, the free encyclopedia Jump to navigation Jump to search This article is about the person.\\n',\n",
       " '\\t\\tsent-1\\t\\tFor other uses, see  Steve Jobs  disambiguation  American entrepreneur and co-founder of Apple Inc.\\n',\n",
       " '\\t\\tsent-2\\t\\tJobs in 2010 Steven Paul Jobs February 24, 1955 October 5, 2011 Palo Alto, California Alta Mesa Memorial Park Pioneer of the  personal computer revolution  with  Co-creator of the  , and first  US$7 billion  September 2011  Co-founder, Chairman, and CEO of  Primary investor and Chairman of  Founder, Chairman, and CEO of  The Walt Disney Company 4, including  Steven Paul Jobs ; February 24, 1955 \\xe2\\x80\\x93 October 5, 2011  was an American  , and  .\\n',\n",
       " \"\\t\\tsent-3\\t\\tHe was the chairman, chief executive officer  CEO , and co-founder of  , the chairman and majority shareholder of  , a member of  The Walt Disney Company 's board of directors following its acquisition of Pixar, and the founder, chairman, and CEO of  .\\n\"]"
      ]
     },
     "execution_count": 45,
     "metadata": {},
     "output_type": "execute_result"
    }
   ],
   "source": [
    "fp2=open('./files/context_ques-q1','r')\n",
    "lines=fp2.readlines()\n",
    "lines[:5]"
   ]
  },
  {
   "cell_type": "code",
   "execution_count": 48,
   "metadata": {},
   "outputs": [
    {
     "data": {
      "text/plain": [
       "['was P\\n', 'Steve Jobs NE\\n', 'born P\\n']"
      ]
     },
     "execution_count": 48,
     "metadata": {},
     "output_type": "execute_result"
    }
   ],
   "source": [
    "fp3=open('./question_subject_predicate.txt','r')\n",
    "lines=fp3.readlines()\n",
    "lines[:5]"
   ]
  },
  {
   "cell_type": "code",
   "execution_count": 52,
   "metadata": {},
   "outputs": [
    {
     "data": {
      "text/plain": [
       "['(dp0\\n',\n",
       " \"S'roy disney'\\n\",\n",
       " 'p1\\n',\n",
       " 'c__builtin__\\n',\n",
       " 'set\\n',\n",
       " 'p2\\n',\n",
       " '((lp3\\n',\n",
       " \"S'<roy_e._disney>'\\n\",\n",
       " 'p4\\n',\n",
       " \"aS'<roy_o._disney>'\\n\"]"
      ]
     },
     "execution_count": 52,
     "metadata": {},
     "output_type": "execute_result"
    }
   ],
   "source": [
    "fp4=open('./mention_dict_all_docs','r')\n",
    "lines=fp4.readlines()\n",
    "lines[:10]"
   ]
  },
  {
   "cell_type": "code",
   "execution_count": 53,
   "metadata": {
    "collapsed": true
   },
   "outputs": [],
   "source": [
    "fp1.close()\n",
    "fp2.close()\n",
    "fp3.close()\n",
    "fp4.close()"
   ]
  },
  {
   "cell_type": "markdown",
   "metadata": {},
   "source": [
    "#### Output File:"
   ]
  },
  {
   "cell_type": "code",
   "execution_count": 57,
   "metadata": {
    "collapsed": true
   },
   "outputs": [],
   "source": [
    "G1 = nx.read_gpickle(\"./files/QKG_ques-q1\")"
   ]
  },
  {
   "cell_type": "code",
   "execution_count": 60,
   "metadata": {},
   "outputs": [
    {
     "data": {
      "text/plain": [
       "(u'11 presentation lessons:Entity',\n",
       " {'did': ['doc-0'],\n",
       "  'dtitle': ['./docs/doc1.txt'],\n",
       "  'matched': '',\n",
       "  'sid': [('sent-858', 'doc-0')],\n",
       "  'weight': 0.0})"
      ]
     },
     "execution_count": 60,
     "metadata": {},
     "output_type": "execute_result"
    }
   ],
   "source": [
    "G1.nodes(data=True)[0]"
   ]
  },
  {
   "cell_type": "code",
   "execution_count": 61,
   "metadata": {},
   "outputs": [
    {
     "data": {
      "text/plain": [
       "(u'11 presentation lessons:Entity',\n",
       " u'learn from:Predicate:1',\n",
       " {'did': ['doc-0'],\n",
       "  'dtitle': ['./docs/doc1.txt'],\n",
       "  'etype': 'Triple',\n",
       "  'sid': [('sent-858', 'doc-0')],\n",
       "  'weight': 0.25,\n",
       "  'wlist': [0.25]})"
      ]
     },
     "execution_count": 61,
     "metadata": {},
     "output_type": "execute_result"
    }
   ],
   "source": [
    "G1.edges(data=True)[0]"
   ]
  },
  {
   "cell_type": "code",
   "execution_count": 67,
   "metadata": {
    "collapsed": true,
    "scrolled": true
   },
   "outputs": [],
   "source": [
    "G2 = nx.read_gpickle(\"./files/QKG_cornerstones_ques-q1\")"
   ]
  },
  {
   "cell_type": "code",
   "execution_count": 75,
   "metadata": {
    "scrolled": true
   },
   "outputs": [
    {
     "data": {
      "text/plain": [
       "{u'11 steve jobs:Entity': 'steve jobs',\n",
       " u'1985 jobs:Entity': 'steve jobs',\n",
       " u'1986 jobs:Entity': 'steve jobs',\n",
       " u'2003 jobs:Entity': 'steve jobs',\n",
       " u'2009 jobs:Entity': 'steve jobs',\n",
       " u'actor steve carell:Entity': 'steve jobs',\n",
       " u'adoption jobs:Entity': 'steve jobs',\n",
       " u'after jobs:Entity': 'steve jobs',\n",
       " u'apple co-founder 06 oct 2011 steve jobs:Entity': 'steve jobs',\n",
       " u'apple co-founder steve jobs:Entity': 'steve jobs',\n",
       " u'apple jobs:Entity': 'steve jobs',\n",
       " u'biological father steve jobs:Entity': 'steve jobs',\n",
       " u'birth after:Predicate:1': 'born',\n",
       " u'birth family during:Predicate:1': 'born',\n",
       " u'birth father:Predicate:1': 'born',\n",
       " u'birth mother out:Predicate:1': 'born',\n",
       " u'book steve jobs 2011:Entity': 'steve jobs',\n",
       " u'book steve jobs:Predicate:1': 'steve jobs',\n",
       " u'born in:Predicate:1': 'born',\n",
       " u'born in:Predicate:2': 'born',\n",
       " u'born in:Predicate:3': 'born',\n",
       " u'born in:Predicate:4': 'born',\n",
       " u'born in:Predicate:5': 'born',\n",
       " u'born in:Predicate:6': 'born',\n",
       " u'born in:Predicate:7': 'born',\n",
       " u'born in:Predicate:8': 'born',\n",
       " u'born into:Predicate:1': 'born',\n",
       " u'born on:Predicate:1': 'born',\n",
       " u'born on:Predicate:10': 'born',\n",
       " u'born on:Predicate:2': 'born',\n",
       " u'born on:Predicate:3': 'born',\n",
       " u'born on:Predicate:4': 'born',\n",
       " u'born on:Predicate:5': 'born',\n",
       " u'born on:Predicate:6': 'born',\n",
       " u'born on:Predicate:7': 'born',\n",
       " u'born on:Predicate:8': 'born',\n",
       " u'born on:Predicate:9': 'born',\n",
       " u'born out:Predicate:1': 'born',\n",
       " u'born:Predicate:1': 'born',\n",
       " u'born:Predicate:2': 'born',\n",
       " u'born:Predicate:3': 'born',\n",
       " u'born:Predicate:4': 'born',\n",
       " u'born:Predicate:5': 'born',\n",
       " u'born:Predicate:6': 'born',\n",
       " u'born:Predicate:7': 'born',\n",
       " u'born:Predicate:8': 'born',\n",
       " u'born:Predicate:9': 'born',\n",
       " u'brennan-jobs by:Predicate:1': 'steve jobs',\n",
       " u'british-born industrial designer:Entity': 'born',\n",
       " u'children jobs:Entity': 'steve jobs',\n",
       " u'clara jobs:Entity': 'steve jobs',\n",
       " u'death jobs:Entity': 'steve jobs',\n",
       " u'designs jobs:Entity': 'steve jobs',\n",
       " u'different jobs:Entity': 'steve jobs',\n",
       " u'disney steve jobs:Entity': 'steve jobs',\n",
       " u'edward c. steve jobs:Entity': 'steve jobs',\n",
       " u'emigrated from:Predicate:1': 'born',\n",
       " u'emotional jobs:Entity': 'steve jobs',\n",
       " u'favorite steve jobs memory:Entity': 'steve jobs',\n",
       " u'first jobs:Entity': 'steve jobs',\n",
       " u'friend steve jobs:Entity': 'steve jobs',\n",
       " u'january 1984 jobs:Entity': 'steve jobs',\n",
       " u'job as:Predicate:1': 'steve jobs',\n",
       " u'job at:Predicate:1': 'steve jobs',\n",
       " u'job with:Predicate:1': 'steve jobs',\n",
       " u'jobs as:Predicate:1': 'steve jobs',\n",
       " u'jobs as:Predicate:2': 'steve jobs',\n",
       " u'jobs as:Predicate:3': 'steve jobs',\n",
       " u'jobs at:Predicate:1': 'steve jobs',\n",
       " u'jobs because:Predicate:1': 'steve jobs',\n",
       " u'jobs biography:Entity': 'steve jobs',\n",
       " u'jobs by:Predicate:1': 'steve jobs',\n",
       " u'jobs convinced wozniak:Entity': 'steve jobs',\n",
       " u'jobs disney:Entity': 'steve jobs',\n",
       " u'jobs family:Entity': 'steve jobs',\n",
       " u'jobs first:Entity': 'steve jobs',\n",
       " u'jobs from:Predicate:1': 'steve jobs',\n",
       " u'jobs in:Predicate:1': 'steve jobs',\n",
       " u'jobs in:Predicate:2': 'steve jobs',\n",
       " u'jobs in:Predicate:3': 'steve jobs',\n",
       " u'jobs in:Predicate:4': 'steve jobs',\n",
       " u'jobs in:Predicate:5': 'steve jobs',\n",
       " u'jobs in:Predicate:6': 'steve jobs',\n",
       " u'jobs in:Predicate:7': 'steve jobs',\n",
       " u'jobs obit:Entity': 'steve jobs',\n",
       " u'jobs of:Predicate:1': 'steve jobs',\n",
       " u'jobs on:Predicate:1': 'steve jobs',\n",
       " u'jobs on:Predicate:2': 'steve jobs',\n",
       " u'jobs on:Predicate:3': 'steve jobs',\n",
       " u'jobs once:Entity': 'steve jobs',\n",
       " u'jobs outside:Predicate:1': 'steve jobs',\n",
       " u'jobs powerless within:Predicate:1': 'steve jobs',\n",
       " u'jobs steve jobs:Entity': 'steve jobs',\n",
       " u'jobs that:Predicate:1': 'steve jobs',\n",
       " u'jobs that:Predicate:2': 'steve jobs',\n",
       " u'jobs through:Predicate:1': 'steve jobs',\n",
       " u'jobs until:Predicate:1': 'steve jobs',\n",
       " u'jobs while:Predicate:1': 'steve jobs',\n",
       " u'jobs while:Predicate:2': 'steve jobs',\n",
       " u'jobs while:Predicate:3': 'steve jobs',\n",
       " u'jobs while:Predicate:4': 'steve jobs',\n",
       " u'last words jobs:Entity': 'steve jobs',\n",
       " u'lisa brennan jobs:Entity': 'steve jobs',\n",
       " u'lost steve jobs speech from:Predicate:1': 'steve jobs',\n",
       " u'married because:Predicate:1': 'born',\n",
       " u'married in:Predicate:1': 'born',\n",
       " u'married in:Predicate:2': 'born',\n",
       " u'married in:Predicate:3': 'born',\n",
       " u'married on:Predicate:1': 'born',\n",
       " u'married with:Predicate:1': 'born',\n",
       " u'married with:Predicate:2': 'born',\n",
       " u'married:Predicate:1': 'born',\n",
       " u'married:Predicate:2': 'born',\n",
       " u'married:Predicate:3': 'born',\n",
       " u'married:Predicate:4': 'born',\n",
       " u'married:Predicate:5': 'born',\n",
       " u'married:Predicate:6': 'born',\n",
       " u'married:Predicate:7': 'born',\n",
       " u'married:Predicate:8': 'born',\n",
       " u'massive layoffs clear out:Predicate:1': 'steve jobs',\n",
       " u'massive layoffs clear out:Predicate:2': 'steve jobs',\n",
       " u'name jobs:Entity': 'steve jobs',\n",
       " u'names jobs as:Predicate:1': 'steve jobs',\n",
       " u'one jobs:Entity': 'steve jobs',\n",
       " u'paul jobs:Entity': 'steve jobs',\n",
       " u'paul reinhold jobs:Entity': 'steve jobs',\n",
       " u'pixar ceo steve jobs:Entity': 'steve jobs',\n",
       " u'pixar jobs:Entity': 'steve jobs',\n",
       " u'private steve jobs memorial:Entity': 'steve jobs',\n",
       " u'profitability jobs on:Predicate:1': 'steve jobs',\n",
       " u'profitability jobs on:Predicate:2': 'steve jobs',\n",
       " u'profitability jobs on:Predicate:3': 'steve jobs',\n",
       " u'rebellious jobs:Entity': 'steve jobs',\n",
       " u'sister patti jobs:Entity': 'steve jobs',\n",
       " u'sizes jobs:Entity': 'steve jobs',\n",
       " u'steve jobs 1955-2011:Entity': 'steve jobs',\n",
       " u'steve jobs 1955:Entity': 'steve jobs',\n",
       " u'steve jobs aug 21 , 2019 apr 27 , 2017 steve jobs:Entity': 'steve jobs',\n",
       " u'steve jobs back:Entity': 'steve jobs',\n",
       " u'steve jobs bio:Entity': 'steve jobs',\n",
       " u'steve jobs biological father:Entity': 'steve jobs',\n",
       " u'steve jobs birthday:Entity': 'steve jobs',\n",
       " u'steve jobs disambiguation american entrepreneur:Entity': 'steve jobs',\n",
       " u'steve jobs down:Entity': 'steve jobs',\n",
       " u'steve jobs ezoic:Entity': 'steve jobs',\n",
       " u'steve jobs fact card steve jobs:Entity': 'steve jobs',\n",
       " u'steve jobs isaacson:Entity': 'steve jobs',\n",
       " u'steve jobs media:Entity': 'steve jobs',\n",
       " u'steve jobs memorial service:Entity': 'steve jobs',\n",
       " u'steve jobs press release:Entity': 'steve jobs',\n",
       " u'steve jobs regretted delaying cancer surgery 9 months:Entity': 'steve jobs',\n",
       " u'steve jobs significant:Entity': 'steve jobs',\n",
       " u'steve jobs so:Predicate:1': 'steve jobs',\n",
       " u'steve jobs statue:Entity': 'steve jobs',\n",
       " u'steve jobs story:Entity': 'steve jobs',\n",
       " u'steve jobs taught:Entity': 'steve jobs',\n",
       " u'steve jobs the new york times:Entity': 'steve jobs',\n",
       " u'steve jobs the times of:Predicate:1': 'steve jobs',\n",
       " u'steve jobs theatre:Entity': 'steve jobs',\n",
       " u'steve jobs timeline of:Predicate:1': 'steve jobs',\n",
       " u'steve jobs today:Entity': 'steve jobs',\n",
       " u'steve jobs told me:Entity': 'steve jobs',\n",
       " u'steve jobs will:Entity': 'steve jobs',\n",
       " u'steve jobs:Entity': 'steve jobs',\n",
       " u'steve thumbs:Entity': 'steve jobs',\n",
       " u'steven levy:Predicate:1': 'steve jobs',\n",
       " u'subsequent years jobs:Entity': 'steve jobs',\n",
       " u'thinner steve jobs:Entity': 'steve jobs',\n",
       " u'though steve:Entity': 'steve jobs',\n",
       " u'upon jobs:Entity': 'steve jobs',\n",
       " u'vault.fbi.gov steve jobs commencement speech:Entity': 'steve jobs',\n",
       " u'visionary steve jobs:Entity': 'steve jobs',\n",
       " u'wikiversity steve jobs:Entity': 'steve jobs',\n",
       " u'wozniak jobs:Entity': 'steve jobs',\n",
       " u'writer steve martin:Entity': 'steve jobs',\n",
       " u'young jobs:Entity': 'steve jobs',\n",
       " u'young steve jobs:Entity': 'steve jobs'}"
      ]
     },
     "execution_count": 75,
     "metadata": {},
     "output_type": "execute_result"
    }
   ],
   "source": [
    "G2"
   ]
  },
  {
   "cell_type": "markdown",
   "metadata": {},
   "source": [
    "### graph G1"
   ]
  },
  {
   "cell_type": "markdown",
   "metadata": {},
   "source": [
    "<img src=\"graph.png\">,"
   ]
  },
  {
   "cell_type": "code",
   "execution_count": null,
   "metadata": {
    "collapsed": true
   },
   "outputs": [],
   "source": []
  },
  {
   "cell_type": "markdown",
   "metadata": {},
   "source": [
    "### 1.3 Running GST Algorithm"
   ]
  },
  {
   "cell_type": "code",
   "execution_count": null,
   "metadata": {
    "collapsed": true
   },
   "outputs": [],
   "source": []
  }
 ],
 "metadata": {
  "kernelspec": {
   "display_name": "Python 2",
   "language": "python",
   "name": "python2"
  },
  "language_info": {
   "codemirror_mode": {
    "name": "ipython",
    "version": 2
   },
   "file_extension": ".py",
   "mimetype": "text/x-python",
   "name": "python",
   "nbconvert_exporter": "python",
   "pygments_lexer": "ipython2",
   "version": "2.7.13"
  }
 },
 "nbformat": 4,
 "nbformat_minor": 2
}
